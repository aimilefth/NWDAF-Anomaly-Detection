{
 "cells": [
  {
   "cell_type": "code",
   "execution_count": 52,
   "id": "24fac2e7",
   "metadata": {},
   "outputs": [],
   "source": [
    "import os\n",
    "\n",
    "import pandas as pd\n",
    "import numpy as np\n",
    "\n",
    "from functools import reduce\n",
    "from datetime import datetime, timedelta"
   ]
  },
  {
   "cell_type": "code",
   "execution_count": 53,
   "id": "2045b83d",
   "metadata": {},
   "outputs": [],
   "source": [
    "pd.set_option('display.max_columns', None)"
   ]
  },
  {
   "cell_type": "code",
   "execution_count": 54,
   "id": "257622df",
   "metadata": {},
   "outputs": [],
   "source": [
    "data_folder = \"../Data/Data v5\""
   ]
  },
  {
   "cell_type": "markdown",
   "id": "cf4935d6",
   "metadata": {},
   "source": [
    "## Data Parsing ENB Counters"
   ]
  },
  {
   "cell_type": "code",
   "execution_count": 55,
   "id": "b81ae2f7",
   "metadata": {},
   "outputs": [],
   "source": [
    "# uncomment for classic\n",
    "enb_counters_path = os.path.join(data_folder, \"nwdaf-classic/enb_counters.csv\")\n",
    "enb_name = \"classic\"\n",
    "\n",
    "# uncomment for mini\n",
    "# enb_counters_path = os.path.join(data_folder, \"nwdaf-mini/enb_counters.csv\")\n",
    "# enb_name = \"mini\""
   ]
  },
  {
   "cell_type": "code",
   "execution_count": 56,
   "id": "ab9eb211",
   "metadata": {},
   "outputs": [
    {
     "name": "stderr",
     "output_type": "stream",
     "text": [
      "<timed exec>:1: DtypeWarning: Columns (0,1,2,6) have mixed types. Specify dtype option on import or set low_memory=False.\n"
     ]
    },
    {
     "name": "stdout",
     "output_type": "stream",
     "text": [
      "CPU times: user 26.5 s, sys: 1.64 s, total: 28.1 s\n",
      "Wall time: 28.1 s\n"
     ]
    }
   ],
   "source": [
    "%%time\n",
    "\n",
    "enb_counters_data_df = pd.read_csv(enb_counters_path, skiprows = 3)\n",
    "\n",
    "enb_counters_data_df.drop(['Unnamed: 0', 'result'], axis = 1, inplace = True)\n",
    "enb_counters_data_df.dropna(how = 'all', inplace = True)\n",
    "enb_counters_data_df.drop(\n",
    "    enb_counters_data_df[\n",
    "        ~(enb_counters_data_df['table'].astype(str).str.isnumeric())\n",
    "    ].index, \n",
    "    inplace = True\n",
    ")\n",
    "\n",
    "enb_counters_data_df['_time'] = pd.to_datetime(enb_counters_data_df['_time'], format = 'mixed')\n",
    "\n",
    "enb_counters_ds = enb_counters_data_df.pivot(\n",
    "            index = ['_time'], \n",
    "            columns = '_field', \n",
    "            values = '_value'\n",
    "        ).reset_index()\n"
   ]
  },
  {
   "cell_type": "code",
   "execution_count": 57,
   "id": "ec03c64a",
   "metadata": {},
   "outputs": [],
   "source": [
    "enb_counters_ds.to_csv(os.path.join(data_folder,f'./enb_counters_data_{enb_name}_tabular.csv'), index = False)"
   ]
  },
  {
   "cell_type": "markdown",
   "id": "2d22d23c",
   "metadata": {},
   "source": [
    "## Data Unification"
   ]
  },
  {
   "cell_type": "code",
   "execution_count": 58,
   "id": "6aa5f861",
   "metadata": {},
   "outputs": [],
   "source": [
    "classic_ds = pd.read_csv(os.path.join(data_folder, 'enb_counters_data_classic_tabular.csv'))\n",
    "mini_ds = pd.read_csv(os.path.join(data_folder, 'enb_counters_data_mini_tabular.csv'))"
   ]
  },
  {
   "cell_type": "code",
   "execution_count": 60,
   "id": "341d0e60",
   "metadata": {},
   "outputs": [],
   "source": [
    "cell_1_cols = [*filter(lambda x: 'cell_' in x, list(classic_ds.columns))]\n",
    "cell_2_cols = [*filter(lambda x: 'cell_' in x, list(mini_ds.columns))]"
   ]
  },
  {
   "cell_type": "code",
   "execution_count": 61,
   "id": "652040b5",
   "metadata": {},
   "outputs": [
    {
     "name": "stdout",
     "output_type": "stream",
     "text": [
      "set()\n",
      "set()\n"
     ]
    }
   ],
   "source": [
    "cell_1_metrics = [*map(lambda x: x.split('_'), cell_1_cols)]\n",
    "cell_2_metrics = [*map(lambda x: x.split('_'), cell_2_cols)]\n",
    "\n",
    "cell_1_metrics = [*map(lambda x: '_'.join(x[x.index('1') + 1:]), cell_1_metrics)]\n",
    "cell_2_metrics = [*map(lambda x: '_'.join(x[x.index('2') + 1:]), cell_2_metrics)]\n",
    "\n",
    "\n",
    "print(set(cell_1_metrics) - set(cell_2_metrics))\n",
    "print(set(cell_2_metrics) - set(cell_1_metrics))"
   ]
  },
  {
   "cell_type": "code",
   "execution_count": 62,
   "id": "d4a0653e",
   "metadata": {},
   "outputs": [],
   "source": [
    "classic_ds['cell_id'] = 'cell_1'\n",
    "mini_ds['cell_id'] = 'cell_2'"
   ]
  },
  {
   "cell_type": "code",
   "execution_count": 64,
   "id": "3b813ba1",
   "metadata": {},
   "outputs": [],
   "source": [
    "classic_ds.rename(\n",
    "    columns = {\n",
    "        col_name : metric\n",
    "        for col_name, metric in zip(cell_1_cols, cell_1_metrics)\n",
    "    },\n",
    "    inplace = True\n",
    ")\n",
    "\n",
    "mini_ds.rename(\n",
    "    columns = {\n",
    "        col_name : metric\n",
    "        for col_name, metric in zip(cell_2_cols, cell_2_metrics)\n",
    "    },\n",
    "    inplace = True\n",
    ")"
   ]
  },
  {
   "cell_type": "markdown",
   "id": "4ac42b1b",
   "metadata": {},
   "source": [
    "### Labeling"
   ]
  },
  {
   "cell_type": "code",
   "execution_count": 73,
   "id": "32e6812f",
   "metadata": {},
   "outputs": [],
   "source": [
    "attack_1_start = \"2024-03-23 21:26:00\"\n",
    "attack_1_end = \"2024-03-23 22:23:00\"\n",
    "\n",
    "attack_2_start = \"2024-03-23 22:56:00\"\n",
    "attack_2_end = \"2024-03-23 23:56:00\"\n",
    "\n",
    "\n",
    "def label_df(df):\n",
    "    \n",
    "    attack_1_filter = df['_time'].between(attack_1_start, attack_1_end)\n",
    "    attack_2_filter = df['_time'].between(attack_2_start, attack_2_end)\n",
    "    \n",
    "    filter_ = (attack_1_filter | attack_2_filter)\n",
    "    \n",
    "    df['label'] = np.where(filter_, 1, 0)\n",
    "    \n",
    "    return df.copy()"
   ]
  },
  {
   "cell_type": "code",
   "execution_count": 75,
   "id": "a5771b47",
   "metadata": {},
   "outputs": [],
   "source": [
    "classic_ds['_time'] = pd.to_datetime(classic_ds['_time'], format = 'mixed')\n",
    "mini_ds['_time'] = pd.to_datetime(mini_ds['_time'], format = 'mixed')\n",
    "\n",
    "classic_ds = label_df(classic_ds)\n",
    "mini_ds = label_df(mini_ds)"
   ]
  },
  {
   "cell_type": "code",
   "execution_count": 76,
   "id": "fb085482",
   "metadata": {},
   "outputs": [],
   "source": [
    "classic_ds.to_csv(os.path.join(data_folder, \"enb_counters_data_classic_labeled.csv\"), index= False)\n",
    "mini_ds.to_csv(os.path.join(data_folder, \"enb_counters_data_mini_labeled.csv\"), index= False)"
   ]
  }
 ],
 "metadata": {
  "kernelspec": {
   "display_name": "privateer_venv",
   "language": "python",
   "name": "privateer_venv"
  },
  "language_info": {
   "codemirror_mode": {
    "name": "ipython",
    "version": 3
   },
   "file_extension": ".py",
   "mimetype": "text/x-python",
   "name": "python",
   "nbconvert_exporter": "python",
   "pygments_lexer": "ipython3",
   "version": "3.8.10"
  },
  "varInspector": {
   "cols": {
    "lenName": 16,
    "lenType": 16,
    "lenVar": 40
   },
   "kernels_config": {
    "python": {
     "delete_cmd_postfix": "",
     "delete_cmd_prefix": "del ",
     "library": "var_list.py",
     "varRefreshCmd": "print(var_dic_list())"
    },
    "r": {
     "delete_cmd_postfix": ") ",
     "delete_cmd_prefix": "rm(",
     "library": "var_list.r",
     "varRefreshCmd": "cat(var_dic_list()) "
    }
   },
   "types_to_exclude": [
    "module",
    "function",
    "builtin_function_or_method",
    "instance",
    "_Feature"
   ],
   "window_display": false
  }
 },
 "nbformat": 4,
 "nbformat_minor": 5
}
