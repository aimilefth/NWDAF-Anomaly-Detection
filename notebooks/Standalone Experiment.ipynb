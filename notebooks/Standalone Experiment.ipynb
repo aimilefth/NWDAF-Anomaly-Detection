{
 "cells": [
  {
   "cell_type": "code",
   "execution_count": 1,
   "metadata": {},
   "outputs": [],
   "source": [
    "import pandas as pd\n",
    "\n",
    "\n",
    "import os\n",
    "\n",
    "import sys\n",
    "sys.path.append('../')\n",
    "\n",
    "import torch.nn as nn\n",
    "import torch\n",
    "\n",
    "from dataloader.dataloader import *\n",
    "from training.training import *\n",
    "from models.rae import *\n",
    "from utils.utils import *\n",
    "from visualizations.visualizations import *\n",
    "from evaluation.evaluation import *"
   ]
  },
  {
   "cell_type": "code",
   "execution_count": 2,
   "metadata": {},
   "outputs": [
    {
     "name": "stdout",
     "output_type": "stream",
     "text": [
      "CUDA is not available. Training on CPU.\n"
     ]
    }
   ],
   "source": [
    "if torch.cuda.is_available():\n",
    "    device = torch.device(\"cuda\")\n",
    "    print(\"CUDA is available. Training on GPU.\")\n",
    "else:\n",
    "    device = torch.device(\"cpu\")\n",
    "    print(\"CUDA is not available. Training on CPU.\")"
   ]
  },
  {
   "cell_type": "code",
   "execution_count": 4,
   "metadata": {},
   "outputs": [
    {
     "name": "stderr",
     "output_type": "stream",
     "text": [
      "C:\\Users\\largy\\AppData\\Local\\Temp\\ipykernel_31344\\1554114771.py:2: DtypeWarning: Columns (16,24,26,27,32,62) have mixed types. Specify dtype option on import or set low_memory=False.\n",
      "  df = pd.read_csv(os.path.join(data_folder, \"amari_ue_data_final_v5_smoothed_scaled.csv\"))\n"
     ]
    }
   ],
   "source": [
    "data_folder = \"../Data/Data v5\"\n",
    "df = pd.read_csv(os.path.join(data_folder, \"amari_ue_data_final_v5_smoothed_scaled.csv\"))\n",
    "df = df.sort_values([\"imeisv\", \"_time\"], ascending = True)\n",
    "df['imeisv'] = df['imeisv'].astype(str)"
   ]
  },
  {
   "cell_type": "code",
   "execution_count": 5,
   "metadata": {},
   "outputs": [],
   "source": [
    "feature_columns = [\n",
    "    'dl_bitrate','ul_bitrate', \n",
    "    'cell_x_dl_retx', 'cell_x_dl_tx',\n",
    "    'cell_x_ul_retx', 'cell_x_ul_tx',\n",
    "    'ul_total_bytes_non_incr', 'dl_total_bytes_non_incr'\n",
    "]\n",
    "\n",
    "# feature_columns = [\n",
    "#     'dl_bitrate','ul_bitrate','ul_total_bytes_non_incr', 'dl_total_bytes_non_incr'\n",
    "# ]\n",
    "\n",
    "# feature_columns = [\n",
    "#     'ul_bitrate'\n",
    "# ]"
   ]
  },
  {
   "cell_type": "code",
   "execution_count": 6,
   "metadata": {},
   "outputs": [],
   "source": [
    "benign_data_starting_point = \"2024-03-20 14:14:50.19\"\n",
    "benign_data_ending_point = \"2024-03-23 16:26:19.00\"\n",
    "\n",
    "\n",
    "benign_filter_1 = (df['_time'].between(benign_data_starting_point, benign_data_ending_point))\n",
    "benign_filter_2 = (~df['imeisv'].isin(['8642840401594200', '8642840401612300','8642840401624200','3557821101183501']))\n",
    "benign_filter_3 = (df['label'] == 0)\n",
    "benign_data_filter = (benign_filter_1 & benign_filter_2 & benign_filter_3)"
   ]
  },
  {
   "cell_type": "code",
   "execution_count": 7,
   "metadata": {},
   "outputs": [
    {
     "name": "stdout",
     "output_type": "stream",
     "text": [
      "260051\n"
     ]
    }
   ],
   "source": [
    "# benign data\n",
    "benign_data_train = df[benign_data_filter].copy()\n",
    "benign_data_train = benign_data_train.sort_values(['imeisv','_time'])\n",
    "print(benign_data_train.shape[0])"
   ]
  },
  {
   "cell_type": "code",
   "execution_count": 8,
   "metadata": {},
   "outputs": [
    {
     "name": "stdout",
     "output_type": "stream",
     "text": [
      "90102\n"
     ]
    }
   ],
   "source": [
    "benign_data_test_period_start = \"2024-03-24 01:20:00.19\"\n",
    "benign_devices_for_testing = ['8609960468879057', '8628490433231157','8677660403123800']\n",
    "\n",
    "benign_filter_4 = (df['_time'] >= benign_data_test_period_start)\n",
    "benign_filter_5 = (df['imeisv'].isin(benign_devices_for_testing))\n",
    "benign_data_filter_test = (benign_filter_3 & benign_filter_4 & benign_filter_5)\n",
    "\n",
    "benign_data_test = df[benign_data_filter_test].copy()\n",
    "benign_data_test = benign_data_test.sort_values(['imeisv','_time'])\n",
    "print(benign_data_test.shape[0])"
   ]
  },
  {
   "cell_type": "code",
   "execution_count": 9,
   "metadata": {},
   "outputs": [
    {
     "name": "stdout",
     "output_type": "stream",
     "text": [
      "10971\n"
     ]
    }
   ],
   "source": [
    "#malicious data\n",
    "attck_1_start = \"2024-03-23 21:26:00\"\n",
    "attck_1_end = \"2024-03-23 22:23:00\"\n",
    "ues_to_exclude_in_1st_attck = [\n",
    "    '8628490433231157','8609960480666910',\n",
    "    '3557821101183501'] #'8677660403123800' '8642840401594200'\n",
    "\n",
    "attck_2_start = \"2024-03-23 22:56:00\"\n",
    "attck_2_end = \"2024-03-23 23:56:00\"\n",
    "ues_to_exclude_in_2nd_attck = [\n",
    "    '8609960480666910','8642840401612300'\n",
    "]\n",
    "\n",
    "mal_filter_1 = (\n",
    "    df['_time'].between(attck_1_start, attck_1_end)\n",
    "    & (~df['imeisv'].isin(ues_to_exclude_in_1st_attck))\n",
    ")\n",
    "\n",
    "mal_filter_2 = (\n",
    "    df['_time'].between(attck_2_start, attck_2_end)\n",
    "    & (~df['imeisv'].isin(ues_to_exclude_in_2nd_attck))\n",
    ")\n",
    "\n",
    "mal_filter_3 = (df['label'] == 1)\n",
    "\n",
    "malicious_data = df[(mal_filter_1 | mal_filter_2) & mal_filter_3].copy()\n",
    "malicious_data = malicious_data.sort_values(['imeisv','_time'])\n",
    "print(malicious_data.shape[0])"
   ]
  },
  {
   "cell_type": "code",
   "execution_count": null,
   "metadata": {},
   "outputs": [],
   "source": [
    "params = {'parameters': {'window_size': 120,\n",
    "  'step_size': 40,\n",
    "  'batch_size': 32,\n",
    "  'hidden_dim1': 50,\n",
    "  'hidden_dim2': 100,\n",
    "  'dropout': 0.2,\n",
    "  'layer_norm_flag': False,\n",
    "  'loss_function': 'L1Loss',\n",
    "  'lr': 0.001,\n",
    "  'num_epochs': 52},\n",
    " 'min_train_loss': 0.2222,\n",
    " 'min_val_loss': 0.348,\n",
    " 'min_train_val_gap': 0.1235,\n",
    " 'epochs_trained': 44,\n",
    " 'results_file': '../results/5bfa52f8-e8c6-4899-963d-3ebd80be60f9_history.pkl',\n",
    " 'timestamp': '2024-04-16 00:52:07.473140',\n",
    " 'rolling_avg': False,\n",
    " 'feature_columns': ['ul_bitrate'],\n",
    " 'dataset_used': 'no_outliers_scaled'}"
   ]
  },
  {
   "cell_type": "code",
   "execution_count": null,
   "metadata": {},
   "outputs": [],
   "source": [
    "train_data_loader, val_data_loader, mal_data_loader = create_ds_loader(\n",
    "                benign_data_train, \n",
    "                malicious_data, \n",
    "                params['parameters']['window_size'], \n",
    "                params['parameters']['step_size'], \n",
    "                feature_columns, \n",
    "                params['parameters']['batch_size']\n",
    "            )"
   ]
  },
  {
   "cell_type": "markdown",
   "metadata": {},
   "source": [
    "## Recurrent Autoencoder"
   ]
  },
  {
   "cell_type": "code",
   "execution_count": null,
   "metadata": {},
   "outputs": [],
   "source": [
    "rae_model = LSTMAutoencoder(\n",
    "    input_dim = len(feature_columns), \n",
    "    hidden_dim1 = params['parameters']['hidden_dim1'], \n",
    "    hidden_dim2 = params['parameters']['hidden_dim2'], \n",
    "    output_dim = len(feature_columns), \n",
    "    dropout = params['parameters']['dropout'], \n",
    "    layer_norm_flag = params['parameters']['layer_norm_flag']\n",
    ")\n",
    "\n",
    "rae_model.to(device)\n",
    "\n",
    "early_stopping = EarlyStopping(patience=7, min_delta=0.)\n",
    "criterion = nn.L1Loss()\n"
   ]
  },
  {
   "cell_type": "code",
   "execution_count": null,
   "metadata": {
    "scrolled": true
   },
   "outputs": [],
   "source": [
    "history = rae_model.train_model(\n",
    "    num_epochs = 64, \n",
    "    early_stopping = None, \n",
    "    train_data_loader = train_data_loader, \n",
    "    val_data_loader = val_data_loader, \n",
    "    mal_data_loader = mal_data_loader, \n",
    "    device = device, \n",
    "    criterion = criterion,  \n",
    "    lr = 0.001\n",
    ")"
   ]
  },
  {
   "cell_type": "code",
   "execution_count": null,
   "metadata": {},
   "outputs": [],
   "source": [
    "plot_train_val_loss(history.train_losses, history.val_losses)"
   ]
  },
  {
   "cell_type": "code",
   "execution_count": null,
   "metadata": {},
   "outputs": [],
   "source": [
    "test_batch_size = 1\n",
    "benign_test_data_loader, mal_test_data_loader = create_test_ds_loaders(\n",
    "    benign_data_test, \n",
    "    malicious_data, \n",
    "    120, \n",
    "    10, \n",
    "    features = feature_columns, \n",
    "    batch_size = test_batch_size\n",
    ")"
   ]
  },
  {
   "cell_type": "code",
   "execution_count": null,
   "metadata": {},
   "outputs": [],
   "source": [
    "benign_test_losses, mal_test_losses = evaluate(rae_model, criterion, benign_test_data_loader, mal_test_data_loader, device)\n",
    "#benign_test_losses, mal_test_losses = evaluate(rae_model, criterion, val_data_loader, mal_data_loader, device)"
   ]
  },
  {
   "cell_type": "code",
   "execution_count": null,
   "metadata": {},
   "outputs": [],
   "source": [
    "plot_scatter_plot_rec_loss(benign_test_losses, mal_test_losses)"
   ]
  },
  {
   "cell_type": "code",
   "execution_count": null,
   "metadata": {},
   "outputs": [],
   "source": [
    "fpr, tpr, thresholds, roc_auc, optimal_threshold = calculate_threshold(benign_test_losses, mal_test_losses)"
   ]
  },
  {
   "cell_type": "code",
   "execution_count": null,
   "metadata": {},
   "outputs": [],
   "source": [
    "plot_roc_curve(fpr, tpr, thresholds , roc_auc)"
   ]
  },
  {
   "cell_type": "code",
   "execution_count": null,
   "metadata": {},
   "outputs": [],
   "source": [
    "optimal_threshold"
   ]
  },
  {
   "cell_type": "code",
   "execution_count": null,
   "metadata": {},
   "outputs": [],
   "source": [
    "accuracy, precision, recall, f1, tp_rate, tn_rate, fp_rate, fn_rate = infer(benign_test_losses, mal_test_losses, optimal_threshold)"
   ]
  }
 ],
 "metadata": {
  "kernelspec": {
   "display_name": "privateer_venv",
   "language": "python",
   "name": "privateer_venv"
  },
  "language_info": {
   "codemirror_mode": {
    "name": "ipython",
    "version": 3
   },
   "file_extension": ".py",
   "mimetype": "text/x-python",
   "name": "python",
   "nbconvert_exporter": "python",
   "pygments_lexer": "ipython3",
   "version": "3.10.8"
  }
 },
 "nbformat": 4,
 "nbformat_minor": 4
}
