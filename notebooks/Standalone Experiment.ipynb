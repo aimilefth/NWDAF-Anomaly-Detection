{
 "cells": [
  {
   "cell_type": "code",
   "execution_count": null,
   "metadata": {},
   "outputs": [],
   "source": [
    "import pandas as pd\n",
    "\n",
    "\n",
    "import os\n",
    "\n",
    "import sys\n",
    "sys.path.append('../')\n",
    "\n",
    "import torch.nn as nn\n",
    "import torch\n",
    "\n",
    "from dataloader.dataloader import *\n",
    "from training.training import *\n",
    "from models.rae import *\n",
    "from utils.utils import *\n",
    "from visualizations.visualizations import *\n",
    "from evaluation.evaluation import *"
   ]
  },
  {
   "cell_type": "code",
   "execution_count": null,
   "metadata": {},
   "outputs": [],
   "source": [
    "if torch.cuda.is_available():\n",
    "    device = torch.device(\"cuda\")\n",
    "    print(\"CUDA is available. Training on GPU.\")\n",
    "else:\n",
    "    device = torch.device(\"cpu\")\n",
    "    print(\"CUDA is not available. Training on CPU.\")"
   ]
  },
  {
   "cell_type": "code",
   "execution_count": null,
   "metadata": {},
   "outputs": [],
   "source": [
    "data_folder = \"../Data/Data v5\"\n",
    "df = pd.read_csv(os.path.join(data_folder, \"amari_ue_data_final_v5_no_outliers_scaled.csv\"))\n",
    "df = df.sort_values([\"imeisv\", \"_time\"], ascending = True)"
   ]
  },
  {
   "cell_type": "code",
   "execution_count": null,
   "metadata": {},
   "outputs": [],
   "source": [
    "# feature_columns = [\n",
    "#     'dl_bitrate','ul_bitrate', \n",
    "#     'cell_x_dl_retx', 'cell_x_dl_tx',\n",
    "#     'cell_x_ul_retx', 'cell_x_ul_tx',\n",
    "#     'ul_total_bytes_non_incr', 'dl_total_bytes_non_incr'\n",
    "# ]\n",
    "\n",
    "# feature_columns = [\n",
    "#     'dl_bitrate','ul_bitrate','ul_total_bytes_non_incr', 'dl_total_bytes_non_incr'\n",
    "# ]\n",
    "\n",
    "feature_columns = [\n",
    "    'ul_bitrate'\n",
    "]"
   ]
  },
  {
   "cell_type": "code",
   "execution_count": null,
   "metadata": {},
   "outputs": [],
   "source": [
    "benign_data_starting_point = \"2024-03-20 14:14:50.19\"\n",
    "benign_data_ending_point = \"2024-03-23 16:26:19.00\"\n",
    "\n",
    "\n",
    "filter_1 = (df['_time'].between(benign_data_starting_point, benign_data_ending_point))\n",
    "filter_2 = (~df['imeisv'].isin(['8642840401594200', '8642840401612300','8642840401624200','3557821101183501']))\n",
    "\n",
    "df.drop(df[filter_1 & filter_2].index, inplace = True)\n",
    "benign_data = df[df['label'] == 0].copy()\n",
    "benign_data = benign_data.sort_values(['imeisv','_time'])\n",
    "print(benign_data.shape[0])\n",
    "malicious_data = df[df['label'] == 1].copy()\n",
    "malicious_data = malicious_data.sort_values(['imeisv','_time'])\n",
    "print(malicious_data.shape[0])"
   ]
  },
  {
   "cell_type": "code",
   "execution_count": null,
   "metadata": {},
   "outputs": [],
   "source": [
    "train_data_loader, val_data_loader, mal_data_loader = create_ds_loader(benign_data, malicious_data, 120, 40, feature_columns, 32)"
   ]
  },
  {
   "cell_type": "markdown",
   "metadata": {},
   "source": [
    "## Recurrent Autoencoder"
   ]
  },
  {
   "cell_type": "code",
   "execution_count": null,
   "metadata": {},
   "outputs": [],
   "source": [
    "rae_model = LSTMAutoencoder(\n",
    "    input_dim = len(feature_columns), \n",
    "    hidden_dim1 = 25, \n",
    "    hidden_dim2 = 50, \n",
    "    output_dim = len(feature_columns), \n",
    "    dropout = 0.2, \n",
    "    layer_norm_flag = True\n",
    ")\n",
    "\n",
    "rae_model.to(device)\n",
    "\n",
    "early_stopping = EarlyStopping(patience=7, min_delta=0.)\n",
    "criterion = nn.L1Loss()\n"
   ]
  },
  {
   "cell_type": "code",
   "execution_count": null,
   "metadata": {},
   "outputs": [],
   "source": [
    "history = rae_model.train_model(\n",
    "    num_epochs = 52, \n",
    "    early_stopping = early_stopping, \n",
    "    train_data_loader = train_data_loader, \n",
    "    val_data_loader = val_data_loader, \n",
    "    mal_data_loader = mal_data_loader, \n",
    "    device = device, \n",
    "    criterion = criterion,  \n",
    "    lr = 0.001\n",
    ")"
   ]
  },
  {
   "cell_type": "code",
   "execution_count": null,
   "metadata": {},
   "outputs": [],
   "source": [
    "plot_train_val_loss(history.train_losses, history.val_losses)"
   ]
  },
  {
   "cell_type": "code",
   "execution_count": null,
   "metadata": {},
   "outputs": [],
   "source": [
    "# test_batch_size = 1\n",
    "# benign_test_data_loader, mal_test_data_loader = create_test_ds_loaders(\n",
    "#     benign_data, \n",
    "#     malicious_data, \n",
    "#     250, \n",
    "#     30, \n",
    "#     features = feature_columns, \n",
    "#     batch_size = test_batch_size\n",
    "# )"
   ]
  },
  {
   "cell_type": "code",
   "execution_count": null,
   "metadata": {},
   "outputs": [],
   "source": [
    "#benign_test_losses, mal_test_losses = evaluate(rae_model, criterion, benign_test_data_loader, mal_test_data_loader, device) len(val_data_loader), len(mal_data_loader)\n",
    "benign_test_losses, mal_test_losses = evaluate(rae_model, criterion, val_data_loader, mal_data_loader, device)"
   ]
  },
  {
   "cell_type": "code",
   "execution_count": null,
   "metadata": {},
   "outputs": [],
   "source": [
    "plot_scatter_plot_rec_loss(benign_test_losses, mal_test_losses)"
   ]
  },
  {
   "cell_type": "code",
   "execution_count": null,
   "metadata": {},
   "outputs": [],
   "source": [
    "fpr, tpr, thresholds, roc_auc, optimal_threshold = calculate_threshold(benign_test_losses, mal_test_losses)"
   ]
  },
  {
   "cell_type": "code",
   "execution_count": null,
   "metadata": {},
   "outputs": [],
   "source": [
    "plot_roc_curve(fpr, tpr, thresholds , roc_auc)"
   ]
  },
  {
   "cell_type": "code",
   "execution_count": null,
   "metadata": {},
   "outputs": [],
   "source": [
    "accuracy, precision, recall, f1, tp_rate, tn_rate, fp_rate, fn_rate = infer(benign_test_losses, mal_test_losses, optimal_threshold)"
   ]
  }
 ],
 "metadata": {
  "kernelspec": {
   "display_name": "privateer_venv",
   "language": "python",
   "name": "privateer_venv"
  },
  "language_info": {
   "codemirror_mode": {
    "name": "ipython",
    "version": 3
   },
   "file_extension": ".py",
   "mimetype": "text/x-python",
   "name": "python",
   "nbconvert_exporter": "python",
   "pygments_lexer": "ipython3",
   "version": "3.10.8"
  },
  "varInspector": {
   "cols": {
    "lenName": 16,
    "lenType": 16,
    "lenVar": 40
   },
   "kernels_config": {
    "python": {
     "delete_cmd_postfix": "",
     "delete_cmd_prefix": "del ",
     "library": "var_list.py",
     "varRefreshCmd": "print(var_dic_list())"
    },
    "r": {
     "delete_cmd_postfix": ") ",
     "delete_cmd_prefix": "rm(",
     "library": "var_list.r",
     "varRefreshCmd": "cat(var_dic_list()) "
    }
   },
   "types_to_exclude": [
    "module",
    "function",
    "builtin_function_or_method",
    "instance",
    "_Feature"
   ],
   "window_display": false
  }
 },
 "nbformat": 4,
 "nbformat_minor": 2
}
