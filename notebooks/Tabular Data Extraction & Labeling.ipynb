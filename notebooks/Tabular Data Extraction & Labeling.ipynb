{
 "cells": [
  {
   "cell_type": "code",
   "execution_count": null,
   "id": "24fac2e7",
   "metadata": {},
   "outputs": [],
   "source": [
    "import os\n",
    "\n",
    "import pandas as pd\n",
    "import numpy as np\n",
    "\n",
    "from functools import reduce\n",
    "from datetime import datetime, timedelta"
   ]
  },
  {
   "cell_type": "code",
   "execution_count": null,
   "id": "2045b83d",
   "metadata": {},
   "outputs": [],
   "source": [
    "pd.set_option('display.max_columns', None)"
   ]
  },
  {
   "cell_type": "code",
   "execution_count": null,
   "id": "257622df",
   "metadata": {},
   "outputs": [],
   "source": [
    "data_folder = \"../Data/Data v5\""
   ]
  },
  {
   "cell_type": "markdown",
   "id": "3315f277",
   "metadata": {},
   "source": [
    "## Data Parsing"
   ]
  },
  {
   "cell_type": "code",
   "execution_count": null,
   "id": "d3ca80ac",
   "metadata": {},
   "outputs": [],
   "source": [
    "# uncomment for classic\n",
    "amari_ue_data_path = os.path.join(data_folder, \"nwdaf-classic/amari_ue_data.csv\")\n",
    "enb_counters_path = os.path.join(data_folder, \"nwdaf-classic/amari_ue_data.csv\")\n",
    "enb_name = \"classic\"\n",
    "\n",
    "# uncomment for mini\n",
    "# amari_ue_data_path = os.path.join(data_folder, \"nwdaf-mini/amari_ue_data.csv\")\n",
    "# enb_counters_path = os.path.join(data_folder, \"nwdaf-mini/enb_counters.csv\")\n",
    "# enb_name = \"mini\""
   ]
  },
  {
   "cell_type": "code",
   "execution_count": null,
   "id": "36e4b8e4",
   "metadata": {
    "scrolled": true
   },
   "outputs": [],
   "source": [
    "%%time\n",
    "\n",
    "amari_ue_data_df = pd.read_csv(amari_ue_data_path, skiprows = 3)\n",
    "\n",
    "amari_ue_data_df.drop(['Unnamed: 0', 'result'], axis = 1, inplace = True)\n",
    "amari_ue_data_df.dropna(how = 'all', inplace = True)\n",
    "amari_ue_data_df.drop(\n",
    "    amari_ue_data_df[\n",
    "        ~(amari_ue_data_df['table'].astype(str).str.isnumeric())\n",
    "    ].index, \n",
    "    inplace = True\n",
    ")\n",
    "\n",
    "amari_ue_data_df['_time'] = pd.to_datetime(amari_ue_data_df['_time'], format = 'ISO8601')\n",
    "amari_ue_data_df['imeisv'] = amari_ue_data_df['imeisv'].astype(str)\n",
    "\n",
    "imeisv_dfs = {}\n",
    "for imeisv, indices in amari_ue_data_df.groupby('imeisv').groups.items():\n",
    "    imeisv_dfs[imeisv] = (\n",
    "        amari_ue_data_df.loc[indices].copy()\n",
    "        .pivot(\n",
    "            index = ['_time','imeisv'], \n",
    "            columns = '_field', \n",
    "            values = '_value'\n",
    "        )\n",
    "        .reset_index()\n",
    "    )\n",
    "    \n",
    "amari_ue_data_ds = pd.concat(list(imeisv_dfs.values()), axis = 0)"
   ]
  },
  {
   "cell_type": "code",
   "execution_count": null,
   "id": "99b61a2c",
   "metadata": {},
   "outputs": [],
   "source": [
    "#amari_ue_data_ds.to_csv(os.path.join(data_folder,f'./amari_ue_data_{enb_name}_tabular.csv'), index = False)"
   ]
  },
  {
   "cell_type": "markdown",
   "id": "2d22d23c",
   "metadata": {},
   "source": [
    "## Data Merging"
   ]
  },
  {
   "cell_type": "code",
   "execution_count": null,
   "id": "6aa5f861",
   "metadata": {},
   "outputs": [],
   "source": [
    "classic_ds = pd.read_csv(os.path.join(data_folder, 'amari_ue_data_classic_tabular.csv'))\n",
    "mini_ds = pd.read_csv(os.path.join(data_folder, 'amari_ue_data_mini_tabular.csv'))"
   ]
  },
  {
   "cell_type": "code",
   "execution_count": null,
   "id": "5ddfbf43",
   "metadata": {},
   "outputs": [],
   "source": [
    "merged_ds = pd.concat([classic_ds, mini_ds], axis = 0, ignore_index = True)"
   ]
  },
  {
   "cell_type": "code",
   "execution_count": null,
   "id": "69c30d59",
   "metadata": {},
   "outputs": [],
   "source": [
    "cell_1_cols = [ 'cell_1_cell_id',\n",
    " 'cell_1_cqi',\n",
    " 'cell_1_dl_bitrate',\n",
    " 'cell_1_dl_err',\n",
    " 'cell_1_dl_mcs',\n",
    " 'cell_1_dl_retx',\n",
    " 'cell_1_dl_tx',\n",
    " 'cell_1_epre',\n",
    " 'cell_1_initial_ta',\n",
    " 'cell_1_p_ue',\n",
    " 'cell_1_pusch_snr',\n",
    " 'cell_1_ri',\n",
    " 'cell_1_turbo_decoder_avg',\n",
    " 'cell_1_turbo_decoder_max',\n",
    " 'cell_1_turbo_decoder_min',\n",
    " 'cell_1_ul_bitrate',\n",
    " 'cell_1_ul_err',\n",
    " 'cell_1_ul_mcs',\n",
    " 'cell_1_ul_n_layer',\n",
    " 'cell_1_ul_path_loss',\n",
    " 'cell_1_ul_phr',\n",
    " 'cell_1_ul_rank',\n",
    " 'cell_1_ul_retx',\n",
    " 'cell_1_ul_tx']\n",
    "\n",
    "cell_2_cols = [\n",
    "'cell_2_cell_id',\n",
    " 'cell_2_cqi',\n",
    " 'cell_2_dl_bitrate',\n",
    " 'cell_2_dl_err',\n",
    " 'cell_2_dl_mcs',\n",
    " 'cell_2_dl_retx',\n",
    " 'cell_2_dl_tx',\n",
    " 'cell_2_epre',\n",
    " 'cell_2_initial_ta',\n",
    " 'cell_2_p_ue',\n",
    " 'cell_2_pusch_snr',\n",
    " 'cell_2_ri',\n",
    " 'cell_2_turbo_decoder_avg',\n",
    " 'cell_2_turbo_decoder_max',\n",
    " 'cell_2_turbo_decoder_min',\n",
    " 'cell_2_ul_bitrate',\n",
    " 'cell_2_ul_err',\n",
    " 'cell_2_ul_mcs',\n",
    " 'cell_2_ul_n_layer',\n",
    " 'cell_2_ul_path_loss',\n",
    " 'cell_2_ul_phr',\n",
    " 'cell_2_ul_rank',\n",
    " 'cell_2_ul_retx',\n",
    " 'cell_2_ul_tx'\n",
    "]"
   ]
  },
  {
   "cell_type": "code",
   "execution_count": null,
   "id": "2116b5c5",
   "metadata": {},
   "outputs": [],
   "source": [
    "cell_1_metrics = [*map(lambda x: x.split('_'), cell_1_cols)]\n",
    "cell_2_metrics = [*map(lambda x: x.split('_'), cell_2_cols)]\n",
    "\n",
    "cell_1_metrics = [*map(lambda x: '_'.join(x[x.index('1') + 1:]), cell_1_metrics)]\n",
    "cell_2_metrics = [*map(lambda x: '_'.join(x[x.index('2') + 1:]), cell_2_metrics)]\n",
    "\n",
    "\n",
    "print(set(cell_1_metrics) - set(cell_2_metrics))\n",
    "print(set(cell_2_metrics) - set(cell_1_metrics))"
   ]
  },
  {
   "cell_type": "code",
   "execution_count": null,
   "id": "4a6173a6",
   "metadata": {},
   "outputs": [],
   "source": [
    "cell_metrics_dict = {cell_1_metric: cell_2_metric for cell_1_metric, cell_2_metric in  zip(cell_1_cols, cell_2_cols)}"
   ]
  },
  {
   "cell_type": "code",
   "execution_count": null,
   "id": "4ebb9842",
   "metadata": {},
   "outputs": [],
   "source": [
    "i = 0\n",
    "for col1, col2 in cell_metrics_dict.items():\n",
    "    merged_ds[f'cell_x_{cell_1_metrics[i]}'] = np.where(pd.isnull(merged_ds[col1]), merged_ds[col2], merged_ds[col1])\n",
    "    merged_ds.drop(col1, axis = 1, inplace = True)\n",
    "    merged_ds.drop(col2, axis = 1, inplace = True)\n",
    "    i+= 1"
   ]
  },
  {
   "cell_type": "code",
   "execution_count": null,
   "id": "bbc64ebe",
   "metadata": {},
   "outputs": [],
   "source": [
    "'bearer_1_ipv6' in list(mini_ds.columns), 'bearer_1_ipv6' in list(classic_ds.columns)"
   ]
  },
  {
   "cell_type": "code",
   "execution_count": null,
   "id": "6d685870",
   "metadata": {},
   "outputs": [],
   "source": [
    "merged_ds.to_csv(os.path.join(data_folder, \"amari_ue_data_merged_v5.csv\"), index= False)"
   ]
  },
  {
   "cell_type": "markdown",
   "id": "4ac42b1b",
   "metadata": {},
   "source": [
    "### Labeling"
   ]
  },
  {
   "cell_type": "code",
   "execution_count": null,
   "id": "e55f1fb3",
   "metadata": {},
   "outputs": [],
   "source": [
    "merged_ds = pd.read_csv(os.path.join(data_folder, \"amari_ue_data_merged_v5.csv\"))"
   ]
  },
  {
   "cell_type": "code",
   "execution_count": null,
   "id": "e78bb6bf",
   "metadata": {},
   "outputs": [],
   "source": [
    "summary_df = pd.read_csv(os.path.join(data_folder, \"summary_df.csv\"))"
   ]
  },
  {
   "cell_type": "code",
   "execution_count": null,
   "id": "a5771b47",
   "metadata": {},
   "outputs": [],
   "source": [
    "attck_1_start = \"2024-03-23 21:26:00\"\n",
    "attck_1_end = \"2024-03-23 22:23:00\"\n",
    "\n",
    "attck_2_start = \"2024-03-23 22:56:00\"\n",
    "attck_2_end = \"2024-03-23 23:56:00\""
   ]
  },
  {
   "cell_type": "code",
   "execution_count": null,
   "id": "42e481e6",
   "metadata": {},
   "outputs": [],
   "source": [
    "merged_ds['imeisv'] = merged_ds['imeisv'].astype(str)\n",
    "merged_ds['_time'] = pd.to_datetime(merged_ds['_time'], format = 'ISO8601')"
   ]
  },
  {
   "cell_type": "code",
   "execution_count": null,
   "id": "8d8e41ce",
   "metadata": {},
   "outputs": [],
   "source": [
    "attack_1_filter = (\n",
    "    (merged_ds['_time'].between(\n",
    "        attck_1_start, \n",
    "        attck_1_end, \n",
    "        inclusive = 'both')\n",
    "    ) & \n",
    "    (merged_ds['imeisv'].isin(\n",
    "            summary_df[\n",
    "                summary_df['ROLE'] == \"MALICIOUS USER\"\n",
    "            ]['IMEISV'].astype(str).tolist()\n",
    "        )\n",
    "    )\n",
    ")\n",
    "\n",
    "attack_2_filter = (\n",
    "    (merged_ds['_time'].between(\n",
    "        attck_2_start, \n",
    "        attck_2_end, \n",
    "        inclusive = 'both')\n",
    "    ) & \n",
    "    (merged_ds['imeisv'].isin(\n",
    "            summary_df[\n",
    "                summary_df['ROLE'] == \"MALICIOUS USER\"\n",
    "            ]['IMEISV'].astype(str).tolist()\n",
    "        )\n",
    "    )\n",
    ")"
   ]
  },
  {
   "cell_type": "code",
   "execution_count": null,
   "id": "08753452",
   "metadata": {},
   "outputs": [],
   "source": [
    "attack_1_filter.sum()"
   ]
  },
  {
   "cell_type": "code",
   "execution_count": null,
   "id": "77e9f2fc",
   "metadata": {},
   "outputs": [],
   "source": [
    "attack_2_filter.sum()"
   ]
  },
  {
   "cell_type": "code",
   "execution_count": null,
   "id": "2b47a421",
   "metadata": {},
   "outputs": [],
   "source": [
    "merged_ds['label'] = np.where((attack_1_filter | attack_2_filter), 1, 0)"
   ]
  },
  {
   "cell_type": "code",
   "execution_count": null,
   "id": "a4e9a1ef",
   "metadata": {},
   "outputs": [],
   "source": [
    "merged_ds.drop(merged_ds[\n",
    "    merged_ds['imeisv'] == '8642840402500000'\n",
    "].index, inplace = True)"
   ]
  },
  {
   "cell_type": "code",
   "execution_count": null,
   "id": "fb085482",
   "metadata": {},
   "outputs": [],
   "source": [
    "merged_ds.to_csv(os.path.join(data_folder, \"amari_ue_data_merged_labeled_v5.csv\"), index= False)"
   ]
  },
  {
   "cell_type": "markdown",
   "id": "7e31ef64",
   "metadata": {},
   "source": [
    "## Fix interuption of periodicity"
   ]
  },
  {
   "cell_type": "code",
   "execution_count": null,
   "id": "d2556a21",
   "metadata": {},
   "outputs": [],
   "source": [
    "merged_ds = pd.read_csv(os.path.join(data_folder, \"amari_ue_data_merged_labeled_v5.csv\"))"
   ]
  },
  {
   "cell_type": "code",
   "execution_count": null,
   "id": "7f92c098",
   "metadata": {},
   "outputs": [],
   "source": [
    "merged_ds['imeisv'] = merged_ds['imeisv'].astype(str)"
   ]
  },
  {
   "cell_type": "code",
   "execution_count": null,
   "id": "1909bf92",
   "metadata": {},
   "outputs": [],
   "source": [
    "merged_ds['_time'] = pd.to_datetime(merged_ds['_time'], format = \"ISO8601\")"
   ]
  },
  {
   "cell_type": "code",
   "execution_count": null,
   "id": "3d15ff26",
   "metadata": {},
   "outputs": [],
   "source": [
    "periodicity = timedelta(seconds=5)"
   ]
  },
  {
   "cell_type": "code",
   "execution_count": null,
   "id": "f9470383",
   "metadata": {},
   "outputs": [],
   "source": [
    "periodicity"
   ]
  },
  {
   "cell_type": "code",
   "execution_count": null,
   "id": "6d665c7d",
   "metadata": {},
   "outputs": [],
   "source": [
    "merged_ds_sorted = merged_ds.sort_values(['imeisv','_time'], ascending = True)"
   ]
  },
  {
   "cell_type": "code",
   "execution_count": null,
   "id": "2e4a1789",
   "metadata": {},
   "outputs": [],
   "source": [
    "merged_ds_sorted['time_diff'] = merged_ds_sorted['_time'].diff().dt.total_seconds()"
   ]
  },
  {
   "cell_type": "code",
   "execution_count": null,
   "id": "cb7ff103",
   "metadata": {},
   "outputs": [],
   "source": [
    "merged_ds_sorted['prev_imeisv'] = merged_ds_sorted['imeisv'].shift(1)"
   ]
  },
  {
   "cell_type": "code",
   "execution_count": null,
   "id": "c1f91e15",
   "metadata": {},
   "outputs": [],
   "source": [
    "merged_ds_sorted['prev_imeisv'].fillna('', inplace = True)\n",
    "merged_ds_sorted['prev_imeisv'] = merged_ds_sorted['prev_imeisv'].astype(str)"
   ]
  },
  {
   "cell_type": "code",
   "execution_count": null,
   "id": "ec69e20c",
   "metadata": {},
   "outputs": [],
   "source": [
    "merged_ds_sorted['prev_time'] = merged_ds_sorted['_time'].shift(1)"
   ]
  },
  {
   "cell_type": "code",
   "execution_count": null,
   "id": "d9623f21",
   "metadata": {},
   "outputs": [],
   "source": [
    "periodicity_breaks = merged_ds_sorted[\n",
    "   (merged_ds_sorted['time_diff'] >= 10)\n",
    "&  ~ (merged_ds_sorted['imeisv'] != merged_ds_sorted['prev_imeisv'])\n",
    "].copy().sort_values(['imeisv','_time'], ascending = True)"
   ]
  },
  {
   "cell_type": "code",
   "execution_count": null,
   "id": "32dc02d9",
   "metadata": {},
   "outputs": [],
   "source": [
    "periodicity_breaks['num_of_periods'] = periodicity_breaks['time_diff']/5"
   ]
  },
  {
   "cell_type": "code",
   "execution_count": null,
   "id": "d65ab639",
   "metadata": {},
   "outputs": [],
   "source": [
    "periodicity_breaks['date_range'] = periodicity_breaks.apply(\n",
    "    lambda row: pd.date_range(\n",
    "        start=row['prev_time'], \n",
    "        periods=row['num_of_periods'], \n",
    "        freq=periodicity\n",
    "    ),\n",
    "    axis = 1\n",
    ")"
   ]
  },
  {
   "cell_type": "code",
   "execution_count": null,
   "id": "51cf7edf",
   "metadata": {},
   "outputs": [],
   "source": [
    "feature_columns = [\n",
    "       '5g_tmsi', 'amf_ue_id', 'bearer_0_apn',\n",
    "       'bearer_0_dl_total_bytes', 'bearer_0_ip', 'bearer_0_pdu_session_id',\n",
    "       'bearer_0_qos_flow_id', 'bearer_0_sst', 'bearer_0_ul_total_bytes',\n",
    "       'dl_bitrate', 'ran_id', 'ran_plmn', 'ran_ue_id', 'registered', 'rnti',\n",
    "       't3512', 'tac', 'tac_plmn', 'ue_aggregate_max_bitrate_dl',\n",
    "       'ue_aggregate_max_bitrate_ul', 'ul_bitrate', 'bearer_1_apn',\n",
    "       'bearer_1_dl_total_bytes', 'bearer_1_ip', 'bearer_1_ipv6',\n",
    "       'bearer_1_pdu_session_id', 'bearer_1_qos_flow_id', 'bearer_1_sst',\n",
    "       'bearer_1_ul_total_bytes', 'bearer_0_ipv6', 'cell_x_cell_id',\n",
    "       'cell_x_cqi', 'cell_x_dl_bitrate', 'cell_x_dl_err', 'cell_x_dl_mcs',\n",
    "       'cell_x_dl_retx', 'cell_x_dl_tx', 'cell_x_epre', 'cell_x_initial_ta',\n",
    "       'cell_x_p_ue', 'cell_x_pusch_snr', 'cell_x_ri',\n",
    "       'cell_x_turbo_decoder_avg', 'cell_x_turbo_decoder_max',\n",
    "       'cell_x_turbo_decoder_min', 'cell_x_ul_bitrate', 'cell_x_ul_err',\n",
    "       'cell_x_ul_mcs', 'cell_x_ul_n_layer', 'cell_x_ul_path_loss',\n",
    "       'cell_x_ul_phr', 'cell_x_ul_rank', 'cell_x_ul_retx', 'cell_x_ul_tx'\n",
    "]"
   ]
  },
  {
   "cell_type": "code",
   "execution_count": null,
   "id": "673034e8",
   "metadata": {},
   "outputs": [],
   "source": [
    "periodicity_breaks_exploded = periodicity_breaks.explode('date_range')"
   ]
  },
  {
   "cell_type": "code",
   "execution_count": null,
   "id": "4e178cc7",
   "metadata": {},
   "outputs": [],
   "source": [
    "periodicity_breaks_exploded.loc[\n",
    "    periodicity_breaks_exploded.index.duplicated(keep='first'),\n",
    "    feature_columns\n",
    "] = np.NaN"
   ]
  },
  {
   "cell_type": "code",
   "execution_count": null,
   "id": "8122dd3c",
   "metadata": {},
   "outputs": [],
   "source": [
    "rows_to_insert = periodicity_breaks_exploded[\n",
    "    periodicity_breaks_exploded.index.duplicated(keep='first')\n",
    "].copy()"
   ]
  },
  {
   "cell_type": "code",
   "execution_count": null,
   "id": "ccd51503",
   "metadata": {},
   "outputs": [],
   "source": [
    "rows_to_insert['_time'] = rows_to_insert['date_range']"
   ]
  },
  {
   "cell_type": "code",
   "execution_count": null,
   "id": "c42a8681",
   "metadata": {},
   "outputs": [],
   "source": [
    "merged_ds_expanded = pd.concat(\n",
    "    [merged_ds_sorted, rows_to_insert], ignore_index=False\n",
    ").sort_values('_time', ascending = True)"
   ]
  },
  {
   "cell_type": "code",
   "execution_count": null,
   "id": "05e975ed",
   "metadata": {},
   "outputs": [],
   "source": [
    "merged_ds_expanded['prev_imeisv'].fillna('', inplace = True)\n",
    "merged_ds_expanded['prev_imeisv'] = merged_ds_expanded['prev_imeisv'].astype(str)"
   ]
  },
  {
   "cell_type": "markdown",
   "id": "79a3bd38",
   "metadata": {},
   "source": [
    "#### Some Data Preprocessing"
   ]
  },
  {
   "cell_type": "code",
   "execution_count": null,
   "id": "a54d040d",
   "metadata": {},
   "outputs": [],
   "source": [
    "merged_ds_expanded = merged_ds_expanded.sort_values(['imeisv','_time'], ascending = True)"
   ]
  },
  {
   "cell_type": "code",
   "execution_count": null,
   "id": "d7b4548d",
   "metadata": {},
   "outputs": [],
   "source": [
    "merged_ds_expanded['bearer_0_ul_total_bytes_non_incr'] = merged_ds_expanded['bearer_0_ul_total_bytes'].diff()\n",
    "merged_ds_expanded['bearer_1_ul_total_bytes_non_incr'] = merged_ds_expanded['bearer_1_ul_total_bytes'].diff()\n",
    "\n",
    "merged_ds_expanded['bearer_0_dl_total_bytes_non_incr'] = merged_ds_expanded['bearer_0_dl_total_bytes'].diff()\n",
    "merged_ds_expanded['bearer_1_dl_total_bytes_non_incr'] = merged_ds_expanded['bearer_1_dl_total_bytes'].diff()"
   ]
  },
  {
   "cell_type": "code",
   "execution_count": null,
   "id": "267956e4",
   "metadata": {},
   "outputs": [],
   "source": [
    "merged_ds_expanded.loc[\n",
    "    (merged_ds_expanded['imeisv'] != merged_ds_expanded['prev_imeisv']),\n",
    "    'bearer_0_ul_total_bytes_non_incr'\n",
    "] = merged_ds_expanded.loc[\n",
    "    (merged_ds_expanded['imeisv'] != merged_ds_expanded['prev_imeisv']),\n",
    "    'bearer_0_ul_total_bytes'\n",
    "]\n",
    "\n",
    "merged_ds_expanded.loc[\n",
    "    (merged_ds_expanded['imeisv'] != merged_ds_expanded['prev_imeisv']),\n",
    "    'bearer_1_ul_total_bytes_non_incr'\n",
    "] = merged_ds_expanded.loc[\n",
    "    (merged_ds_expanded['imeisv'] != merged_ds_expanded['prev_imeisv']),\n",
    "    'bearer_1_ul_total_bytes'\n",
    "]\n",
    "\n",
    "merged_ds_expanded.loc[\n",
    "    (merged_ds_expanded['imeisv'] != merged_ds_expanded['prev_imeisv']),\n",
    "    'bearer_0_dl_total_bytes_non_incr'\n",
    "] = merged_ds_expanded.loc[\n",
    "    (merged_ds_expanded['imeisv'] != merged_ds_expanded['prev_imeisv']),\n",
    "    'bearer_0_dl_total_bytes'\n",
    "]\n",
    "\n",
    "merged_ds_expanded.loc[\n",
    "    (merged_ds_expanded['imeisv'] != merged_ds_expanded['prev_imeisv']),\n",
    "    'bearer_1_dl_total_bytes_non_incr'\n",
    "] = merged_ds_expanded.loc[\n",
    "    (merged_ds_expanded['imeisv'] != merged_ds_expanded['prev_imeisv']),\n",
    "    'bearer_1_dl_total_bytes'\n",
    "]"
   ]
  },
  {
   "cell_type": "code",
   "execution_count": null,
   "id": "7ce76d7e",
   "metadata": {},
   "outputs": [],
   "source": [
    "merged_ds_expanded.drop(merged_ds_expanded[\n",
    "    merged_ds_expanded['imeisv'] != merged_ds_expanded['prev_imeisv']\n",
    "].index, axis = 0, inplace = True)"
   ]
  },
  {
   "cell_type": "code",
   "execution_count": null,
   "id": "b1eef3c4",
   "metadata": {},
   "outputs": [],
   "source": [
    "merged_ds_expanded['bearer_0_ul_total_bytes_non_incr'].fillna(0.0, inplace = True)\n",
    "merged_ds_expanded['bearer_1_ul_total_bytes_non_incr'].fillna(0.0, inplace = True)\n",
    "merged_ds_expanded['bearer_0_dl_total_bytes_non_incr'].fillna(0.0, inplace = True)\n",
    "merged_ds_expanded['bearer_1_dl_total_bytes_non_incr'].fillna(0.0, inplace = True)\n",
    "\n",
    "merged_ds_expanded['ul_total_bytes_non_incr'] = np.where(\n",
    "    merged_ds_expanded['bearer_0_ul_total_bytes_non_incr']==0.0, \n",
    "    merged_ds_expanded['bearer_1_ul_total_bytes_non_incr'], \n",
    "    merged_ds_expanded['bearer_0_ul_total_bytes_non_incr']\n",
    ")\n",
    "merged_ds_expanded['dl_total_bytes_non_incr'] = np.where(\n",
    "    merged_ds_expanded['bearer_0_dl_total_bytes_non_incr']==0.0, \n",
    "    merged_ds_expanded['bearer_1_dl_total_bytes_non_incr'], \n",
    "    merged_ds_expanded['bearer_0_dl_total_bytes_non_incr']\n",
    ")"
   ]
  },
  {
   "cell_type": "code",
   "execution_count": null,
   "id": "b0c381f8",
   "metadata": {},
   "outputs": [],
   "source": [
    "merged_ds_expanded[\n",
    "  merged_ds_expanded['imeisv'] == '8628490433231157'\n",
    "][['_time', 'imeisv','prev_imeisv','bearer_0_dl_total_bytes', 'bearer_0_dl_total_bytes_non_incr']]"
   ]
  },
  {
   "cell_type": "code",
   "execution_count": null,
   "id": "bdd1c7f7",
   "metadata": {},
   "outputs": [],
   "source": [
    "feature_columns = [\n",
    "    'dl_bitrate','ul_bitrate', \n",
    "    'cell_x_dl_retx', 'cell_x_dl_tx',\n",
    "    'cell_x_ul_retx', 'cell_x_ul_tx',\n",
    "    'ul_total_bytes_non_incr', 'dl_total_bytes_non_incr'\n",
    "    ]\n",
    "\n",
    "store_columns = ['_time', 'imeisv'] + feature_columns"
   ]
  },
  {
   "cell_type": "code",
   "execution_count": null,
   "id": "5fc34f89",
   "metadata": {},
   "outputs": [],
   "source": [
    "def group_consecutive_numbers(numbers):\n",
    "    \n",
    "    grouped = []\n",
    "    current_group = [numbers[0]]\n",
    "    for i in range(1, len(numbers)):\n",
    "        if numbers[i] == numbers[i-1] + 1:\n",
    "            current_group.append(numbers[i])\n",
    "        else:\n",
    "            grouped.append(current_group)\n",
    "            current_group = [numbers[i]]\n",
    "    \n",
    "    grouped.append(current_group)\n",
    "    \n",
    "    return grouped"
   ]
  },
  {
   "cell_type": "code",
   "execution_count": null,
   "id": "337e617e",
   "metadata": {},
   "outputs": [],
   "source": [
    "merged_ds_expanded.reset_index(inplace = True)"
   ]
  },
  {
   "cell_type": "code",
   "execution_count": null,
   "id": "2a9f4745",
   "metadata": {},
   "outputs": [],
   "source": [
    "nan_indices = list(merged_ds_expanded[merged_ds_expanded['ul_bitrate'].isna()].index)\n",
    "consecutive_nan_groups = group_consecutive_numbers(nan_indices)\n",
    "\n",
    "for indices_group in consecutive_nan_groups:\n",
    "    group_len = len(indices_group)\n",
    "    target_indices = [ind - group_len for ind in indices_group]\n",
    "    merged_ds_expanded.loc[indices_group,'ul_bitrate'] = merged_ds_expanded.loc[target_indices,'ul_bitrate'].values"
   ]
  },
  {
   "cell_type": "code",
   "execution_count": null,
   "id": "d53f9613",
   "metadata": {},
   "outputs": [],
   "source": [
    "merged_ds_expanded.to_csv(os.path.join(data_folder, \"amari_ue_data_final_v5.csv\"), index = False)"
   ]
  }
 ],
 "metadata": {
  "kernelspec": {
   "display_name": "privateer_venv",
   "language": "python",
   "name": "privateer_venv"
  },
  "language_info": {
   "codemirror_mode": {
    "name": "ipython",
    "version": 3
   },
   "file_extension": ".py",
   "mimetype": "text/x-python",
   "name": "python",
   "nbconvert_exporter": "python",
   "pygments_lexer": "ipython3",
   "version": "3.10.8"
  },
  "varInspector": {
   "cols": {
    "lenName": 16,
    "lenType": 16,
    "lenVar": 40
   },
   "kernels_config": {
    "python": {
     "delete_cmd_postfix": "",
     "delete_cmd_prefix": "del ",
     "library": "var_list.py",
     "varRefreshCmd": "print(var_dic_list())"
    },
    "r": {
     "delete_cmd_postfix": ") ",
     "delete_cmd_prefix": "rm(",
     "library": "var_list.r",
     "varRefreshCmd": "cat(var_dic_list()) "
    }
   },
   "types_to_exclude": [
    "module",
    "function",
    "builtin_function_or_method",
    "instance",
    "_Feature"
   ],
   "window_display": false
  }
 },
 "nbformat": 4,
 "nbformat_minor": 5
}
