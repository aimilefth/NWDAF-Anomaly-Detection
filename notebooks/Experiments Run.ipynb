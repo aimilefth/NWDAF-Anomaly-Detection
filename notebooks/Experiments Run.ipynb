{
 "cells": [
  {
   "cell_type": "code",
   "execution_count": 1,
   "metadata": {},
   "outputs": [],
   "source": [
    "import pandas as pd\n",
    "import torch\n",
    "import os\n",
    "import itertools\n",
    "import uuid\n",
    "\n",
    "import sys\n",
    "sys.path.append('../')\n",
    "\n",
    "\n",
    "from dataloader.dataloader import *\n",
    "from training.training import *\n",
    "from models.rae import *\n",
    "from utils.utils import *\n",
    "from visualizations.visualizations import *\n",
    "from evaluation.evaluation import *"
   ]
  },
  {
   "cell_type": "code",
   "execution_count": 2,
   "metadata": {},
   "outputs": [
    {
     "name": "stdout",
     "output_type": "stream",
     "text": [
      "CUDA is available. Training on GPU.\n"
     ]
    }
   ],
   "source": [
    "if torch.cuda.is_available():\n",
    "    device = torch.device(\"cuda\")\n",
    "    print(\"CUDA is available. Training on GPU.\")\n",
    "else:\n",
    "    device = torch.device(\"cpu\")\n",
    "    print(\"CUDA is not available. Training on CPU.\")"
   ]
  },
  {
   "cell_type": "code",
   "execution_count": 3,
   "metadata": {},
   "outputs": [],
   "source": [
    "data_folder = \"../Data/Data v5\"\n",
    "\n",
    "\n",
    "# df = pd.read_csv(os.path.join(data_folder, \"amari_ue_data_final_v5_no_outliers.csv\"))\n",
    "# df = df.sort_values([\"imeisv\", \"_time\"], ascending = True)\n",
    "# dataset_used = 'no_outliers'\n",
    "\n",
    "df = pd.read_csv(os.path.join(data_folder, \"amari_ue_data_final_v5_no_outliers_scaled.csv\"))\n",
    "df = df.sort_values([\"imeisv\", \"_time\"], ascending = True)\n",
    "dataset_used = 'no_outliers_scaled'\n",
    "\n",
    "# df = pd.read_csv(os.path.join(data_folder, \"amari_ue_data_final_v5_no_outliers_scaled_sep.csv\"))\n",
    "# df = df.sort_values([\"imeisv\", \"_time\"], ascending = True)\n",
    "# dataset_used = 'no_outliers_scaled_sep'"
   ]
  },
  {
   "cell_type": "code",
   "execution_count": 4,
   "metadata": {},
   "outputs": [],
   "source": [
    "# feature_columns = [\n",
    "#     'dl_bitrate','ul_bitrate', \n",
    "#     'cell_x_dl_retx', 'cell_x_dl_tx',\n",
    "#     'cell_x_ul_retx', 'cell_x_ul_tx',\n",
    "#     'ul_total_bytes_non_incr', 'dl_total_bytes_non_incr'\n",
    "# ]\n",
    "\n",
    "# feature_columns = [\n",
    "#     'dl_bitrate','ul_bitrate','ul_total_bytes_non_incr', 'dl_total_bytes_non_incr'\n",
    "# ]\n",
    "\n",
    "feature_columns = [\n",
    "    'ul_bitrate'\n",
    "]"
   ]
  },
  {
   "cell_type": "code",
   "execution_count": 5,
   "metadata": {},
   "outputs": [],
   "source": [
    "rolling_avg_label = False # True for applying rolling avg\n",
    "\n",
    "if rolling_avg_label:\n",
    "    df[feature_columns] = df[feature_columns].rolling(window=360).mean()"
   ]
  },
  {
   "cell_type": "code",
   "execution_count": null,
   "metadata": {},
   "outputs": [],
   "source": [
    "benign_data_starting_point = \"2024-03-20 14:14:50.19\"\n",
    "benign_data_ending_point = \"2024-03-23 16:26:19.00\"\n",
    "\n",
    "\n",
    "benign_filter_1 = (df['_time'].between(benign_data_starting_point, benign_data_ending_point))\n",
    "benign_filter_2 = (~df['imeisv'].isin(['8642840401594200', '8642840401612300','8642840401624200','3557821101183501']))\n",
    "benign_filter_3 = (df['label'] == 0)\n",
    "benign_data_filter = (benign_filter_1 & benign_filter_2 & benign_filter_3)"
   ]
  },
  {
   "cell_type": "code",
   "execution_count": null,
   "metadata": {},
   "outputs": [
    {
     "name": "stdout",
     "output_type": "stream",
     "text": [
      "260051\n"
     ]
    }
   ],
   "source": [
    "# benign data\n",
    "benign_data_train = df[benign_data_filter].copy()\n",
    "benign_data_train = benign_data_train.sort_values(['imeisv','_time'])\n",
    "print(benign_data_train.shape[0])"
   ]
  },
  {
   "cell_type": "code",
   "execution_count": null,
   "metadata": {},
   "outputs": [
    {
     "name": "stdout",
     "output_type": "stream",
     "text": [
      "90102\n"
     ]
    }
   ],
   "source": [
    "benign_data_test_period_start = \"2024-03-24 01:20:00.19\"\n",
    "benign_devices_for_testing = ['8609960468879057', '8628490433231157','8677660403123800']\n",
    "\n",
    "benign_filter_4 = (df['_time'] >= benign_data_test_period_start)\n",
    "benign_filter_5 = (df['imeisv'].isin(benign_devices_for_testing))\n",
    "benign_data_filter_test = (benign_filter_3 & benign_filter_4 & benign_filter_5)\n",
    "\n",
    "benign_data_test = df[benign_data_filter_test].copy()\n",
    "benign_data_test = benign_data_test.sort_values(['imeisv','_time'])\n",
    "print(benign_data_test.shape[0])"
   ]
  },
  {
   "cell_type": "code",
   "execution_count": null,
   "metadata": {},
   "outputs": [
    {
     "name": "stdout",
     "output_type": "stream",
     "text": [
      "10971\n"
     ]
    }
   ],
   "source": [
    "#malicious data\n",
    "attck_1_start = \"2024-03-23 21:26:00\"\n",
    "attck_1_end = \"2024-03-23 22:23:00\"\n",
    "ues_to_exclude_in_1st_attck = [\n",
    "    '8628490433231157','8609960480666910',\n",
    "    '3557821101183501'] #'8677660403123800' '8642840401594200'\n",
    "\n",
    "attck_2_start = \"2024-03-23 22:56:00\"\n",
    "attck_2_end = \"2024-03-23 23:56:00\"\n",
    "ues_to_exclude_in_2nd_attck = [\n",
    "    '8609960480666910','8642840401612300'\n",
    "]\n",
    "\n",
    "mal_filter_1 = (\n",
    "    df['_time'].between(attck_1_start, attck_1_end)\n",
    "    & (~df['imeisv'].isin(ues_to_exclude_in_1st_attck))\n",
    ")\n",
    "\n",
    "mal_filter_2 = (\n",
    "    df['_time'].between(attck_2_start, attck_2_end)\n",
    "    & (~df['imeisv'].isin(ues_to_exclude_in_2nd_attck))\n",
    ")\n",
    "\n",
    "mal_filter_3 = (df['label'] == 1)\n",
    "\n",
    "malicious_data = df[(mal_filter_1 | mal_filter_2) & mal_filter_3].copy()\n",
    "malicious_data = malicious_data.sort_values(['imeisv','_time'])\n",
    "print(malicious_data.shape[0])"
   ]
  },
  {
   "cell_type": "code",
   "execution_count": 7,
   "metadata": {},
   "outputs": [],
   "source": [
    "search_space_dict = {\n",
    "    'window_size': [60, 90, 120], \n",
    "    'batch_size' : [32],\n",
    "    'model_arch_config': [\n",
    "        {\n",
    "        'hidden_dim1' : 25, \n",
    "        'hidden_dim2' : 50, \n",
    "        },\n",
    "        {\n",
    "        'hidden_dim1' : 50, \n",
    "        'hidden_dim2' : 100, \n",
    "        },\n",
    "        {\n",
    "        'hidden_dim1' : 25, \n",
    "        'hidden_dim2' : 25, \n",
    "        },\n",
    "        {\n",
    "        'hidden_dim1' : 50, \n",
    "        'hidden_dim2' : 50, \n",
    "        }\n",
    "    ],\n",
    "    'dropout':[0.2, 0.3],\n",
    "    'layer_norm_flag':[True, False],\n",
    "    'loss_function' : [nn.L1Loss, nn.MSELoss], \n",
    "    'lr' : [1e-4, 1e-3],\n",
    "    'num_epochs':[52]\n",
    "    \n",
    "}"
   ]
  },
  {
   "cell_type": "code",
   "execution_count": 8,
   "metadata": {},
   "outputs": [
    {
     "name": "stdout",
     "output_type": "stream",
     "text": [
      "##########################################################\n",
      "Experiment edce45d0-6a35-42b3-be51-14b28246bd74 Parameters:\n",
      "\n",
      "Window size: 60\n",
      "Step size: 20\n",
      "Batch size: 32\n",
      "Hidden dim1: 25\n",
      "Hidden dim2: 50\n",
      "Dropout: 0.2\n",
      "Layer norm flag: Enabled\n",
      "Loss function: <class 'torch.nn.modules.loss.L1Loss'>\n",
      "Lr: 0.0001\n",
      "Num epochs: 52\n"
     ]
    },
    {
     "name": "stderr",
     "output_type": "stream",
     "text": [
      "Training...: 100%|██████████| 329/329 [00:02<00:00, 151.72it/s]\n",
      "Validating...: 100%|██████████| 83/83 [00:00<00:00, 879.38it/s]\n"
     ]
    },
    {
     "name": "stdout",
     "output_type": "stream",
     "text": [
      "Epoch 1, Train Loss: 0.6010, Val Loss: 0.6955\n"
     ]
    },
    {
     "name": "stderr",
     "output_type": "stream",
     "text": [
      "Training...: 100%|██████████| 329/329 [00:02<00:00, 161.78it/s]\n",
      "Validating...: 100%|██████████| 83/83 [00:00<00:00, 880.91it/s]\n"
     ]
    },
    {
     "name": "stdout",
     "output_type": "stream",
     "text": [
      "Epoch 2, Train Loss: 0.5799, Val Loss: 0.6916\n"
     ]
    },
    {
     "name": "stderr",
     "output_type": "stream",
     "text": [
      "Training...: 100%|██████████| 329/329 [00:02<00:00, 162.78it/s]\n",
      "Validating...: 100%|██████████| 83/83 [00:00<00:00, 881.83it/s]\n"
     ]
    },
    {
     "name": "stdout",
     "output_type": "stream",
     "text": [
      "Epoch 3, Train Loss: 0.5738, Val Loss: 0.6913\n"
     ]
    },
    {
     "name": "stderr",
     "output_type": "stream",
     "text": [
      "Training...: 100%|██████████| 329/329 [00:02<00:00, 163.11it/s]\n",
      "Validating...: 100%|██████████| 83/83 [00:00<00:00, 880.97it/s]\n"
     ]
    },
    {
     "name": "stdout",
     "output_type": "stream",
     "text": [
      "Epoch 4, Train Loss: 0.5709, Val Loss: 0.6920\n",
      "EarlyStopping counter: 1 out of 7\n"
     ]
    },
    {
     "name": "stderr",
     "output_type": "stream",
     "text": [
      "Training...: 100%|██████████| 329/329 [00:02<00:00, 163.14it/s]\n",
      "Validating...: 100%|██████████| 83/83 [00:00<00:00, 879.11it/s]\n"
     ]
    },
    {
     "name": "stdout",
     "output_type": "stream",
     "text": [
      "Epoch 5, Train Loss: 0.5548, Val Loss: 0.5899\n"
     ]
    },
    {
     "name": "stderr",
     "output_type": "stream",
     "text": [
      "Training...: 100%|██████████| 329/329 [00:02<00:00, 162.23it/s]\n",
      "Validating...: 100%|██████████| 83/83 [00:00<00:00, 884.44it/s]\n"
     ]
    },
    {
     "name": "stdout",
     "output_type": "stream",
     "text": [
      "Epoch 6, Train Loss: 0.4953, Val Loss: 0.5653\n"
     ]
    },
    {
     "name": "stderr",
     "output_type": "stream",
     "text": [
      "Training...: 100%|██████████| 329/329 [00:02<00:00, 162.39it/s]\n",
      "Validating...: 100%|██████████| 83/83 [00:00<00:00, 878.37it/s]\n"
     ]
    },
    {
     "name": "stdout",
     "output_type": "stream",
     "text": [
      "Epoch 7, Train Loss: 0.4848, Val Loss: 0.5541\n"
     ]
    },
    {
     "name": "stderr",
     "output_type": "stream",
     "text": [
      "Training...: 100%|██████████| 329/329 [00:02<00:00, 163.61it/s]\n",
      "Validating...: 100%|██████████| 83/83 [00:00<00:00, 890.66it/s]\n"
     ]
    },
    {
     "name": "stdout",
     "output_type": "stream",
     "text": [
      "Epoch 8, Train Loss: 0.4800, Val Loss: 0.5506\n"
     ]
    },
    {
     "name": "stderr",
     "output_type": "stream",
     "text": [
      "Training...: 100%|██████████| 329/329 [00:02<00:00, 164.18it/s]\n",
      "Validating...: 100%|██████████| 83/83 [00:00<00:00, 892.55it/s]\n"
     ]
    },
    {
     "name": "stdout",
     "output_type": "stream",
     "text": [
      "Epoch 9, Train Loss: 0.4769, Val Loss: 0.5471\n"
     ]
    },
    {
     "name": "stderr",
     "output_type": "stream",
     "text": [
      "Training...: 100%|██████████| 329/329 [00:01<00:00, 165.91it/s]\n",
      "Validating...: 100%|██████████| 83/83 [00:00<00:00, 906.75it/s]\n"
     ]
    },
    {
     "name": "stdout",
     "output_type": "stream",
     "text": [
      "Epoch 10, Train Loss: 0.4747, Val Loss: 0.5475\n",
      "EarlyStopping counter: 1 out of 7\n"
     ]
    },
    {
     "name": "stderr",
     "output_type": "stream",
     "text": [
      "Training...: 100%|██████████| 329/329 [00:01<00:00, 166.05it/s]\n",
      "Validating...: 100%|██████████| 83/83 [00:00<00:00, 889.51it/s]\n"
     ]
    },
    {
     "name": "stdout",
     "output_type": "stream",
     "text": [
      "Epoch 11, Train Loss: 0.4720, Val Loss: 0.5444\n"
     ]
    },
    {
     "name": "stderr",
     "output_type": "stream",
     "text": [
      "Training...: 100%|██████████| 329/329 [00:02<00:00, 162.52it/s]\n",
      "Validating...: 100%|██████████| 83/83 [00:00<00:00, 882.02it/s]\n"
     ]
    },
    {
     "name": "stdout",
     "output_type": "stream",
     "text": [
      "Epoch 12, Train Loss: 0.4706, Val Loss: 0.5422\n"
     ]
    },
    {
     "name": "stderr",
     "output_type": "stream",
     "text": [
      "Training...: 100%|██████████| 329/329 [00:02<00:00, 162.94it/s]\n",
      "Validating...: 100%|██████████| 83/83 [00:00<00:00, 910.26it/s]\n"
     ]
    },
    {
     "name": "stdout",
     "output_type": "stream",
     "text": [
      "Epoch 13, Train Loss: 0.4693, Val Loss: 0.5400\n"
     ]
    },
    {
     "name": "stderr",
     "output_type": "stream",
     "text": [
      "Training...: 100%|██████████| 329/329 [00:02<00:00, 164.38it/s]\n",
      "Validating...: 100%|██████████| 83/83 [00:00<00:00, 823.20it/s]\n"
     ]
    },
    {
     "name": "stdout",
     "output_type": "stream",
     "text": [
      "Epoch 14, Train Loss: 0.4677, Val Loss: 0.5389\n"
     ]
    },
    {
     "name": "stderr",
     "output_type": "stream",
     "text": [
      "Training...: 100%|██████████| 329/329 [00:01<00:00, 165.75it/s]\n",
      "Validating...: 100%|██████████| 83/83 [00:00<00:00, 898.96it/s]\n"
     ]
    },
    {
     "name": "stdout",
     "output_type": "stream",
     "text": [
      "Epoch 15, Train Loss: 0.4665, Val Loss: 0.5359\n"
     ]
    },
    {
     "name": "stderr",
     "output_type": "stream",
     "text": [
      "Training...: 100%|██████████| 329/329 [00:01<00:00, 166.33it/s]\n",
      "Validating...: 100%|██████████| 83/83 [00:00<00:00, 879.64it/s]\n"
     ]
    },
    {
     "name": "stdout",
     "output_type": "stream",
     "text": [
      "Epoch 16, Train Loss: 0.4651, Val Loss: 0.5361\n",
      "EarlyStopping counter: 1 out of 7\n"
     ]
    },
    {
     "name": "stderr",
     "output_type": "stream",
     "text": [
      "Training...: 100%|██████████| 329/329 [00:02<00:00, 162.53it/s]\n",
      "Validating...: 100%|██████████| 83/83 [00:00<00:00, 883.38it/s]\n"
     ]
    },
    {
     "name": "stdout",
     "output_type": "stream",
     "text": [
      "Epoch 17, Train Loss: 0.4635, Val Loss: 0.5332\n"
     ]
    },
    {
     "name": "stderr",
     "output_type": "stream",
     "text": [
      "Training...: 100%|██████████| 329/329 [00:02<00:00, 162.84it/s]\n",
      "Validating...: 100%|██████████| 83/83 [00:00<00:00, 910.35it/s]\n"
     ]
    },
    {
     "name": "stdout",
     "output_type": "stream",
     "text": [
      "Epoch 18, Train Loss: 0.4621, Val Loss: 0.5312\n"
     ]
    },
    {
     "name": "stderr",
     "output_type": "stream",
     "text": [
      "Training...: 100%|██████████| 329/329 [00:01<00:00, 167.71it/s]\n",
      "Validating...: 100%|██████████| 83/83 [00:00<00:00, 908.45it/s]\n"
     ]
    },
    {
     "name": "stdout",
     "output_type": "stream",
     "text": [
      "Epoch 19, Train Loss: 0.4610, Val Loss: 0.5302\n"
     ]
    },
    {
     "name": "stderr",
     "output_type": "stream",
     "text": [
      "Training...: 100%|██████████| 329/329 [00:01<00:00, 167.18it/s]\n",
      "Validating...: 100%|██████████| 83/83 [00:00<00:00, 911.14it/s]\n"
     ]
    },
    {
     "name": "stdout",
     "output_type": "stream",
     "text": [
      "Epoch 20, Train Loss: 0.4594, Val Loss: 0.5270\n"
     ]
    },
    {
     "name": "stderr",
     "output_type": "stream",
     "text": [
      "Training...: 100%|██████████| 329/329 [00:01<00:00, 166.07it/s]\n",
      "Validating...: 100%|██████████| 83/83 [00:00<00:00, 911.81it/s]\n"
     ]
    },
    {
     "name": "stdout",
     "output_type": "stream",
     "text": [
      "Epoch 21, Train Loss: 0.4574, Val Loss: 0.5257\n"
     ]
    },
    {
     "name": "stderr",
     "output_type": "stream",
     "text": [
      "Training...: 100%|██████████| 329/329 [00:01<00:00, 167.11it/s]\n",
      "Validating...: 100%|██████████| 83/83 [00:00<00:00, 909.68it/s]\n"
     ]
    },
    {
     "name": "stdout",
     "output_type": "stream",
     "text": [
      "Epoch 22, Train Loss: 0.4545, Val Loss: 0.5226\n"
     ]
    },
    {
     "name": "stderr",
     "output_type": "stream",
     "text": [
      "Training...: 100%|██████████| 329/329 [00:01<00:00, 166.86it/s]\n",
      "Validating...: 100%|██████████| 83/83 [00:00<00:00, 907.42it/s]\n"
     ]
    },
    {
     "name": "stdout",
     "output_type": "stream",
     "text": [
      "Epoch 23, Train Loss: 0.4511, Val Loss: 0.5175\n"
     ]
    },
    {
     "name": "stderr",
     "output_type": "stream",
     "text": [
      "Training...: 100%|██████████| 329/329 [00:02<00:00, 163.99it/s]\n",
      "Validating...: 100%|██████████| 83/83 [00:00<00:00, 893.84it/s]\n"
     ]
    },
    {
     "name": "stdout",
     "output_type": "stream",
     "text": [
      "Epoch 24, Train Loss: 0.4476, Val Loss: 0.5119\n"
     ]
    },
    {
     "name": "stderr",
     "output_type": "stream",
     "text": [
      "Training...: 100%|██████████| 329/329 [00:02<00:00, 164.02it/s]\n",
      "Validating...: 100%|██████████| 83/83 [00:00<00:00, 895.72it/s]\n"
     ]
    },
    {
     "name": "stdout",
     "output_type": "stream",
     "text": [
      "Epoch 25, Train Loss: 0.4445, Val Loss: 0.5080\n"
     ]
    },
    {
     "name": "stderr",
     "output_type": "stream",
     "text": [
      "Training...: 100%|██████████| 329/329 [00:02<00:00, 163.76it/s]\n",
      "Validating...: 100%|██████████| 83/83 [00:00<00:00, 889.76it/s]\n"
     ]
    },
    {
     "name": "stdout",
     "output_type": "stream",
     "text": [
      "Epoch 26, Train Loss: 0.4409, Val Loss: 0.5018\n"
     ]
    },
    {
     "name": "stderr",
     "output_type": "stream",
     "text": [
      "Training...: 100%|██████████| 329/329 [00:02<00:00, 164.08it/s]\n",
      "Validating...: 100%|██████████| 83/83 [00:00<00:00, 887.86it/s]\n"
     ]
    },
    {
     "name": "stdout",
     "output_type": "stream",
     "text": [
      "Epoch 27, Train Loss: 0.4375, Val Loss: 0.4970\n"
     ]
    },
    {
     "name": "stderr",
     "output_type": "stream",
     "text": [
      "Training...: 100%|██████████| 329/329 [00:02<00:00, 163.81it/s]\n",
      "Validating...: 100%|██████████| 83/83 [00:00<00:00, 894.77it/s]\n"
     ]
    },
    {
     "name": "stdout",
     "output_type": "stream",
     "text": [
      "Epoch 28, Train Loss: 0.4344, Val Loss: 0.4930\n"
     ]
    },
    {
     "name": "stderr",
     "output_type": "stream",
     "text": [
      "Training...: 100%|██████████| 329/329 [00:02<00:00, 163.93it/s]\n",
      "Validating...: 100%|██████████| 83/83 [00:00<00:00, 891.61it/s]\n"
     ]
    },
    {
     "name": "stdout",
     "output_type": "stream",
     "text": [
      "Epoch 29, Train Loss: 0.4331, Val Loss: 0.4891\n"
     ]
    },
    {
     "name": "stderr",
     "output_type": "stream",
     "text": [
      "Training...: 100%|██████████| 329/329 [00:02<00:00, 162.07it/s]\n",
      "Validating...: 100%|██████████| 83/83 [00:00<00:00, 877.50it/s]\n"
     ]
    },
    {
     "name": "stdout",
     "output_type": "stream",
     "text": [
      "Epoch 30, Train Loss: 0.4306, Val Loss: 0.4833\n"
     ]
    },
    {
     "name": "stderr",
     "output_type": "stream",
     "text": [
      "Training...: 100%|██████████| 329/329 [00:02<00:00, 162.65it/s]\n",
      "Validating...: 100%|██████████| 83/83 [00:00<00:00, 882.26it/s]\n"
     ]
    },
    {
     "name": "stdout",
     "output_type": "stream",
     "text": [
      "Epoch 31, Train Loss: 0.4278, Val Loss: 0.4812\n"
     ]
    },
    {
     "name": "stderr",
     "output_type": "stream",
     "text": [
      "Training...: 100%|██████████| 329/329 [00:02<00:00, 163.10it/s]\n",
      "Validating...: 100%|██████████| 83/83 [00:00<00:00, 880.28it/s]\n"
     ]
    },
    {
     "name": "stdout",
     "output_type": "stream",
     "text": [
      "Epoch 32, Train Loss: 0.4258, Val Loss: 0.4772\n"
     ]
    },
    {
     "name": "stderr",
     "output_type": "stream",
     "text": [
      "Training...: 100%|██████████| 329/329 [00:02<00:00, 163.08it/s]\n",
      "Validating...: 100%|██████████| 83/83 [00:00<00:00, 881.71it/s]\n"
     ]
    },
    {
     "name": "stdout",
     "output_type": "stream",
     "text": [
      "Epoch 33, Train Loss: 0.4234, Val Loss: 0.4746\n"
     ]
    },
    {
     "name": "stderr",
     "output_type": "stream",
     "text": [
      "Training...: 100%|██████████| 329/329 [00:02<00:00, 162.01it/s]\n",
      "Validating...: 100%|██████████| 83/83 [00:00<00:00, 883.97it/s]\n"
     ]
    },
    {
     "name": "stdout",
     "output_type": "stream",
     "text": [
      "Epoch 34, Train Loss: 0.4216, Val Loss: 0.4686\n"
     ]
    },
    {
     "name": "stderr",
     "output_type": "stream",
     "text": [
      "Training...: 100%|██████████| 329/329 [00:02<00:00, 164.34it/s]\n",
      "Validating...: 100%|██████████| 83/83 [00:00<00:00, 886.05it/s]\n"
     ]
    },
    {
     "name": "stdout",
     "output_type": "stream",
     "text": [
      "Epoch 35, Train Loss: 0.4193, Val Loss: 0.4648\n"
     ]
    },
    {
     "name": "stderr",
     "output_type": "stream",
     "text": [
      "Training...: 100%|██████████| 329/329 [00:02<00:00, 164.13it/s]\n",
      "Validating...: 100%|██████████| 83/83 [00:00<00:00, 888.02it/s]\n"
     ]
    },
    {
     "name": "stdout",
     "output_type": "stream",
     "text": [
      "Epoch 36, Train Loss: 0.4175, Val Loss: 0.4621\n"
     ]
    },
    {
     "name": "stderr",
     "output_type": "stream",
     "text": [
      "Training...: 100%|██████████| 329/329 [00:02<00:00, 164.09it/s]\n",
      "Validating...: 100%|██████████| 83/83 [00:00<00:00, 892.93it/s]\n"
     ]
    },
    {
     "name": "stdout",
     "output_type": "stream",
     "text": [
      "Epoch 37, Train Loss: 0.4148, Val Loss: 0.4573\n"
     ]
    },
    {
     "name": "stderr",
     "output_type": "stream",
     "text": [
      "Training...: 100%|██████████| 329/329 [00:02<00:00, 163.59it/s]\n",
      "Validating...: 100%|██████████| 83/83 [00:00<00:00, 891.14it/s]\n"
     ]
    },
    {
     "name": "stdout",
     "output_type": "stream",
     "text": [
      "Epoch 38, Train Loss: 0.4125, Val Loss: 0.4531\n"
     ]
    },
    {
     "name": "stderr",
     "output_type": "stream",
     "text": [
      "Training...: 100%|██████████| 329/329 [00:02<00:00, 163.90it/s]\n",
      "Validating...: 100%|██████████| 83/83 [00:00<00:00, 889.73it/s]\n"
     ]
    },
    {
     "name": "stdout",
     "output_type": "stream",
     "text": [
      "Epoch 39, Train Loss: 0.4104, Val Loss: 0.4475\n"
     ]
    },
    {
     "name": "stderr",
     "output_type": "stream",
     "text": [
      "Training...: 100%|██████████| 329/329 [00:02<00:00, 163.77it/s]\n",
      "Validating...: 100%|██████████| 83/83 [00:00<00:00, 885.29it/s]\n"
     ]
    },
    {
     "name": "stdout",
     "output_type": "stream",
     "text": [
      "Epoch 40, Train Loss: 0.4074, Val Loss: 0.4464\n"
     ]
    },
    {
     "name": "stderr",
     "output_type": "stream",
     "text": [
      "Training...: 100%|██████████| 329/329 [00:02<00:00, 164.10it/s]\n",
      "Validating...: 100%|██████████| 83/83 [00:00<00:00, 886.98it/s]\n"
     ]
    },
    {
     "name": "stdout",
     "output_type": "stream",
     "text": [
      "Epoch 41, Train Loss: 0.4051, Val Loss: 0.4425\n"
     ]
    },
    {
     "name": "stderr",
     "output_type": "stream",
     "text": [
      "Training...: 100%|██████████| 329/329 [00:01<00:00, 165.25it/s]\n",
      "Validating...: 100%|██████████| 83/83 [00:00<00:00, 909.90it/s]\n"
     ]
    },
    {
     "name": "stdout",
     "output_type": "stream",
     "text": [
      "Epoch 42, Train Loss: 0.4023, Val Loss: 0.4408\n"
     ]
    },
    {
     "name": "stderr",
     "output_type": "stream",
     "text": [
      "Training...: 100%|██████████| 329/329 [00:01<00:00, 167.75it/s]\n",
      "Validating...: 100%|██████████| 83/83 [00:00<00:00, 908.97it/s]\n"
     ]
    },
    {
     "name": "stdout",
     "output_type": "stream",
     "text": [
      "Epoch 43, Train Loss: 0.3996, Val Loss: 0.4384\n"
     ]
    },
    {
     "name": "stderr",
     "output_type": "stream",
     "text": [
      "Training...: 100%|██████████| 329/329 [00:01<00:00, 167.72it/s]\n",
      "Validating...: 100%|██████████| 83/83 [00:00<00:00, 907.97it/s]\n"
     ]
    },
    {
     "name": "stdout",
     "output_type": "stream",
     "text": [
      "Epoch 44, Train Loss: 0.3973, Val Loss: 0.4343\n"
     ]
    },
    {
     "name": "stderr",
     "output_type": "stream",
     "text": [
      "Training...: 100%|██████████| 329/329 [00:01<00:00, 167.04it/s]\n",
      "Validating...: 100%|██████████| 83/83 [00:00<00:00, 907.67it/s]\n"
     ]
    },
    {
     "name": "stdout",
     "output_type": "stream",
     "text": [
      "Epoch 45, Train Loss: 0.3939, Val Loss: 0.4370\n",
      "EarlyStopping counter: 1 out of 7\n"
     ]
    },
    {
     "name": "stderr",
     "output_type": "stream",
     "text": [
      "Training...: 100%|██████████| 329/329 [00:01<00:00, 166.63it/s]\n",
      "Validating...: 100%|██████████| 83/83 [00:00<00:00, 914.12it/s]\n"
     ]
    },
    {
     "name": "stdout",
     "output_type": "stream",
     "text": [
      "Epoch 46, Train Loss: 0.3910, Val Loss: 0.4338\n"
     ]
    },
    {
     "name": "stderr",
     "output_type": "stream",
     "text": [
      "Training...: 100%|██████████| 329/329 [00:01<00:00, 166.92it/s]\n",
      "Validating...: 100%|██████████| 83/83 [00:00<00:00, 902.20it/s]\n"
     ]
    },
    {
     "name": "stdout",
     "output_type": "stream",
     "text": [
      "Epoch 47, Train Loss: 0.3870, Val Loss: 0.4342\n",
      "EarlyStopping counter: 1 out of 7\n"
     ]
    },
    {
     "name": "stderr",
     "output_type": "stream",
     "text": [
      "Training...: 100%|██████████| 329/329 [00:01<00:00, 167.33it/s]\n",
      "Validating...: 100%|██████████| 83/83 [00:00<00:00, 904.18it/s]\n"
     ]
    },
    {
     "name": "stdout",
     "output_type": "stream",
     "text": [
      "Epoch 48, Train Loss: 0.3841, Val Loss: 0.4264\n"
     ]
    },
    {
     "name": "stderr",
     "output_type": "stream",
     "text": [
      "Training...: 100%|██████████| 329/329 [00:01<00:00, 167.66it/s]\n",
      "Validating...: 100%|██████████| 83/83 [00:00<00:00, 908.12it/s]\n"
     ]
    },
    {
     "name": "stdout",
     "output_type": "stream",
     "text": [
      "Epoch 49, Train Loss: 0.3811, Val Loss: 0.4234\n"
     ]
    },
    {
     "name": "stderr",
     "output_type": "stream",
     "text": [
      "Training...: 100%|██████████| 329/329 [00:01<00:00, 167.64it/s]\n",
      "Validating...: 100%|██████████| 83/83 [00:00<00:00, 909.12it/s]\n"
     ]
    },
    {
     "name": "stdout",
     "output_type": "stream",
     "text": [
      "Epoch 50, Train Loss: 0.3780, Val Loss: 0.4213\n"
     ]
    },
    {
     "name": "stderr",
     "output_type": "stream",
     "text": [
      "Training...: 100%|██████████| 329/329 [00:01<00:00, 167.79it/s]\n",
      "Validating...: 100%|██████████| 83/83 [00:00<00:00, 905.53it/s]\n"
     ]
    },
    {
     "name": "stdout",
     "output_type": "stream",
     "text": [
      "Epoch 51, Train Loss: 0.3744, Val Loss: 0.4222\n",
      "EarlyStopping counter: 1 out of 7\n"
     ]
    },
    {
     "name": "stderr",
     "output_type": "stream",
     "text": [
      "Training...: 100%|██████████| 329/329 [00:01<00:00, 167.40it/s]\n",
      "Validating...: 100%|██████████| 83/83 [00:00<00:00, 904.14it/s]\n"
     ]
    },
    {
     "name": "stdout",
     "output_type": "stream",
     "text": [
      "Epoch 52, Train Loss: 0.3712, Val Loss: 0.4178\n",
      "../results/edce45d0-6a35-42b3-be51-14b28246bd74_history.pkl\n",
      "##########################################################\n",
      "Experiment 5fda7f7b-4664-44e0-9a66-023749a34cb4 Parameters:\n",
      "\n",
      "Window size: 60\n",
      "Step size: 20\n",
      "Batch size: 32\n",
      "Hidden dim1: 25\n",
      "Hidden dim2: 50\n",
      "Dropout: 0.2\n",
      "Layer norm flag: Enabled\n",
      "Loss function: <class 'torch.nn.modules.loss.L1Loss'>\n",
      "Lr: 0.001\n",
      "Num epochs: 52\n"
     ]
    },
    {
     "name": "stderr",
     "output_type": "stream",
     "text": [
      "Training...: 100%|██████████| 329/329 [00:01<00:00, 166.81it/s]\n",
      "Validating...: 100%|██████████| 83/83 [00:00<00:00, 906.96it/s]\n"
     ]
    },
    {
     "name": "stdout",
     "output_type": "stream",
     "text": [
      "Epoch 1, Train Loss: 0.5262, Val Loss: 0.5807\n"
     ]
    },
    {
     "name": "stderr",
     "output_type": "stream",
     "text": [
      "Training...: 100%|██████████| 329/329 [00:01<00:00, 166.55it/s]\n",
      "Validating...: 100%|██████████| 83/83 [00:00<00:00, 906.66it/s]\n"
     ]
    },
    {
     "name": "stdout",
     "output_type": "stream",
     "text": [
      "Epoch 2, Train Loss: 0.5005, Val Loss: 0.5691\n"
     ]
    },
    {
     "name": "stderr",
     "output_type": "stream",
     "text": [
      "Training...: 100%|██████████| 329/329 [00:01<00:00, 165.38it/s]\n",
      "Validating...: 100%|██████████| 83/83 [00:00<00:00, 888.07it/s]\n"
     ]
    },
    {
     "name": "stdout",
     "output_type": "stream",
     "text": [
      "Epoch 3, Train Loss: 0.4838, Val Loss: 0.5601\n"
     ]
    },
    {
     "name": "stderr",
     "output_type": "stream",
     "text": [
      "Training...: 100%|██████████| 329/329 [00:02<00:00, 163.91it/s]\n",
      "Validating...: 100%|██████████| 83/83 [00:00<00:00, 884.30it/s]\n"
     ]
    },
    {
     "name": "stdout",
     "output_type": "stream",
     "text": [
      "Epoch 4, Train Loss: 0.4716, Val Loss: 0.5618\n",
      "EarlyStopping counter: 1 out of 7\n"
     ]
    },
    {
     "name": "stderr",
     "output_type": "stream",
     "text": [
      "Training...: 100%|██████████| 329/329 [00:02<00:00, 164.13it/s]\n",
      "Validating...: 100%|██████████| 83/83 [00:00<00:00, 886.63it/s]\n"
     ]
    },
    {
     "name": "stdout",
     "output_type": "stream",
     "text": [
      "Epoch 5, Train Loss: 0.4703, Val Loss: 0.5624\n",
      "EarlyStopping counter: 2 out of 7\n"
     ]
    },
    {
     "name": "stderr",
     "output_type": "stream",
     "text": [
      "Training...: 100%|██████████| 329/329 [00:02<00:00, 163.02it/s]\n",
      "Validating...: 100%|██████████| 83/83 [00:00<00:00, 886.97it/s]\n"
     ]
    },
    {
     "name": "stdout",
     "output_type": "stream",
     "text": [
      "Epoch 6, Train Loss: 0.4704, Val Loss: 0.5619\n",
      "EarlyStopping counter: 3 out of 7\n"
     ]
    },
    {
     "name": "stderr",
     "output_type": "stream",
     "text": [
      "Training...: 100%|██████████| 329/329 [00:02<00:00, 163.18it/s]\n",
      "Validating...: 100%|██████████| 83/83 [00:00<00:00, 889.05it/s]\n"
     ]
    },
    {
     "name": "stdout",
     "output_type": "stream",
     "text": [
      "Epoch 7, Train Loss: 0.4286, Val Loss: 0.3909\n"
     ]
    },
    {
     "name": "stderr",
     "output_type": "stream",
     "text": [
      "Training...: 100%|██████████| 329/329 [00:02<00:00, 162.96it/s]\n",
      "Validating...: 100%|██████████| 83/83 [00:00<00:00, 884.17it/s]\n"
     ]
    },
    {
     "name": "stdout",
     "output_type": "stream",
     "text": [
      "Epoch 8, Train Loss: 0.2966, Val Loss: 0.2832\n"
     ]
    },
    {
     "name": "stderr",
     "output_type": "stream",
     "text": [
      "Training...: 100%|██████████| 329/329 [00:02<00:00, 163.09it/s]\n",
      "Validating...: 100%|██████████| 83/83 [00:00<00:00, 886.21it/s]\n"
     ]
    },
    {
     "name": "stdout",
     "output_type": "stream",
     "text": [
      "Epoch 9, Train Loss: 0.2507, Val Loss: 0.2534\n"
     ]
    },
    {
     "name": "stderr",
     "output_type": "stream",
     "text": [
      "Training...: 100%|██████████| 329/329 [00:02<00:00, 161.23it/s]\n",
      "Validating...: 100%|██████████| 83/83 [00:00<00:00, 874.85it/s]\n"
     ]
    },
    {
     "name": "stdout",
     "output_type": "stream",
     "text": [
      "Epoch 10, Train Loss: 0.2318, Val Loss: 0.2285\n"
     ]
    },
    {
     "name": "stderr",
     "output_type": "stream",
     "text": [
      "Training...: 100%|██████████| 329/329 [00:02<00:00, 161.60it/s]\n",
      "Validating...: 100%|██████████| 83/83 [00:00<00:00, 877.51it/s]\n"
     ]
    },
    {
     "name": "stdout",
     "output_type": "stream",
     "text": [
      "Epoch 11, Train Loss: 0.2213, Val Loss: 0.2181\n"
     ]
    },
    {
     "name": "stderr",
     "output_type": "stream",
     "text": [
      "Training...: 100%|██████████| 329/329 [00:02<00:00, 161.24it/s]\n",
      "Validating...: 100%|██████████| 83/83 [00:00<00:00, 862.87it/s]\n"
     ]
    },
    {
     "name": "stdout",
     "output_type": "stream",
     "text": [
      "Epoch 12, Train Loss: 0.2154, Val Loss: 0.2153\n"
     ]
    },
    {
     "name": "stderr",
     "output_type": "stream",
     "text": [
      "Training...: 100%|██████████| 329/329 [00:02<00:00, 161.76it/s]\n",
      "Validating...: 100%|██████████| 83/83 [00:00<00:00, 871.15it/s]\n"
     ]
    },
    {
     "name": "stdout",
     "output_type": "stream",
     "text": [
      "Epoch 13, Train Loss: 0.2110, Val Loss: 0.2094\n"
     ]
    },
    {
     "name": "stderr",
     "output_type": "stream",
     "text": [
      "Training...: 100%|██████████| 329/329 [00:02<00:00, 161.85it/s]\n",
      "Validating...: 100%|██████████| 83/83 [00:00<00:00, 876.82it/s]\n"
     ]
    },
    {
     "name": "stdout",
     "output_type": "stream",
     "text": [
      "Epoch 14, Train Loss: 0.2079, Val Loss: 0.2050\n"
     ]
    },
    {
     "name": "stderr",
     "output_type": "stream",
     "text": [
      "Training...: 100%|██████████| 329/329 [00:02<00:00, 162.89it/s]\n",
      "Validating...: 100%|██████████| 83/83 [00:00<00:00, 898.99it/s]\n"
     ]
    },
    {
     "name": "stdout",
     "output_type": "stream",
     "text": [
      "Epoch 15, Train Loss: 0.2053, Val Loss: 0.2079\n",
      "EarlyStopping counter: 1 out of 7\n"
     ]
    },
    {
     "name": "stderr",
     "output_type": "stream",
     "text": [
      "Training...: 100%|██████████| 329/329 [00:01<00:00, 166.48it/s]\n",
      "Validating...: 100%|██████████| 83/83 [00:00<00:00, 905.75it/s]\n"
     ]
    },
    {
     "name": "stdout",
     "output_type": "stream",
     "text": [
      "Epoch 16, Train Loss: 0.2040, Val Loss: 0.1985\n"
     ]
    },
    {
     "name": "stderr",
     "output_type": "stream",
     "text": [
      "Training...: 100%|██████████| 329/329 [00:01<00:00, 166.93it/s]\n",
      "Validating...: 100%|██████████| 83/83 [00:00<00:00, 905.95it/s]\n"
     ]
    },
    {
     "name": "stdout",
     "output_type": "stream",
     "text": [
      "Epoch 17, Train Loss: 0.2019, Val Loss: 0.2035\n",
      "EarlyStopping counter: 1 out of 7\n"
     ]
    },
    {
     "name": "stderr",
     "output_type": "stream",
     "text": [
      "Training...: 100%|██████████| 329/329 [00:01<00:00, 166.76it/s]\n",
      "Validating...: 100%|██████████| 83/83 [00:00<00:00, 902.77it/s]\n"
     ]
    },
    {
     "name": "stdout",
     "output_type": "stream",
     "text": [
      "Epoch 18, Train Loss: 0.2005, Val Loss: 0.1996\n",
      "EarlyStopping counter: 2 out of 7\n"
     ]
    },
    {
     "name": "stderr",
     "output_type": "stream",
     "text": [
      "Training...: 100%|██████████| 329/329 [00:01<00:00, 166.92it/s]\n",
      "Validating...: 100%|██████████| 83/83 [00:00<00:00, 900.51it/s]\n"
     ]
    },
    {
     "name": "stdout",
     "output_type": "stream",
     "text": [
      "Epoch 19, Train Loss: 0.1993, Val Loss: 0.1967\n"
     ]
    },
    {
     "name": "stderr",
     "output_type": "stream",
     "text": [
      "Training...: 100%|██████████| 329/329 [00:01<00:00, 166.48it/s]\n",
      "Validating...: 100%|██████████| 83/83 [00:00<00:00, 899.01it/s]\n"
     ]
    },
    {
     "name": "stdout",
     "output_type": "stream",
     "text": [
      "Epoch 20, Train Loss: 0.1986, Val Loss: 0.1995\n",
      "EarlyStopping counter: 1 out of 7\n"
     ]
    },
    {
     "name": "stderr",
     "output_type": "stream",
     "text": [
      "Training...: 100%|██████████| 329/329 [00:02<00:00, 162.31it/s]\n",
      "Validating...: 100%|██████████| 83/83 [00:00<00:00, 863.48it/s]\n"
     ]
    },
    {
     "name": "stdout",
     "output_type": "stream",
     "text": [
      "Epoch 21, Train Loss: 0.1981, Val Loss: 0.1996\n",
      "EarlyStopping counter: 2 out of 7\n"
     ]
    },
    {
     "name": "stderr",
     "output_type": "stream",
     "text": [
      "Training...: 100%|██████████| 329/329 [00:02<00:00, 161.97it/s]\n",
      "Validating...: 100%|██████████| 83/83 [00:00<00:00, 871.81it/s]\n"
     ]
    },
    {
     "name": "stdout",
     "output_type": "stream",
     "text": [
      "Epoch 22, Train Loss: 0.1970, Val Loss: 0.1989\n",
      "EarlyStopping counter: 3 out of 7\n"
     ]
    },
    {
     "name": "stderr",
     "output_type": "stream",
     "text": [
      "Training...: 100%|██████████| 329/329 [00:02<00:00, 162.32it/s]\n",
      "Validating...: 100%|██████████| 83/83 [00:00<00:00, 869.60it/s]\n"
     ]
    },
    {
     "name": "stdout",
     "output_type": "stream",
     "text": [
      "Epoch 23, Train Loss: 0.1951, Val Loss: 0.1960\n"
     ]
    },
    {
     "name": "stderr",
     "output_type": "stream",
     "text": [
      "Training...: 100%|██████████| 329/329 [00:02<00:00, 162.06it/s]\n",
      "Validating...: 100%|██████████| 83/83 [00:00<00:00, 876.69it/s]\n"
     ]
    },
    {
     "name": "stdout",
     "output_type": "stream",
     "text": [
      "Epoch 24, Train Loss: 0.1954, Val Loss: 0.1996\n",
      "EarlyStopping counter: 1 out of 7\n"
     ]
    },
    {
     "name": "stderr",
     "output_type": "stream",
     "text": [
      "Training...: 100%|██████████| 329/329 [00:02<00:00, 162.34it/s]\n",
      "Validating...: 100%|██████████| 83/83 [00:00<00:00, 879.67it/s]\n"
     ]
    },
    {
     "name": "stdout",
     "output_type": "stream",
     "text": [
      "Epoch 25, Train Loss: 0.1941, Val Loss: 0.1972\n",
      "EarlyStopping counter: 2 out of 7\n"
     ]
    },
    {
     "name": "stderr",
     "output_type": "stream",
     "text": [
      "Training...: 100%|██████████| 329/329 [00:02<00:00, 161.88it/s]\n",
      "Validating...: 100%|██████████| 83/83 [00:00<00:00, 877.37it/s]\n"
     ]
    },
    {
     "name": "stdout",
     "output_type": "stream",
     "text": [
      "Epoch 26, Train Loss: 0.1938, Val Loss: 0.1982\n",
      "EarlyStopping counter: 3 out of 7\n"
     ]
    },
    {
     "name": "stderr",
     "output_type": "stream",
     "text": [
      "Training...: 100%|██████████| 329/329 [00:02<00:00, 162.20it/s]\n",
      "Validating...: 100%|██████████| 83/83 [00:00<00:00, 875.12it/s]\n"
     ]
    },
    {
     "name": "stdout",
     "output_type": "stream",
     "text": [
      "Epoch 27, Train Loss: 0.1937, Val Loss: 0.1949\n"
     ]
    },
    {
     "name": "stderr",
     "output_type": "stream",
     "text": [
      "Training...: 100%|██████████| 329/329 [00:02<00:00, 164.46it/s]\n",
      "Validating...: 100%|██████████| 83/83 [00:00<00:00, 905.67it/s]\n"
     ]
    },
    {
     "name": "stdout",
     "output_type": "stream",
     "text": [
      "Epoch 28, Train Loss: 0.1929, Val Loss: 0.1978\n",
      "EarlyStopping counter: 1 out of 7\n"
     ]
    },
    {
     "name": "stderr",
     "output_type": "stream",
     "text": [
      "Training...: 100%|██████████| 329/329 [00:01<00:00, 167.00it/s]\n",
      "Validating...: 100%|██████████| 83/83 [00:00<00:00, 903.38it/s]\n"
     ]
    },
    {
     "name": "stdout",
     "output_type": "stream",
     "text": [
      "Epoch 29, Train Loss: 0.1931, Val Loss: 0.1974\n",
      "EarlyStopping counter: 2 out of 7\n"
     ]
    },
    {
     "name": "stderr",
     "output_type": "stream",
     "text": [
      "Training...: 100%|██████████| 329/329 [00:01<00:00, 166.12it/s]\n",
      "Validating...: 100%|██████████| 83/83 [00:00<00:00, 902.62it/s]\n"
     ]
    },
    {
     "name": "stdout",
     "output_type": "stream",
     "text": [
      "Epoch 30, Train Loss: 0.1924, Val Loss: 0.1949\n"
     ]
    },
    {
     "name": "stderr",
     "output_type": "stream",
     "text": [
      "Training...: 100%|██████████| 329/329 [00:01<00:00, 166.06it/s]\n",
      "Validating...: 100%|██████████| 83/83 [00:00<00:00, 902.28it/s]\n"
     ]
    },
    {
     "name": "stdout",
     "output_type": "stream",
     "text": [
      "Epoch 31, Train Loss: 0.1919, Val Loss: 0.2025\n",
      "EarlyStopping counter: 1 out of 7\n"
     ]
    },
    {
     "name": "stderr",
     "output_type": "stream",
     "text": [
      "Training...: 100%|██████████| 329/329 [00:01<00:00, 165.71it/s]\n",
      "Validating...: 100%|██████████| 83/83 [00:00<00:00, 902.51it/s]\n"
     ]
    },
    {
     "name": "stdout",
     "output_type": "stream",
     "text": [
      "Epoch 32, Train Loss: 0.1913, Val Loss: 0.1982\n",
      "EarlyStopping counter: 2 out of 7\n"
     ]
    },
    {
     "name": "stderr",
     "output_type": "stream",
     "text": [
      "Training...: 100%|██████████| 329/329 [00:01<00:00, 165.56it/s]\n",
      "Validating...: 100%|██████████| 83/83 [00:00<00:00, 897.92it/s]\n"
     ]
    },
    {
     "name": "stdout",
     "output_type": "stream",
     "text": [
      "Epoch 33, Train Loss: 0.1911, Val Loss: 0.1955\n",
      "EarlyStopping counter: 3 out of 7\n"
     ]
    },
    {
     "name": "stderr",
     "output_type": "stream",
     "text": [
      "Training...: 100%|██████████| 329/329 [00:01<00:00, 165.51it/s]\n",
      "Validating...: 100%|██████████| 83/83 [00:00<00:00, 898.57it/s]\n"
     ]
    },
    {
     "name": "stdout",
     "output_type": "stream",
     "text": [
      "Epoch 34, Train Loss: 0.1908, Val Loss: 0.1952\n",
      "EarlyStopping counter: 4 out of 7\n"
     ]
    },
    {
     "name": "stderr",
     "output_type": "stream",
     "text": [
      "Training...: 100%|██████████| 329/329 [00:01<00:00, 165.22it/s]\n",
      "Validating...: 100%|██████████| 83/83 [00:00<00:00, 885.48it/s]\n"
     ]
    },
    {
     "name": "stdout",
     "output_type": "stream",
     "text": [
      "Epoch 35, Train Loss: 0.1902, Val Loss: 0.1929\n"
     ]
    },
    {
     "name": "stderr",
     "output_type": "stream",
     "text": [
      "Training...: 100%|██████████| 329/329 [00:02<00:00, 161.14it/s]\n",
      "Validating...: 100%|██████████| 83/83 [00:00<00:00, 880.32it/s]\n"
     ]
    },
    {
     "name": "stdout",
     "output_type": "stream",
     "text": [
      "Epoch 36, Train Loss: 0.1899, Val Loss: 0.1973\n",
      "EarlyStopping counter: 1 out of 7\n"
     ]
    },
    {
     "name": "stderr",
     "output_type": "stream",
     "text": [
      "Training...: 100%|██████████| 329/329 [00:02<00:00, 161.46it/s]\n",
      "Validating...: 100%|██████████| 83/83 [00:00<00:00, 876.03it/s]\n"
     ]
    },
    {
     "name": "stdout",
     "output_type": "stream",
     "text": [
      "Epoch 37, Train Loss: 0.1899, Val Loss: 0.1909\n"
     ]
    },
    {
     "name": "stderr",
     "output_type": "stream",
     "text": [
      "Training...: 100%|██████████| 329/329 [00:02<00:00, 161.06it/s]\n",
      "Validating...: 100%|██████████| 83/83 [00:00<00:00, 876.11it/s]\n"
     ]
    },
    {
     "name": "stdout",
     "output_type": "stream",
     "text": [
      "Epoch 38, Train Loss: 0.1900, Val Loss: 0.1983\n",
      "EarlyStopping counter: 1 out of 7\n"
     ]
    },
    {
     "name": "stderr",
     "output_type": "stream",
     "text": [
      "Training...: 100%|██████████| 329/329 [00:02<00:00, 161.64it/s]\n",
      "Validating...: 100%|██████████| 83/83 [00:00<00:00, 877.18it/s]\n"
     ]
    },
    {
     "name": "stdout",
     "output_type": "stream",
     "text": [
      "Epoch 39, Train Loss: 0.1897, Val Loss: 0.1939\n",
      "EarlyStopping counter: 2 out of 7\n"
     ]
    },
    {
     "name": "stderr",
     "output_type": "stream",
     "text": [
      "Training...: 100%|██████████| 329/329 [00:02<00:00, 161.40it/s]\n",
      "Validating...: 100%|██████████| 83/83 [00:00<00:00, 875.30it/s]\n"
     ]
    },
    {
     "name": "stdout",
     "output_type": "stream",
     "text": [
      "Epoch 40, Train Loss: 0.1894, Val Loss: 0.1971\n",
      "EarlyStopping counter: 3 out of 7\n"
     ]
    },
    {
     "name": "stderr",
     "output_type": "stream",
     "text": [
      "Training...: 100%|██████████| 329/329 [00:02<00:00, 161.51it/s]\n",
      "Validating...: 100%|██████████| 83/83 [00:00<00:00, 873.09it/s]\n"
     ]
    },
    {
     "name": "stdout",
     "output_type": "stream",
     "text": [
      "Epoch 41, Train Loss: 0.1898, Val Loss: 0.1960\n",
      "EarlyStopping counter: 4 out of 7\n"
     ]
    },
    {
     "name": "stderr",
     "output_type": "stream",
     "text": [
      "Training...: 100%|██████████| 329/329 [00:02<00:00, 162.17it/s]\n",
      "Validating...: 100%|██████████| 83/83 [00:00<00:00, 902.37it/s]\n"
     ]
    },
    {
     "name": "stdout",
     "output_type": "stream",
     "text": [
      "Epoch 42, Train Loss: 0.1889, Val Loss: 0.2002\n",
      "EarlyStopping counter: 5 out of 7\n"
     ]
    },
    {
     "name": "stderr",
     "output_type": "stream",
     "text": [
      "Training...: 100%|██████████| 329/329 [00:01<00:00, 165.96it/s]\n",
      "Validating...: 100%|██████████| 83/83 [00:00<00:00, 903.10it/s]\n"
     ]
    },
    {
     "name": "stdout",
     "output_type": "stream",
     "text": [
      "Epoch 43, Train Loss: 0.1887, Val Loss: 0.1984\n",
      "EarlyStopping counter: 6 out of 7\n"
     ]
    },
    {
     "name": "stderr",
     "output_type": "stream",
     "text": [
      "Training...: 100%|██████████| 329/329 [00:01<00:00, 166.36it/s]\n",
      "Validating...: 100%|██████████| 83/83 [00:00<00:00, 906.88it/s]\n"
     ]
    },
    {
     "name": "stdout",
     "output_type": "stream",
     "text": [
      "Epoch 44, Train Loss: 0.1889, Val Loss: 0.1990\n",
      "EarlyStopping counter: 7 out of 7\n",
      "Early stopping\n",
      "Early stopping\n",
      "../results/5fda7f7b-4664-44e0-9a66-023749a34cb4_history.pkl\n",
      "##########################################################\n",
      "Experiment 80e6fdf2-0380-4014-9c7d-1eaeec7f7545 Parameters:\n",
      "\n",
      "Window size: 60\n",
      "Step size: 20\n",
      "Batch size: 32\n",
      "Hidden dim1: 25\n",
      "Hidden dim2: 50\n",
      "Dropout: 0.2\n",
      "Layer norm flag: Enabled\n",
      "Loss function: <class 'torch.nn.modules.loss.MSELoss'>\n",
      "Lr: 0.0001\n",
      "Num epochs: 52\n"
     ]
    },
    {
     "name": "stderr",
     "output_type": "stream",
     "text": [
      "Training...: 100%|██████████| 329/329 [00:01<00:00, 166.22it/s]\n",
      "Validating...: 100%|██████████| 83/83 [00:00<00:00, 905.01it/s]\n"
     ]
    },
    {
     "name": "stdout",
     "output_type": "stream",
     "text": [
      "Epoch 1, Train Loss: 0.9836, Val Loss: 0.6585\n"
     ]
    },
    {
     "name": "stderr",
     "output_type": "stream",
     "text": [
      "Training...: 100%|██████████| 329/329 [00:01<00:00, 166.24it/s]\n",
      "Validating...: 100%|██████████| 83/83 [00:00<00:00, 909.37it/s]\n"
     ]
    },
    {
     "name": "stdout",
     "output_type": "stream",
     "text": [
      "Epoch 2, Train Loss: 0.9501, Val Loss: 0.6346\n"
     ]
    },
    {
     "name": "stderr",
     "output_type": "stream",
     "text": [
      "Training...: 100%|██████████| 329/329 [00:01<00:00, 166.16it/s]\n",
      "Validating...: 100%|██████████| 83/83 [00:00<00:00, 908.77it/s]\n"
     ]
    },
    {
     "name": "stdout",
     "output_type": "stream",
     "text": [
      "Epoch 3, Train Loss: 0.9458, Val Loss: 0.6212\n"
     ]
    },
    {
     "name": "stderr",
     "output_type": "stream",
     "text": [
      "Training...: 100%|██████████| 329/329 [00:01<00:00, 166.12it/s]\n",
      "Validating...: 100%|██████████| 83/83 [00:00<00:00, 907.83it/s]\n"
     ]
    },
    {
     "name": "stdout",
     "output_type": "stream",
     "text": [
      "Epoch 4, Train Loss: 0.9432, Val Loss: 0.6152\n"
     ]
    },
    {
     "name": "stderr",
     "output_type": "stream",
     "text": [
      "Training...: 100%|██████████| 329/329 [00:01<00:00, 166.41it/s]\n",
      "Validating...: 100%|██████████| 83/83 [00:00<00:00, 906.10it/s]\n"
     ]
    },
    {
     "name": "stdout",
     "output_type": "stream",
     "text": [
      "Epoch 5, Train Loss: 0.9406, Val Loss: 0.6107\n"
     ]
    },
    {
     "name": "stderr",
     "output_type": "stream",
     "text": [
      "Training...: 100%|██████████| 329/329 [00:01<00:00, 166.59it/s]\n",
      "Validating...: 100%|██████████| 83/83 [00:00<00:00, 908.05it/s]\n"
     ]
    },
    {
     "name": "stdout",
     "output_type": "stream",
     "text": [
      "Epoch 6, Train Loss: 0.9385, Val Loss: 0.6065\n"
     ]
    },
    {
     "name": "stderr",
     "output_type": "stream",
     "text": [
      "Training...: 100%|██████████| 329/329 [00:01<00:00, 166.67it/s]\n",
      "Validating...: 100%|██████████| 83/83 [00:00<00:00, 874.92it/s]\n"
     ]
    },
    {
     "name": "stdout",
     "output_type": "stream",
     "text": [
      "Epoch 7, Train Loss: 0.9362, Val Loss: 0.6030\n"
     ]
    },
    {
     "name": "stderr",
     "output_type": "stream",
     "text": [
      "Training...: 100%|██████████| 329/329 [00:02<00:00, 162.07it/s]\n",
      "Validating...: 100%|██████████| 83/83 [00:00<00:00, 884.30it/s]\n"
     ]
    },
    {
     "name": "stdout",
     "output_type": "stream",
     "text": [
      "Epoch 8, Train Loss: 0.9330, Val Loss: 0.5907\n"
     ]
    },
    {
     "name": "stderr",
     "output_type": "stream",
     "text": [
      "Training...: 100%|██████████| 329/329 [00:02<00:00, 161.82it/s]\n",
      "Validating...: 100%|██████████| 83/83 [00:00<00:00, 882.51it/s]\n"
     ]
    },
    {
     "name": "stdout",
     "output_type": "stream",
     "text": [
      "Epoch 9, Train Loss: 0.9278, Val Loss: 0.5728\n"
     ]
    },
    {
     "name": "stderr",
     "output_type": "stream",
     "text": [
      "Training...: 100%|██████████| 329/329 [00:02<00:00, 162.13it/s]\n",
      "Validating...: 100%|██████████| 83/83 [00:00<00:00, 879.08it/s]\n"
     ]
    },
    {
     "name": "stdout",
     "output_type": "stream",
     "text": [
      "Epoch 10, Train Loss: 0.9195, Val Loss: 0.5249\n"
     ]
    },
    {
     "name": "stderr",
     "output_type": "stream",
     "text": [
      "Training...: 100%|██████████| 329/329 [00:02<00:00, 162.36it/s]\n",
      "Validating...: 100%|██████████| 83/83 [00:00<00:00, 879.60it/s]\n"
     ]
    },
    {
     "name": "stdout",
     "output_type": "stream",
     "text": [
      "Epoch 11, Train Loss: 0.8728, Val Loss: 0.4656\n"
     ]
    },
    {
     "name": "stderr",
     "output_type": "stream",
     "text": [
      "Training...: 100%|██████████| 329/329 [00:02<00:00, 162.23it/s]\n",
      "Validating...: 100%|██████████| 83/83 [00:00<00:00, 880.73it/s]\n"
     ]
    },
    {
     "name": "stdout",
     "output_type": "stream",
     "text": [
      "Epoch 12, Train Loss: 0.8529, Val Loss: 0.4341\n"
     ]
    },
    {
     "name": "stderr",
     "output_type": "stream",
     "text": [
      "Training...: 100%|██████████| 329/329 [00:02<00:00, 162.63it/s]\n",
      "Validating...: 100%|██████████| 83/83 [00:00<00:00, 907.02it/s]\n"
     ]
    },
    {
     "name": "stdout",
     "output_type": "stream",
     "text": [
      "Epoch 13, Train Loss: 0.8398, Val Loss: 0.4134\n"
     ]
    },
    {
     "name": "stderr",
     "output_type": "stream",
     "text": [
      "Training...: 100%|██████████| 329/329 [00:01<00:00, 167.04it/s]\n",
      "Validating...: 100%|██████████| 83/83 [00:00<00:00, 904.37it/s]\n"
     ]
    },
    {
     "name": "stdout",
     "output_type": "stream",
     "text": [
      "Epoch 14, Train Loss: 0.8303, Val Loss: 0.4009\n"
     ]
    },
    {
     "name": "stderr",
     "output_type": "stream",
     "text": [
      "Training...: 100%|██████████| 329/329 [00:01<00:00, 165.43it/s]\n",
      "Validating...: 100%|██████████| 83/83 [00:00<00:00, 905.59it/s]\n"
     ]
    },
    {
     "name": "stdout",
     "output_type": "stream",
     "text": [
      "Epoch 15, Train Loss: 0.8224, Val Loss: 0.3896\n"
     ]
    },
    {
     "name": "stderr",
     "output_type": "stream",
     "text": [
      "Training...: 100%|██████████| 329/329 [00:01<00:00, 165.75it/s]\n",
      "Validating...: 100%|██████████| 83/83 [00:00<00:00, 904.24it/s]\n"
     ]
    },
    {
     "name": "stdout",
     "output_type": "stream",
     "text": [
      "Epoch 16, Train Loss: 0.8148, Val Loss: 0.3789\n"
     ]
    },
    {
     "name": "stderr",
     "output_type": "stream",
     "text": [
      "Training...: 100%|██████████| 329/329 [00:01<00:00, 165.61it/s]\n",
      "Validating...: 100%|██████████| 83/83 [00:00<00:00, 898.42it/s]\n"
     ]
    },
    {
     "name": "stdout",
     "output_type": "stream",
     "text": [
      "Epoch 17, Train Loss: 0.8077, Val Loss: 0.3711\n"
     ]
    },
    {
     "name": "stderr",
     "output_type": "stream",
     "text": [
      "Training...: 100%|██████████| 329/329 [00:01<00:00, 165.60it/s]\n",
      "Validating...: 100%|██████████| 83/83 [00:00<00:00, 902.35it/s]\n"
     ]
    },
    {
     "name": "stdout",
     "output_type": "stream",
     "text": [
      "Epoch 18, Train Loss: 0.8007, Val Loss: 0.3631\n"
     ]
    },
    {
     "name": "stderr",
     "output_type": "stream",
     "text": [
      "Training...: 100%|██████████| 329/329 [00:01<00:00, 165.73it/s]\n",
      "Validating...: 100%|██████████| 83/83 [00:00<00:00, 903.64it/s]\n"
     ]
    },
    {
     "name": "stdout",
     "output_type": "stream",
     "text": [
      "Epoch 19, Train Loss: 0.7962, Val Loss: 0.3573\n"
     ]
    },
    {
     "name": "stderr",
     "output_type": "stream",
     "text": [
      "Training...: 100%|██████████| 329/329 [00:01<00:00, 166.01it/s]\n",
      "Validating...: 100%|██████████| 83/83 [00:00<00:00, 903.24it/s]\n"
     ]
    },
    {
     "name": "stdout",
     "output_type": "stream",
     "text": [
      "Epoch 20, Train Loss: 0.8394, Val Loss: 0.3501\n"
     ]
    },
    {
     "name": "stderr",
     "output_type": "stream",
     "text": [
      "Training...: 100%|██████████| 329/329 [00:01<00:00, 166.53it/s]\n",
      "Validating...: 100%|██████████| 83/83 [00:00<00:00, 904.93it/s]\n"
     ]
    },
    {
     "name": "stdout",
     "output_type": "stream",
     "text": [
      "Epoch 21, Train Loss: 0.7844, Val Loss: 0.3448\n"
     ]
    },
    {
     "name": "stderr",
     "output_type": "stream",
     "text": [
      "Training...: 100%|██████████| 329/329 [00:01<00:00, 166.58it/s]\n",
      "Validating...: 100%|██████████| 83/83 [00:00<00:00, 900.17it/s]\n"
     ]
    },
    {
     "name": "stdout",
     "output_type": "stream",
     "text": [
      "Epoch 22, Train Loss: 0.7803, Val Loss: 0.3394\n"
     ]
    },
    {
     "name": "stderr",
     "output_type": "stream",
     "text": [
      "Training...: 100%|██████████| 329/329 [00:01<00:00, 166.40it/s]\n",
      "Validating...: 100%|██████████| 83/83 [00:00<00:00, 905.66it/s]\n"
     ]
    },
    {
     "name": "stdout",
     "output_type": "stream",
     "text": [
      "Epoch 23, Train Loss: 0.7757, Val Loss: 0.3347\n"
     ]
    },
    {
     "name": "stderr",
     "output_type": "stream",
     "text": [
      "Training...: 100%|██████████| 329/329 [00:01<00:00, 166.39it/s]\n",
      "Validating...: 100%|██████████| 83/83 [00:00<00:00, 908.29it/s]\n"
     ]
    },
    {
     "name": "stdout",
     "output_type": "stream",
     "text": [
      "Epoch 24, Train Loss: 0.7710, Val Loss: 0.3293\n"
     ]
    },
    {
     "name": "stderr",
     "output_type": "stream",
     "text": [
      "Training...: 100%|██████████| 329/329 [00:01<00:00, 166.48it/s]\n",
      "Validating...: 100%|██████████| 83/83 [00:00<00:00, 904.77it/s]\n"
     ]
    },
    {
     "name": "stdout",
     "output_type": "stream",
     "text": [
      "Epoch 25, Train Loss: 0.7677, Val Loss: 0.3247\n"
     ]
    },
    {
     "name": "stderr",
     "output_type": "stream",
     "text": [
      "Training...: 100%|██████████| 329/329 [00:01<00:00, 166.57it/s]\n",
      "Validating...: 100%|██████████| 83/83 [00:00<00:00, 903.95it/s]\n"
     ]
    },
    {
     "name": "stdout",
     "output_type": "stream",
     "text": [
      "Epoch 26, Train Loss: 0.7634, Val Loss: 0.3211\n"
     ]
    },
    {
     "name": "stderr",
     "output_type": "stream",
     "text": [
      "Training...: 100%|██████████| 329/329 [00:01<00:00, 166.59it/s]\n",
      "Validating...: 100%|██████████| 83/83 [00:00<00:00, 903.23it/s]\n"
     ]
    },
    {
     "name": "stdout",
     "output_type": "stream",
     "text": [
      "Epoch 27, Train Loss: 0.7586, Val Loss: 0.3160\n"
     ]
    },
    {
     "name": "stderr",
     "output_type": "stream",
     "text": [
      "Training...: 100%|██████████| 329/329 [00:01<00:00, 165.87it/s]\n",
      "Validating...: 100%|██████████| 83/83 [00:00<00:00, 899.87it/s]\n"
     ]
    },
    {
     "name": "stdout",
     "output_type": "stream",
     "text": [
      "Epoch 28, Train Loss: 0.7563, Val Loss: 0.3119\n"
     ]
    },
    {
     "name": "stderr",
     "output_type": "stream",
     "text": [
      "Training...: 100%|██████████| 329/329 [00:02<00:00, 161.53it/s]\n",
      "Validating...: 100%|██████████| 83/83 [00:00<00:00, 876.34it/s]\n"
     ]
    },
    {
     "name": "stdout",
     "output_type": "stream",
     "text": [
      "Epoch 29, Train Loss: 0.7523, Val Loss: 0.3083\n"
     ]
    },
    {
     "name": "stderr",
     "output_type": "stream",
     "text": [
      "Training...: 100%|██████████| 329/329 [00:01<00:00, 165.85it/s]\n",
      "Validating...: 100%|██████████| 83/83 [00:00<00:00, 905.69it/s]\n"
     ]
    },
    {
     "name": "stdout",
     "output_type": "stream",
     "text": [
      "Epoch 30, Train Loss: 0.7497, Val Loss: 0.3050\n"
     ]
    },
    {
     "name": "stderr",
     "output_type": "stream",
     "text": [
      "Training...: 100%|██████████| 329/329 [00:01<00:00, 166.51it/s]\n",
      "Validating...: 100%|██████████| 83/83 [00:00<00:00, 906.83it/s]\n"
     ]
    },
    {
     "name": "stdout",
     "output_type": "stream",
     "text": [
      "Epoch 31, Train Loss: 0.7464, Val Loss: 0.3015\n"
     ]
    },
    {
     "name": "stderr",
     "output_type": "stream",
     "text": [
      "Training...: 100%|██████████| 329/329 [00:01<00:00, 166.48it/s]\n",
      "Validating...: 100%|██████████| 83/83 [00:00<00:00, 905.11it/s]\n"
     ]
    },
    {
     "name": "stdout",
     "output_type": "stream",
     "text": [
      "Epoch 32, Train Loss: 0.7437, Val Loss: 0.2979\n"
     ]
    },
    {
     "name": "stderr",
     "output_type": "stream",
     "text": [
      "Training...: 100%|██████████| 329/329 [00:01<00:00, 166.19it/s]\n",
      "Validating...: 100%|██████████| 83/83 [00:00<00:00, 909.03it/s]\n"
     ]
    },
    {
     "name": "stdout",
     "output_type": "stream",
     "text": [
      "Epoch 33, Train Loss: 0.7411, Val Loss: 0.2955\n"
     ]
    },
    {
     "name": "stderr",
     "output_type": "stream",
     "text": [
      "Training...: 100%|██████████| 329/329 [00:01<00:00, 166.36it/s]\n",
      "Validating...: 100%|██████████| 83/83 [00:00<00:00, 903.74it/s]\n"
     ]
    },
    {
     "name": "stdout",
     "output_type": "stream",
     "text": [
      "Epoch 34, Train Loss: 0.7380, Val Loss: 0.2929\n"
     ]
    },
    {
     "name": "stderr",
     "output_type": "stream",
     "text": [
      "Training...: 100%|██████████| 329/329 [00:01<00:00, 165.70it/s]\n",
      "Validating...: 100%|██████████| 83/83 [00:00<00:00, 903.96it/s]\n"
     ]
    },
    {
     "name": "stdout",
     "output_type": "stream",
     "text": [
      "Epoch 35, Train Loss: 0.7362, Val Loss: 0.2899\n"
     ]
    },
    {
     "name": "stderr",
     "output_type": "stream",
     "text": [
      "Training...: 100%|██████████| 329/329 [00:01<00:00, 166.28it/s]\n",
      "Validating...: 100%|██████████| 83/83 [00:00<00:00, 904.76it/s]\n"
     ]
    },
    {
     "name": "stdout",
     "output_type": "stream",
     "text": [
      "Epoch 36, Train Loss: 0.7347, Val Loss: 0.2874\n"
     ]
    },
    {
     "name": "stderr",
     "output_type": "stream",
     "text": [
      "Training...: 100%|██████████| 329/329 [00:01<00:00, 166.27it/s]\n",
      "Validating...: 100%|██████████| 83/83 [00:00<00:00, 907.82it/s]\n"
     ]
    },
    {
     "name": "stdout",
     "output_type": "stream",
     "text": [
      "Epoch 37, Train Loss: 0.7334, Val Loss: 0.2855\n"
     ]
    },
    {
     "name": "stderr",
     "output_type": "stream",
     "text": [
      "Training...: 100%|██████████| 329/329 [00:01<00:00, 166.60it/s]\n",
      "Validating...: 100%|██████████| 83/83 [00:00<00:00, 906.93it/s]\n"
     ]
    },
    {
     "name": "stdout",
     "output_type": "stream",
     "text": [
      "Epoch 38, Train Loss: 0.7305, Val Loss: 0.2828\n"
     ]
    },
    {
     "name": "stderr",
     "output_type": "stream",
     "text": [
      "Training...: 100%|██████████| 329/329 [00:01<00:00, 166.96it/s]\n",
      "Validating...: 100%|██████████| 83/83 [00:00<00:00, 908.50it/s]\n"
     ]
    },
    {
     "name": "stdout",
     "output_type": "stream",
     "text": [
      "Epoch 39, Train Loss: 0.7294, Val Loss: 0.2807\n"
     ]
    },
    {
     "name": "stderr",
     "output_type": "stream",
     "text": [
      "Training...: 100%|██████████| 329/329 [00:02<00:00, 163.95it/s]\n",
      "Validating...: 100%|██████████| 83/83 [00:00<00:00, 882.93it/s]\n"
     ]
    },
    {
     "name": "stdout",
     "output_type": "stream",
     "text": [
      "Epoch 40, Train Loss: 0.7274, Val Loss: 0.2801\n"
     ]
    },
    {
     "name": "stderr",
     "output_type": "stream",
     "text": [
      "Training...: 100%|██████████| 329/329 [00:02<00:00, 163.44it/s]\n",
      "Validating...: 100%|██████████| 83/83 [00:00<00:00, 888.51it/s]\n"
     ]
    },
    {
     "name": "stdout",
     "output_type": "stream",
     "text": [
      "Epoch 41, Train Loss: 0.7257, Val Loss: 0.2772\n"
     ]
    },
    {
     "name": "stderr",
     "output_type": "stream",
     "text": [
      "Training...: 100%|██████████| 329/329 [00:02<00:00, 164.18it/s]\n",
      "Validating...: 100%|██████████| 83/83 [00:00<00:00, 886.08it/s]\n"
     ]
    },
    {
     "name": "stdout",
     "output_type": "stream",
     "text": [
      "Epoch 42, Train Loss: 0.7241, Val Loss: 0.2753\n"
     ]
    },
    {
     "name": "stderr",
     "output_type": "stream",
     "text": [
      "Training...: 100%|██████████| 329/329 [00:02<00:00, 163.87it/s]\n",
      "Validating...: 100%|██████████| 83/83 [00:00<00:00, 890.71it/s]\n"
     ]
    },
    {
     "name": "stdout",
     "output_type": "stream",
     "text": [
      "Epoch 43, Train Loss: 0.7233, Val Loss: 0.2739\n"
     ]
    },
    {
     "name": "stderr",
     "output_type": "stream",
     "text": [
      "Training...: 100%|██████████| 329/329 [00:02<00:00, 163.42it/s]\n",
      "Validating...: 100%|██████████| 83/83 [00:00<00:00, 888.57it/s]\n"
     ]
    },
    {
     "name": "stdout",
     "output_type": "stream",
     "text": [
      "Epoch 44, Train Loss: 0.7210, Val Loss: 0.2692\n"
     ]
    },
    {
     "name": "stderr",
     "output_type": "stream",
     "text": [
      "Training...: 100%|██████████| 329/329 [00:02<00:00, 163.36it/s]\n",
      "Validating...: 100%|██████████| 83/83 [00:00<00:00, 890.40it/s]\n"
     ]
    },
    {
     "name": "stdout",
     "output_type": "stream",
     "text": [
      "Epoch 45, Train Loss: 0.7204, Val Loss: 0.2666\n"
     ]
    },
    {
     "name": "stderr",
     "output_type": "stream",
     "text": [
      "Training...: 100%|██████████| 329/329 [00:02<00:00, 163.12it/s]\n",
      "Validating...: 100%|██████████| 83/83 [00:00<00:00, 889.18it/s]\n"
     ]
    },
    {
     "name": "stdout",
     "output_type": "stream",
     "text": [
      "Epoch 46, Train Loss: 0.7188, Val Loss: 0.2652\n"
     ]
    },
    {
     "name": "stderr",
     "output_type": "stream",
     "text": [
      "Training...: 100%|██████████| 329/329 [00:02<00:00, 163.14it/s]\n",
      "Validating...: 100%|██████████| 83/83 [00:00<00:00, 894.68it/s]\n"
     ]
    },
    {
     "name": "stdout",
     "output_type": "stream",
     "text": [
      "Epoch 47, Train Loss: 0.7174, Val Loss: 0.2640\n"
     ]
    },
    {
     "name": "stderr",
     "output_type": "stream",
     "text": [
      "Training...: 100%|██████████| 329/329 [00:02<00:00, 163.20it/s]\n",
      "Validating...: 100%|██████████| 83/83 [00:00<00:00, 892.77it/s]\n"
     ]
    },
    {
     "name": "stdout",
     "output_type": "stream",
     "text": [
      "Epoch 48, Train Loss: 0.7147, Val Loss: 0.2622\n"
     ]
    },
    {
     "name": "stderr",
     "output_type": "stream",
     "text": [
      "Training...: 100%|██████████| 329/329 [00:02<00:00, 163.52it/s]\n",
      "Validating...: 100%|██████████| 83/83 [00:00<00:00, 885.84it/s]\n"
     ]
    },
    {
     "name": "stdout",
     "output_type": "stream",
     "text": [
      "Epoch 49, Train Loss: 0.7157, Val Loss: 0.2613\n"
     ]
    },
    {
     "name": "stderr",
     "output_type": "stream",
     "text": [
      "Training...: 100%|██████████| 329/329 [00:02<00:00, 163.20it/s]\n",
      "Validating...: 100%|██████████| 83/83 [00:00<00:00, 890.68it/s]\n"
     ]
    },
    {
     "name": "stdout",
     "output_type": "stream",
     "text": [
      "Epoch 50, Train Loss: 0.7139, Val Loss: 0.2598\n"
     ]
    },
    {
     "name": "stderr",
     "output_type": "stream",
     "text": [
      "Training...: 100%|██████████| 329/329 [00:02<00:00, 161.64it/s]\n",
      "Validating...: 100%|██████████| 83/83 [00:00<00:00, 884.09it/s]\n"
     ]
    },
    {
     "name": "stdout",
     "output_type": "stream",
     "text": [
      "Epoch 51, Train Loss: 0.7139, Val Loss: 0.2587\n"
     ]
    },
    {
     "name": "stderr",
     "output_type": "stream",
     "text": [
      "Training...: 100%|██████████| 329/329 [00:01<00:00, 165.19it/s]\n",
      "Validating...: 100%|██████████| 83/83 [00:00<00:00, 912.47it/s]\n"
     ]
    },
    {
     "name": "stdout",
     "output_type": "stream",
     "text": [
      "Epoch 52, Train Loss: 0.7129, Val Loss: 0.2581\n",
      "../results/80e6fdf2-0380-4014-9c7d-1eaeec7f7545_history.pkl\n",
      "##########################################################\n",
      "Experiment 32e6e8be-ad43-4d8c-8f25-9006054523ef Parameters:\n",
      "\n",
      "Window size: 60\n",
      "Step size: 20\n",
      "Batch size: 32\n",
      "Hidden dim1: 25\n",
      "Hidden dim2: 50\n",
      "Dropout: 0.2\n",
      "Layer norm flag: Enabled\n",
      "Loss function: <class 'torch.nn.modules.loss.MSELoss'>\n",
      "Lr: 0.001\n",
      "Num epochs: 52\n"
     ]
    },
    {
     "name": "stderr",
     "output_type": "stream",
     "text": [
      "Training...: 100%|██████████| 329/329 [00:01<00:00, 166.53it/s]\n",
      "Validating...: 100%|██████████| 83/83 [00:00<00:00, 909.36it/s]\n"
     ]
    },
    {
     "name": "stdout",
     "output_type": "stream",
     "text": [
      "Epoch 1, Train Loss: 1.0138, Val Loss: 0.9439\n"
     ]
    },
    {
     "name": "stderr",
     "output_type": "stream",
     "text": [
      "Training...: 100%|██████████| 329/329 [00:01<00:00, 166.00it/s]\n",
      "Validating...: 100%|██████████| 83/83 [00:00<00:00, 901.60it/s]\n"
     ]
    },
    {
     "name": "stdout",
     "output_type": "stream",
     "text": [
      "Epoch 2, Train Loss: 1.0022, Val Loss: 0.9341\n"
     ]
    },
    {
     "name": "stderr",
     "output_type": "stream",
     "text": [
      "Training...: 100%|██████████| 329/329 [00:01<00:00, 165.73it/s]\n",
      "Validating...: 100%|██████████| 83/83 [00:00<00:00, 895.62it/s]\n"
     ]
    },
    {
     "name": "stdout",
     "output_type": "stream",
     "text": [
      "Epoch 3, Train Loss: 1.0003, Val Loss: 0.9293\n"
     ]
    },
    {
     "name": "stderr",
     "output_type": "stream",
     "text": [
      "Training...: 100%|██████████| 329/329 [00:01<00:00, 165.65it/s]\n",
      "Validating...: 100%|██████████| 83/83 [00:00<00:00, 905.16it/s]\n"
     ]
    },
    {
     "name": "stdout",
     "output_type": "stream",
     "text": [
      "Epoch 4, Train Loss: 0.9898, Val Loss: 0.8973\n"
     ]
    },
    {
     "name": "stderr",
     "output_type": "stream",
     "text": [
      "Training...: 100%|██████████| 329/329 [00:01<00:00, 165.97it/s]\n",
      "Validating...: 100%|██████████| 83/83 [00:00<00:00, 904.51it/s]\n"
     ]
    },
    {
     "name": "stdout",
     "output_type": "stream",
     "text": [
      "Epoch 5, Train Loss: 0.9303, Val Loss: 0.7361\n"
     ]
    },
    {
     "name": "stderr",
     "output_type": "stream",
     "text": [
      "Training...: 100%|██████████| 329/329 [00:01<00:00, 166.61it/s]\n",
      "Validating...: 100%|██████████| 83/83 [00:00<00:00, 902.68it/s]\n"
     ]
    },
    {
     "name": "stdout",
     "output_type": "stream",
     "text": [
      "Epoch 6, Train Loss: 0.8244, Val Loss: 0.5473\n"
     ]
    },
    {
     "name": "stderr",
     "output_type": "stream",
     "text": [
      "Training...: 100%|██████████| 329/329 [00:01<00:00, 166.80it/s]\n",
      "Validating...: 100%|██████████| 83/83 [00:00<00:00, 905.12it/s]\n"
     ]
    },
    {
     "name": "stdout",
     "output_type": "stream",
     "text": [
      "Epoch 7, Train Loss: 0.7734, Val Loss: 0.4854\n"
     ]
    },
    {
     "name": "stderr",
     "output_type": "stream",
     "text": [
      "Training...: 100%|██████████| 329/329 [00:01<00:00, 167.23it/s]\n",
      "Validating...: 100%|██████████| 83/83 [00:00<00:00, 906.47it/s]\n"
     ]
    },
    {
     "name": "stdout",
     "output_type": "stream",
     "text": [
      "Epoch 8, Train Loss: 0.7594, Val Loss: 0.4612\n"
     ]
    },
    {
     "name": "stderr",
     "output_type": "stream",
     "text": [
      "Training...: 100%|██████████| 329/329 [00:01<00:00, 167.09it/s]\n",
      "Validating...: 100%|██████████| 83/83 [00:00<00:00, 903.21it/s]\n"
     ]
    },
    {
     "name": "stdout",
     "output_type": "stream",
     "text": [
      "Epoch 9, Train Loss: 0.7537, Val Loss: 0.4453\n"
     ]
    },
    {
     "name": "stderr",
     "output_type": "stream",
     "text": [
      "Training...: 100%|██████████| 329/329 [00:02<00:00, 162.59it/s]\n",
      "Validating...: 100%|██████████| 83/83 [00:00<00:00, 877.37it/s]\n"
     ]
    },
    {
     "name": "stdout",
     "output_type": "stream",
     "text": [
      "Epoch 10, Train Loss: 0.7501, Val Loss: 0.4396\n"
     ]
    },
    {
     "name": "stderr",
     "output_type": "stream",
     "text": [
      "Training...: 100%|██████████| 329/329 [00:02<00:00, 162.57it/s]\n",
      "Validating...: 100%|██████████| 83/83 [00:00<00:00, 875.14it/s]\n"
     ]
    },
    {
     "name": "stdout",
     "output_type": "stream",
     "text": [
      "Epoch 11, Train Loss: 0.7477, Val Loss: 0.4354\n"
     ]
    },
    {
     "name": "stderr",
     "output_type": "stream",
     "text": [
      "Training...: 100%|██████████| 329/329 [00:02<00:00, 162.63it/s]\n",
      "Validating...: 100%|██████████| 83/83 [00:00<00:00, 881.90it/s]\n"
     ]
    },
    {
     "name": "stdout",
     "output_type": "stream",
     "text": [
      "Epoch 12, Train Loss: 0.7990, Val Loss: 0.4338\n"
     ]
    },
    {
     "name": "stderr",
     "output_type": "stream",
     "text": [
      "Training...: 100%|██████████| 329/329 [00:02<00:00, 162.13it/s]\n",
      "Validating...: 100%|██████████| 83/83 [00:00<00:00, 877.02it/s]\n"
     ]
    },
    {
     "name": "stdout",
     "output_type": "stream",
     "text": [
      "Epoch 13, Train Loss: 0.7442, Val Loss: 0.4303\n"
     ]
    },
    {
     "name": "stderr",
     "output_type": "stream",
     "text": [
      "Training...: 100%|██████████| 329/329 [00:02<00:00, 163.06it/s]\n",
      "Validating...: 100%|██████████| 83/83 [00:00<00:00, 901.51it/s]\n"
     ]
    },
    {
     "name": "stdout",
     "output_type": "stream",
     "text": [
      "Epoch 14, Train Loss: 0.7447, Val Loss: 0.4265\n"
     ]
    },
    {
     "name": "stderr",
     "output_type": "stream",
     "text": [
      "Training...: 100%|██████████| 329/329 [00:01<00:00, 166.44it/s]\n",
      "Validating...: 100%|██████████| 83/83 [00:00<00:00, 904.39it/s]\n"
     ]
    },
    {
     "name": "stdout",
     "output_type": "stream",
     "text": [
      "Epoch 15, Train Loss: 0.7443, Val Loss: 0.4274\n",
      "EarlyStopping counter: 1 out of 7\n"
     ]
    },
    {
     "name": "stderr",
     "output_type": "stream",
     "text": [
      "Training...: 100%|██████████| 329/329 [00:01<00:00, 166.59it/s]\n",
      "Validating...: 100%|██████████| 83/83 [00:00<00:00, 900.74it/s]\n"
     ]
    },
    {
     "name": "stdout",
     "output_type": "stream",
     "text": [
      "Epoch 16, Train Loss: 0.7442, Val Loss: 0.4262\n"
     ]
    },
    {
     "name": "stderr",
     "output_type": "stream",
     "text": [
      "Training...: 100%|██████████| 329/329 [00:01<00:00, 166.58it/s]\n",
      "Validating...: 100%|██████████| 83/83 [00:00<00:00, 900.21it/s]\n"
     ]
    },
    {
     "name": "stdout",
     "output_type": "stream",
     "text": [
      "Epoch 17, Train Loss: 0.7438, Val Loss: 0.4261\n"
     ]
    },
    {
     "name": "stderr",
     "output_type": "stream",
     "text": [
      "Training...: 100%|██████████| 329/329 [00:02<00:00, 163.19it/s]\n",
      "Validating...: 100%|██████████| 83/83 [00:00<00:00, 889.96it/s]\n"
     ]
    },
    {
     "name": "stdout",
     "output_type": "stream",
     "text": [
      "Epoch 18, Train Loss: 0.7417, Val Loss: 0.4265\n",
      "EarlyStopping counter: 1 out of 7\n"
     ]
    },
    {
     "name": "stderr",
     "output_type": "stream",
     "text": [
      "Training...: 100%|██████████| 329/329 [00:02<00:00, 163.26it/s]\n",
      "Validating...: 100%|██████████| 83/83 [00:00<00:00, 891.16it/s]\n"
     ]
    },
    {
     "name": "stdout",
     "output_type": "stream",
     "text": [
      "Epoch 19, Train Loss: 0.7440, Val Loss: 0.4256\n"
     ]
    },
    {
     "name": "stderr",
     "output_type": "stream",
     "text": [
      "Training...: 100%|██████████| 329/329 [00:02<00:00, 163.57it/s]\n",
      "Validating...: 100%|██████████| 83/83 [00:00<00:00, 905.20it/s]\n"
     ]
    },
    {
     "name": "stdout",
     "output_type": "stream",
     "text": [
      "Epoch 20, Train Loss: 0.7422, Val Loss: 0.4263\n",
      "EarlyStopping counter: 1 out of 7\n"
     ]
    },
    {
     "name": "stderr",
     "output_type": "stream",
     "text": [
      "Training...: 100%|██████████| 329/329 [00:01<00:00, 166.20it/s]\n",
      "Validating...: 100%|██████████| 83/83 [00:00<00:00, 900.82it/s]\n"
     ]
    },
    {
     "name": "stdout",
     "output_type": "stream",
     "text": [
      "Epoch 21, Train Loss: 0.7408, Val Loss: 0.4262\n",
      "EarlyStopping counter: 2 out of 7\n"
     ]
    },
    {
     "name": "stderr",
     "output_type": "stream",
     "text": [
      "Training...: 100%|██████████| 329/329 [00:01<00:00, 165.98it/s]\n",
      "Validating...: 100%|██████████| 83/83 [00:00<00:00, 903.33it/s]\n"
     ]
    },
    {
     "name": "stdout",
     "output_type": "stream",
     "text": [
      "Epoch 22, Train Loss: 0.7419, Val Loss: 0.4253\n"
     ]
    },
    {
     "name": "stderr",
     "output_type": "stream",
     "text": [
      "Training...: 100%|██████████| 329/329 [00:01<00:00, 165.68it/s]\n",
      "Validating...: 100%|██████████| 83/83 [00:00<00:00, 891.95it/s]\n"
     ]
    },
    {
     "name": "stdout",
     "output_type": "stream",
     "text": [
      "Epoch 23, Train Loss: 0.7428, Val Loss: 0.4221\n"
     ]
    },
    {
     "name": "stderr",
     "output_type": "stream",
     "text": [
      "Training...: 100%|██████████| 329/329 [00:02<00:00, 162.97it/s]\n",
      "Validating...: 100%|██████████| 83/83 [00:00<00:00, 886.43it/s]\n"
     ]
    },
    {
     "name": "stdout",
     "output_type": "stream",
     "text": [
      "Epoch 24, Train Loss: 0.7446, Val Loss: 0.4235\n",
      "EarlyStopping counter: 1 out of 7\n"
     ]
    },
    {
     "name": "stderr",
     "output_type": "stream",
     "text": [
      "Training...: 100%|██████████| 329/329 [00:02<00:00, 162.52it/s]\n",
      "Validating...: 100%|██████████| 83/83 [00:00<00:00, 877.72it/s]\n"
     ]
    },
    {
     "name": "stdout",
     "output_type": "stream",
     "text": [
      "Epoch 25, Train Loss: 0.7414, Val Loss: 0.4237\n",
      "EarlyStopping counter: 2 out of 7\n"
     ]
    },
    {
     "name": "stderr",
     "output_type": "stream",
     "text": [
      "Training...: 100%|██████████| 329/329 [00:02<00:00, 161.62it/s]\n",
      "Validating...: 100%|██████████| 83/83 [00:00<00:00, 882.48it/s]\n"
     ]
    },
    {
     "name": "stdout",
     "output_type": "stream",
     "text": [
      "Epoch 26, Train Loss: 0.7407, Val Loss: 0.4226\n",
      "EarlyStopping counter: 3 out of 7\n"
     ]
    },
    {
     "name": "stderr",
     "output_type": "stream",
     "text": [
      "Training...: 100%|██████████| 329/329 [00:02<00:00, 163.77it/s]\n",
      "Validating...: 100%|██████████| 83/83 [00:00<00:00, 889.83it/s]\n"
     ]
    },
    {
     "name": "stdout",
     "output_type": "stream",
     "text": [
      "Epoch 27, Train Loss: 0.7920, Val Loss: 0.4244\n",
      "EarlyStopping counter: 4 out of 7\n"
     ]
    },
    {
     "name": "stderr",
     "output_type": "stream",
     "text": [
      "Training...: 100%|██████████| 329/329 [00:01<00:00, 166.06it/s]\n",
      "Validating...: 100%|██████████| 83/83 [00:00<00:00, 902.30it/s]\n"
     ]
    },
    {
     "name": "stdout",
     "output_type": "stream",
     "text": [
      "Epoch 28, Train Loss: 0.7415, Val Loss: 0.4235\n",
      "EarlyStopping counter: 5 out of 7\n"
     ]
    },
    {
     "name": "stderr",
     "output_type": "stream",
     "text": [
      "Training...: 100%|██████████| 329/329 [00:01<00:00, 166.53it/s]\n",
      "Validating...: 100%|██████████| 83/83 [00:00<00:00, 902.12it/s]\n"
     ]
    },
    {
     "name": "stdout",
     "output_type": "stream",
     "text": [
      "Epoch 29, Train Loss: 0.7423, Val Loss: 0.4226\n",
      "EarlyStopping counter: 6 out of 7\n"
     ]
    },
    {
     "name": "stderr",
     "output_type": "stream",
     "text": [
      "Training...: 100%|██████████| 329/329 [00:01<00:00, 166.69it/s]\n",
      "Validating...: 100%|██████████| 83/83 [00:00<00:00, 906.45it/s]\n"
     ]
    },
    {
     "name": "stdout",
     "output_type": "stream",
     "text": [
      "Epoch 30, Train Loss: 0.7396, Val Loss: 0.4229\n",
      "EarlyStopping counter: 7 out of 7\n",
      "Early stopping\n",
      "Early stopping\n",
      "../results/32e6e8be-ad43-4d8c-8f25-9006054523ef_history.pkl\n",
      "##########################################################\n",
      "Experiment 79a50c4c-f148-4a4b-ab2a-5552ca9cf0ea Parameters:\n",
      "\n",
      "Window size: 60\n",
      "Step size: 20\n",
      "Batch size: 32\n",
      "Hidden dim1: 25\n",
      "Hidden dim2: 50\n",
      "Dropout: 0.2\n",
      "Layer norm flag: Disabled\n",
      "Loss function: <class 'torch.nn.modules.loss.L1Loss'>\n",
      "Lr: 0.0001\n",
      "Num epochs: 52\n"
     ]
    },
    {
     "name": "stderr",
     "output_type": "stream",
     "text": [
      "Training...: 100%|██████████| 329/329 [00:01<00:00, 174.93it/s]\n",
      "Validating...: 100%|██████████| 83/83 [00:00<00:00, 912.77it/s]\n"
     ]
    },
    {
     "name": "stdout",
     "output_type": "stream",
     "text": [
      "Epoch 1, Train Loss: 0.5326, Val Loss: 0.6119\n"
     ]
    },
    {
     "name": "stderr",
     "output_type": "stream",
     "text": [
      "Training...: 100%|██████████| 329/329 [00:01<00:00, 169.90it/s]\n",
      "Validating...: 100%|██████████| 83/83 [00:00<00:00, 909.02it/s]\n"
     ]
    },
    {
     "name": "stdout",
     "output_type": "stream",
     "text": [
      "Epoch 2, Train Loss: 0.5263, Val Loss: 0.6095\n"
     ]
    },
    {
     "name": "stderr",
     "output_type": "stream",
     "text": [
      "Training...: 100%|██████████| 329/329 [00:01<00:00, 171.72it/s]\n",
      "Validating...: 100%|██████████| 83/83 [00:00<00:00, 936.89it/s]\n"
     ]
    },
    {
     "name": "stdout",
     "output_type": "stream",
     "text": [
      "Epoch 3, Train Loss: 0.5224, Val Loss: 0.6075\n"
     ]
    },
    {
     "name": "stderr",
     "output_type": "stream",
     "text": [
      "Training...: 100%|██████████| 329/329 [00:01<00:00, 174.51it/s]\n",
      "Validating...: 100%|██████████| 83/83 [00:00<00:00, 942.92it/s]\n"
     ]
    },
    {
     "name": "stdout",
     "output_type": "stream",
     "text": [
      "Epoch 4, Train Loss: 0.5180, Val Loss: 0.6051\n"
     ]
    },
    {
     "name": "stderr",
     "output_type": "stream",
     "text": [
      "Training...: 100%|██████████| 329/329 [00:01<00:00, 174.26it/s]\n",
      "Validating...: 100%|██████████| 83/83 [00:00<00:00, 936.84it/s]\n"
     ]
    },
    {
     "name": "stdout",
     "output_type": "stream",
     "text": [
      "Epoch 5, Train Loss: 0.5131, Val Loss: 0.6020\n"
     ]
    },
    {
     "name": "stderr",
     "output_type": "stream",
     "text": [
      "Training...: 100%|██████████| 329/329 [00:01<00:00, 172.38it/s]\n",
      "Validating...: 100%|██████████| 83/83 [00:00<00:00, 933.23it/s]\n"
     ]
    },
    {
     "name": "stdout",
     "output_type": "stream",
     "text": [
      "Epoch 6, Train Loss: 0.5058, Val Loss: 0.5883\n"
     ]
    },
    {
     "name": "stderr",
     "output_type": "stream",
     "text": [
      "Training...: 100%|██████████| 329/329 [00:01<00:00, 174.23it/s]\n",
      "Validating...: 100%|██████████| 83/83 [00:00<00:00, 940.65it/s]\n"
     ]
    },
    {
     "name": "stdout",
     "output_type": "stream",
     "text": [
      "Epoch 7, Train Loss: 0.4787, Val Loss: 0.5233\n"
     ]
    },
    {
     "name": "stderr",
     "output_type": "stream",
     "text": [
      "Training...: 100%|██████████| 329/329 [00:01<00:00, 175.18it/s]\n",
      "Validating...: 100%|██████████| 83/83 [00:00<00:00, 945.12it/s]\n"
     ]
    },
    {
     "name": "stdout",
     "output_type": "stream",
     "text": [
      "Epoch 8, Train Loss: 0.4366, Val Loss: 0.5021\n"
     ]
    },
    {
     "name": "stderr",
     "output_type": "stream",
     "text": [
      "Training...: 100%|██████████| 329/329 [00:01<00:00, 174.67it/s]\n",
      "Validating...: 100%|██████████| 83/83 [00:00<00:00, 945.67it/s]\n"
     ]
    },
    {
     "name": "stdout",
     "output_type": "stream",
     "text": [
      "Epoch 9, Train Loss: 0.4229, Val Loss: 0.4870\n"
     ]
    },
    {
     "name": "stderr",
     "output_type": "stream",
     "text": [
      "Training...: 100%|██████████| 329/329 [00:01<00:00, 174.76it/s]\n",
      "Validating...: 100%|██████████| 83/83 [00:00<00:00, 941.05it/s]\n"
     ]
    },
    {
     "name": "stdout",
     "output_type": "stream",
     "text": [
      "Epoch 10, Train Loss: 0.4116, Val Loss: 0.4716\n"
     ]
    },
    {
     "name": "stderr",
     "output_type": "stream",
     "text": [
      "Training...: 100%|██████████| 329/329 [00:01<00:00, 174.46it/s]\n",
      "Validating...: 100%|██████████| 83/83 [00:00<00:00, 942.24it/s]\n"
     ]
    },
    {
     "name": "stdout",
     "output_type": "stream",
     "text": [
      "Epoch 11, Train Loss: 0.4026, Val Loss: 0.4532\n"
     ]
    },
    {
     "name": "stderr",
     "output_type": "stream",
     "text": [
      "Training...: 100%|██████████| 329/329 [00:01<00:00, 174.52it/s]\n",
      "Validating...: 100%|██████████| 83/83 [00:00<00:00, 935.55it/s]\n"
     ]
    },
    {
     "name": "stdout",
     "output_type": "stream",
     "text": [
      "Epoch 12, Train Loss: 0.3923, Val Loss: 0.4397\n"
     ]
    },
    {
     "name": "stderr",
     "output_type": "stream",
     "text": [
      "Training...: 100%|██████████| 329/329 [00:01<00:00, 174.28it/s]\n",
      "Validating...: 100%|██████████| 83/83 [00:00<00:00, 938.47it/s]\n"
     ]
    },
    {
     "name": "stdout",
     "output_type": "stream",
     "text": [
      "Epoch 13, Train Loss: 0.3788, Val Loss: 0.4208\n"
     ]
    },
    {
     "name": "stderr",
     "output_type": "stream",
     "text": [
      "Training...: 100%|██████████| 329/329 [00:01<00:00, 174.59it/s]\n",
      "Validating...: 100%|██████████| 83/83 [00:00<00:00, 930.44it/s]\n"
     ]
    },
    {
     "name": "stdout",
     "output_type": "stream",
     "text": [
      "Epoch 14, Train Loss: 0.3672, Val Loss: 0.4082\n"
     ]
    },
    {
     "name": "stderr",
     "output_type": "stream",
     "text": [
      "Training...: 100%|██████████| 329/329 [00:01<00:00, 173.28it/s]\n",
      "Validating...: 100%|██████████| 83/83 [00:00<00:00, 915.54it/s]\n"
     ]
    },
    {
     "name": "stdout",
     "output_type": "stream",
     "text": [
      "Epoch 15, Train Loss: 0.3588, Val Loss: 0.3958\n"
     ]
    },
    {
     "name": "stderr",
     "output_type": "stream",
     "text": [
      "Training...: 100%|██████████| 329/329 [00:01<00:00, 169.42it/s]\n",
      "Validating...: 100%|██████████| 83/83 [00:00<00:00, 911.58it/s]\n"
     ]
    },
    {
     "name": "stdout",
     "output_type": "stream",
     "text": [
      "Epoch 16, Train Loss: 0.3517, Val Loss: 0.3872\n"
     ]
    },
    {
     "name": "stderr",
     "output_type": "stream",
     "text": [
      "Training...: 100%|██████████| 329/329 [00:01<00:00, 169.92it/s]\n",
      "Validating...: 100%|██████████| 83/83 [00:00<00:00, 910.02it/s]\n"
     ]
    },
    {
     "name": "stdout",
     "output_type": "stream",
     "text": [
      "Epoch 17, Train Loss: 0.3458, Val Loss: 0.3784\n"
     ]
    },
    {
     "name": "stderr",
     "output_type": "stream",
     "text": [
      "Training...: 100%|██████████| 329/329 [00:01<00:00, 170.47it/s]\n",
      "Validating...: 100%|██████████| 83/83 [00:00<00:00, 922.31it/s]\n"
     ]
    },
    {
     "name": "stdout",
     "output_type": "stream",
     "text": [
      "Epoch 18, Train Loss: 0.3397, Val Loss: 0.3697\n"
     ]
    },
    {
     "name": "stderr",
     "output_type": "stream",
     "text": [
      "Training...: 100%|██████████| 329/329 [00:01<00:00, 174.24it/s]\n",
      "Validating...: 100%|██████████| 83/83 [00:00<00:00, 934.41it/s]\n"
     ]
    },
    {
     "name": "stdout",
     "output_type": "stream",
     "text": [
      "Epoch 19, Train Loss: 0.3342, Val Loss: 0.3633\n"
     ]
    },
    {
     "name": "stderr",
     "output_type": "stream",
     "text": [
      "Training...: 100%|██████████| 329/329 [00:01<00:00, 175.02it/s]\n",
      "Validating...: 100%|██████████| 83/83 [00:00<00:00, 939.82it/s]\n"
     ]
    },
    {
     "name": "stdout",
     "output_type": "stream",
     "text": [
      "Epoch 20, Train Loss: 0.3292, Val Loss: 0.3536\n"
     ]
    },
    {
     "name": "stderr",
     "output_type": "stream",
     "text": [
      "Training...: 100%|██████████| 329/329 [00:01<00:00, 175.06it/s]\n",
      "Validating...: 100%|██████████| 83/83 [00:00<00:00, 945.86it/s]\n"
     ]
    },
    {
     "name": "stdout",
     "output_type": "stream",
     "text": [
      "Epoch 21, Train Loss: 0.3240, Val Loss: 0.3453\n"
     ]
    },
    {
     "name": "stderr",
     "output_type": "stream",
     "text": [
      "Training...: 100%|██████████| 329/329 [00:01<00:00, 175.37it/s]\n",
      "Validating...: 100%|██████████| 83/83 [00:00<00:00, 927.79it/s]\n"
     ]
    },
    {
     "name": "stdout",
     "output_type": "stream",
     "text": [
      "Epoch 22, Train Loss: 0.3195, Val Loss: 0.3394\n"
     ]
    },
    {
     "name": "stderr",
     "output_type": "stream",
     "text": [
      "Training...: 100%|██████████| 329/329 [00:01<00:00, 175.10it/s]\n",
      "Validating...: 100%|██████████| 83/83 [00:00<00:00, 944.43it/s]\n"
     ]
    },
    {
     "name": "stdout",
     "output_type": "stream",
     "text": [
      "Epoch 23, Train Loss: 0.3145, Val Loss: 0.3334\n"
     ]
    },
    {
     "name": "stderr",
     "output_type": "stream",
     "text": [
      "Training...: 100%|██████████| 329/329 [00:01<00:00, 175.03it/s]\n",
      "Validating...: 100%|██████████| 83/83 [00:00<00:00, 943.66it/s]\n"
     ]
    },
    {
     "name": "stdout",
     "output_type": "stream",
     "text": [
      "Epoch 24, Train Loss: 0.3101, Val Loss: 0.3277\n"
     ]
    },
    {
     "name": "stderr",
     "output_type": "stream",
     "text": [
      "Training...: 100%|██████████| 329/329 [00:01<00:00, 175.19it/s]\n",
      "Validating...: 100%|██████████| 83/83 [00:00<00:00, 939.21it/s]\n"
     ]
    },
    {
     "name": "stdout",
     "output_type": "stream",
     "text": [
      "Epoch 25, Train Loss: 0.3053, Val Loss: 0.3222\n"
     ]
    },
    {
     "name": "stderr",
     "output_type": "stream",
     "text": [
      "Training...: 100%|██████████| 329/329 [00:01<00:00, 174.80it/s]\n",
      "Validating...: 100%|██████████| 83/83 [00:00<00:00, 946.28it/s]\n"
     ]
    },
    {
     "name": "stdout",
     "output_type": "stream",
     "text": [
      "Epoch 26, Train Loss: 0.3010, Val Loss: 0.3162\n"
     ]
    },
    {
     "name": "stderr",
     "output_type": "stream",
     "text": [
      "Training...: 100%|██████████| 329/329 [00:01<00:00, 175.24it/s]\n",
      "Validating...: 100%|██████████| 83/83 [00:00<00:00, 944.64it/s]\n"
     ]
    },
    {
     "name": "stdout",
     "output_type": "stream",
     "text": [
      "Epoch 27, Train Loss: 0.2964, Val Loss: 0.3126\n"
     ]
    },
    {
     "name": "stderr",
     "output_type": "stream",
     "text": [
      "Training...: 100%|██████████| 329/329 [00:01<00:00, 174.89it/s]\n",
      "Validating...: 100%|██████████| 83/83 [00:00<00:00, 939.76it/s]\n"
     ]
    },
    {
     "name": "stdout",
     "output_type": "stream",
     "text": [
      "Epoch 28, Train Loss: 0.2922, Val Loss: 0.3068\n"
     ]
    },
    {
     "name": "stderr",
     "output_type": "stream",
     "text": [
      "Training...: 100%|██████████| 329/329 [00:01<00:00, 175.23it/s]\n",
      "Validating...: 100%|██████████| 83/83 [00:00<00:00, 943.25it/s]\n"
     ]
    },
    {
     "name": "stdout",
     "output_type": "stream",
     "text": [
      "Epoch 29, Train Loss: 0.2883, Val Loss: 0.3000\n"
     ]
    },
    {
     "name": "stderr",
     "output_type": "stream",
     "text": [
      "Training...: 100%|██████████| 329/329 [00:01<00:00, 174.97it/s]\n",
      "Validating...: 100%|██████████| 83/83 [00:00<00:00, 943.91it/s]\n"
     ]
    },
    {
     "name": "stdout",
     "output_type": "stream",
     "text": [
      "Epoch 30, Train Loss: 0.2840, Val Loss: 0.2951\n"
     ]
    },
    {
     "name": "stderr",
     "output_type": "stream",
     "text": [
      "Training...: 100%|██████████| 329/329 [00:01<00:00, 174.94it/s]\n",
      "Validating...: 100%|██████████| 83/83 [00:00<00:00, 944.02it/s]\n"
     ]
    },
    {
     "name": "stdout",
     "output_type": "stream",
     "text": [
      "Epoch 31, Train Loss: 0.2799, Val Loss: 0.2924\n"
     ]
    },
    {
     "name": "stderr",
     "output_type": "stream",
     "text": [
      "Training...: 100%|██████████| 329/329 [00:01<00:00, 173.55it/s]\n",
      "Validating...: 100%|██████████| 83/83 [00:00<00:00, 941.64it/s]\n"
     ]
    },
    {
     "name": "stdout",
     "output_type": "stream",
     "text": [
      "Epoch 32, Train Loss: 0.2761, Val Loss: 0.2891\n"
     ]
    },
    {
     "name": "stderr",
     "output_type": "stream",
     "text": [
      "Training...: 100%|██████████| 329/329 [00:01<00:00, 173.66it/s]\n",
      "Validating...: 100%|██████████| 83/83 [00:00<00:00, 937.82it/s]\n"
     ]
    },
    {
     "name": "stdout",
     "output_type": "stream",
     "text": [
      "Epoch 33, Train Loss: 0.2727, Val Loss: 0.2858\n"
     ]
    },
    {
     "name": "stderr",
     "output_type": "stream",
     "text": [
      "Training...: 100%|██████████| 329/329 [00:01<00:00, 170.60it/s]\n",
      "Validating...: 100%|██████████| 83/83 [00:00<00:00, 941.95it/s]\n"
     ]
    },
    {
     "name": "stdout",
     "output_type": "stream",
     "text": [
      "Epoch 34, Train Loss: 0.2691, Val Loss: 0.2805\n"
     ]
    },
    {
     "name": "stderr",
     "output_type": "stream",
     "text": [
      "Training...: 100%|██████████| 329/329 [00:01<00:00, 174.06it/s]\n",
      "Validating...: 100%|██████████| 83/83 [00:00<00:00, 943.37it/s]\n"
     ]
    },
    {
     "name": "stdout",
     "output_type": "stream",
     "text": [
      "Epoch 35, Train Loss: 0.2660, Val Loss: 0.2788\n"
     ]
    },
    {
     "name": "stderr",
     "output_type": "stream",
     "text": [
      "Training...: 100%|██████████| 329/329 [00:01<00:00, 173.94it/s]\n",
      "Validating...: 100%|██████████| 83/83 [00:00<00:00, 938.33it/s]\n"
     ]
    },
    {
     "name": "stdout",
     "output_type": "stream",
     "text": [
      "Epoch 36, Train Loss: 0.2632, Val Loss: 0.2748\n"
     ]
    },
    {
     "name": "stderr",
     "output_type": "stream",
     "text": [
      "Training...: 100%|██████████| 329/329 [00:01<00:00, 174.72it/s]\n",
      "Validating...: 100%|██████████| 83/83 [00:00<00:00, 940.28it/s]\n"
     ]
    },
    {
     "name": "stdout",
     "output_type": "stream",
     "text": [
      "Epoch 37, Train Loss: 0.2604, Val Loss: 0.2708\n"
     ]
    },
    {
     "name": "stderr",
     "output_type": "stream",
     "text": [
      "Training...: 100%|██████████| 329/329 [00:01<00:00, 175.21it/s]\n",
      "Validating...: 100%|██████████| 83/83 [00:00<00:00, 936.32it/s]\n"
     ]
    },
    {
     "name": "stdout",
     "output_type": "stream",
     "text": [
      "Epoch 38, Train Loss: 0.2574, Val Loss: 0.2680\n"
     ]
    },
    {
     "name": "stderr",
     "output_type": "stream",
     "text": [
      "Training...: 100%|██████████| 329/329 [00:01<00:00, 174.98it/s]\n",
      "Validating...: 100%|██████████| 83/83 [00:00<00:00, 943.02it/s]\n"
     ]
    },
    {
     "name": "stdout",
     "output_type": "stream",
     "text": [
      "Epoch 39, Train Loss: 0.2550, Val Loss: 0.2661\n"
     ]
    },
    {
     "name": "stderr",
     "output_type": "stream",
     "text": [
      "Training...: 100%|██████████| 329/329 [00:01<00:00, 175.24it/s]\n",
      "Validating...: 100%|██████████| 83/83 [00:00<00:00, 943.75it/s]\n"
     ]
    },
    {
     "name": "stdout",
     "output_type": "stream",
     "text": [
      "Epoch 40, Train Loss: 0.2526, Val Loss: 0.2630\n"
     ]
    },
    {
     "name": "stderr",
     "output_type": "stream",
     "text": [
      "Training...: 100%|██████████| 329/329 [00:01<00:00, 174.68it/s]\n",
      "Validating...: 100%|██████████| 83/83 [00:00<00:00, 936.15it/s]\n"
     ]
    },
    {
     "name": "stdout",
     "output_type": "stream",
     "text": [
      "Epoch 41, Train Loss: 0.2504, Val Loss: 0.2611\n"
     ]
    },
    {
     "name": "stderr",
     "output_type": "stream",
     "text": [
      "Training...: 100%|██████████| 329/329 [00:01<00:00, 174.74it/s]\n",
      "Validating...: 100%|██████████| 83/83 [00:00<00:00, 938.21it/s]\n"
     ]
    },
    {
     "name": "stdout",
     "output_type": "stream",
     "text": [
      "Epoch 42, Train Loss: 0.2479, Val Loss: 0.2599\n"
     ]
    },
    {
     "name": "stderr",
     "output_type": "stream",
     "text": [
      "Training...: 100%|██████████| 329/329 [00:01<00:00, 174.55it/s]\n",
      "Validating...: 100%|██████████| 83/83 [00:00<00:00, 937.74it/s]\n"
     ]
    },
    {
     "name": "stdout",
     "output_type": "stream",
     "text": [
      "Epoch 43, Train Loss: 0.2458, Val Loss: 0.2566\n"
     ]
    },
    {
     "name": "stderr",
     "output_type": "stream",
     "text": [
      "Training...: 100%|██████████| 329/329 [00:01<00:00, 174.62it/s]\n",
      "Validating...: 100%|██████████| 83/83 [00:00<00:00, 935.70it/s]\n"
     ]
    },
    {
     "name": "stdout",
     "output_type": "stream",
     "text": [
      "Epoch 44, Train Loss: 0.2442, Val Loss: 0.2540\n"
     ]
    },
    {
     "name": "stderr",
     "output_type": "stream",
     "text": [
      "Training...: 100%|██████████| 329/329 [00:01<00:00, 174.76it/s]\n",
      "Validating...: 100%|██████████| 83/83 [00:00<00:00, 941.68it/s]\n"
     ]
    },
    {
     "name": "stdout",
     "output_type": "stream",
     "text": [
      "Epoch 45, Train Loss: 0.2428, Val Loss: 0.2520\n"
     ]
    },
    {
     "name": "stderr",
     "output_type": "stream",
     "text": [
      "Training...: 100%|██████████| 329/329 [00:01<00:00, 174.91it/s]\n",
      "Validating...: 100%|██████████| 83/83 [00:00<00:00, 932.09it/s]\n"
     ]
    },
    {
     "name": "stdout",
     "output_type": "stream",
     "text": [
      "Epoch 46, Train Loss: 0.2413, Val Loss: 0.2506\n"
     ]
    },
    {
     "name": "stderr",
     "output_type": "stream",
     "text": [
      "Training...: 100%|██████████| 329/329 [00:01<00:00, 174.68it/s]\n",
      "Validating...: 100%|██████████| 83/83 [00:00<00:00, 943.56it/s]\n"
     ]
    },
    {
     "name": "stdout",
     "output_type": "stream",
     "text": [
      "Epoch 47, Train Loss: 0.2391, Val Loss: 0.2470\n"
     ]
    },
    {
     "name": "stderr",
     "output_type": "stream",
     "text": [
      "Training...: 100%|██████████| 329/329 [00:01<00:00, 174.55it/s]\n",
      "Validating...: 100%|██████████| 83/83 [00:00<00:00, 929.46it/s]\n"
     ]
    },
    {
     "name": "stdout",
     "output_type": "stream",
     "text": [
      "Epoch 48, Train Loss: 0.2381, Val Loss: 0.2463\n"
     ]
    },
    {
     "name": "stderr",
     "output_type": "stream",
     "text": [
      "Training...: 100%|██████████| 329/329 [00:01<00:00, 174.13it/s]\n",
      "Validating...: 100%|██████████| 83/83 [00:00<00:00, 927.81it/s]\n"
     ]
    },
    {
     "name": "stdout",
     "output_type": "stream",
     "text": [
      "Epoch 49, Train Loss: 0.2363, Val Loss: 0.2445\n"
     ]
    },
    {
     "name": "stderr",
     "output_type": "stream",
     "text": [
      "Training...: 100%|██████████| 329/329 [00:01<00:00, 173.53it/s]\n",
      "Validating...: 100%|██████████| 83/83 [00:00<00:00, 918.88it/s]\n"
     ]
    },
    {
     "name": "stdout",
     "output_type": "stream",
     "text": [
      "Epoch 50, Train Loss: 0.2352, Val Loss: 0.2428\n"
     ]
    },
    {
     "name": "stderr",
     "output_type": "stream",
     "text": [
      "Training...: 100%|██████████| 329/329 [00:01<00:00, 171.10it/s]\n",
      "Validating...: 100%|██████████| 83/83 [00:00<00:00, 919.68it/s]\n"
     ]
    },
    {
     "name": "stdout",
     "output_type": "stream",
     "text": [
      "Epoch 51, Train Loss: 0.2339, Val Loss: 0.2421\n"
     ]
    },
    {
     "name": "stderr",
     "output_type": "stream",
     "text": [
      "Training...: 100%|██████████| 329/329 [00:01<00:00, 171.10it/s]\n",
      "Validating...: 100%|██████████| 83/83 [00:00<00:00, 917.10it/s]\n"
     ]
    },
    {
     "name": "stdout",
     "output_type": "stream",
     "text": [
      "Epoch 52, Train Loss: 0.2331, Val Loss: 0.2386\n",
      "../results/79a50c4c-f148-4a4b-ab2a-5552ca9cf0ea_history.pkl\n",
      "##########################################################\n",
      "Experiment 8f566579-e86e-42f8-9536-e79f3a431267 Parameters:\n",
      "\n",
      "Window size: 60\n",
      "Step size: 20\n",
      "Batch size: 32\n",
      "Hidden dim1: 25\n",
      "Hidden dim2: 50\n",
      "Dropout: 0.2\n",
      "Layer norm flag: Disabled\n",
      "Loss function: <class 'torch.nn.modules.loss.L1Loss'>\n",
      "Lr: 0.001\n",
      "Num epochs: 52\n"
     ]
    },
    {
     "name": "stderr",
     "output_type": "stream",
     "text": [
      "Training...: 100%|██████████| 329/329 [00:01<00:00, 171.55it/s]\n",
      "Validating...: 100%|██████████| 83/83 [00:00<00:00, 925.00it/s]\n"
     ]
    },
    {
     "name": "stdout",
     "output_type": "stream",
     "text": [
      "Epoch 1, Train Loss: 0.4127, Val Loss: 0.4346\n"
     ]
    },
    {
     "name": "stderr",
     "output_type": "stream",
     "text": [
      "Training...: 100%|██████████| 329/329 [00:01<00:00, 171.70it/s]\n",
      "Validating...: 100%|██████████| 83/83 [00:00<00:00, 919.80it/s]\n"
     ]
    },
    {
     "name": "stdout",
     "output_type": "stream",
     "text": [
      "Epoch 2, Train Loss: 0.3641, Val Loss: 0.3749\n"
     ]
    },
    {
     "name": "stderr",
     "output_type": "stream",
     "text": [
      "Training...: 100%|██████████| 329/329 [00:01<00:00, 169.82it/s]\n",
      "Validating...: 100%|██████████| 83/83 [00:00<00:00, 903.69it/s]\n"
     ]
    },
    {
     "name": "stdout",
     "output_type": "stream",
     "text": [
      "Epoch 3, Train Loss: 0.3308, Val Loss: 0.3263\n"
     ]
    },
    {
     "name": "stderr",
     "output_type": "stream",
     "text": [
      "Training...: 100%|██████████| 329/329 [00:01<00:00, 170.33it/s]\n",
      "Validating...: 100%|██████████| 83/83 [00:00<00:00, 906.23it/s]\n"
     ]
    },
    {
     "name": "stdout",
     "output_type": "stream",
     "text": [
      "Epoch 4, Train Loss: 0.3131, Val Loss: 0.3005\n"
     ]
    },
    {
     "name": "stderr",
     "output_type": "stream",
     "text": [
      "Training...: 100%|██████████| 329/329 [00:01<00:00, 171.71it/s]\n",
      "Validating...: 100%|██████████| 83/83 [00:00<00:00, 924.71it/s]\n"
     ]
    },
    {
     "name": "stdout",
     "output_type": "stream",
     "text": [
      "Epoch 5, Train Loss: 0.2938, Val Loss: 0.2822\n"
     ]
    },
    {
     "name": "stderr",
     "output_type": "stream",
     "text": [
      "Training...: 100%|██████████| 329/329 [00:01<00:00, 167.71it/s]\n",
      "Validating...: 100%|██████████| 83/83 [00:00<00:00, 893.28it/s]\n"
     ]
    },
    {
     "name": "stdout",
     "output_type": "stream",
     "text": [
      "Epoch 6, Train Loss: 0.2591, Val Loss: 0.2248\n"
     ]
    },
    {
     "name": "stderr",
     "output_type": "stream",
     "text": [
      "Training...: 100%|██████████| 329/329 [00:01<00:00, 171.64it/s]\n",
      "Validating...: 100%|██████████| 83/83 [00:00<00:00, 925.52it/s]\n"
     ]
    },
    {
     "name": "stdout",
     "output_type": "stream",
     "text": [
      "Epoch 7, Train Loss: 0.2172, Val Loss: 0.1944\n"
     ]
    },
    {
     "name": "stderr",
     "output_type": "stream",
     "text": [
      "Training...: 100%|██████████| 329/329 [00:01<00:00, 171.28it/s]\n",
      "Validating...: 100%|██████████| 83/83 [00:00<00:00, 925.75it/s]\n"
     ]
    },
    {
     "name": "stdout",
     "output_type": "stream",
     "text": [
      "Epoch 8, Train Loss: 0.2010, Val Loss: 0.1817\n"
     ]
    },
    {
     "name": "stderr",
     "output_type": "stream",
     "text": [
      "Training...: 100%|██████████| 329/329 [00:01<00:00, 169.74it/s]\n",
      "Validating...: 100%|██████████| 83/83 [00:00<00:00, 928.38it/s]\n"
     ]
    },
    {
     "name": "stdout",
     "output_type": "stream",
     "text": [
      "Epoch 9, Train Loss: 0.1912, Val Loss: 0.1734\n"
     ]
    },
    {
     "name": "stderr",
     "output_type": "stream",
     "text": [
      "Training...: 100%|██████████| 329/329 [00:01<00:00, 174.30it/s]\n",
      "Validating...: 100%|██████████| 83/83 [00:00<00:00, 933.14it/s]\n"
     ]
    },
    {
     "name": "stdout",
     "output_type": "stream",
     "text": [
      "Epoch 10, Train Loss: 0.1858, Val Loss: 0.1738\n",
      "EarlyStopping counter: 1 out of 7\n"
     ]
    },
    {
     "name": "stderr",
     "output_type": "stream",
     "text": [
      "Training...: 100%|██████████| 329/329 [00:01<00:00, 174.68it/s]\n",
      "Validating...: 100%|██████████| 83/83 [00:00<00:00, 939.74it/s]\n"
     ]
    },
    {
     "name": "stdout",
     "output_type": "stream",
     "text": [
      "Epoch 11, Train Loss: 0.1815, Val Loss: 0.1674\n"
     ]
    },
    {
     "name": "stderr",
     "output_type": "stream",
     "text": [
      "Training...: 100%|██████████| 329/329 [00:01<00:00, 174.78it/s]\n",
      "Validating...: 100%|██████████| 83/83 [00:00<00:00, 936.43it/s]\n"
     ]
    },
    {
     "name": "stdout",
     "output_type": "stream",
     "text": [
      "Epoch 12, Train Loss: 0.1786, Val Loss: 0.1643\n"
     ]
    },
    {
     "name": "stderr",
     "output_type": "stream",
     "text": [
      "Training...: 100%|██████████| 329/329 [00:01<00:00, 170.59it/s]\n",
      "Validating...: 100%|██████████| 83/83 [00:00<00:00, 911.69it/s]\n"
     ]
    },
    {
     "name": "stdout",
     "output_type": "stream",
     "text": [
      "Epoch 13, Train Loss: 0.1766, Val Loss: 0.1649\n",
      "EarlyStopping counter: 1 out of 7\n"
     ]
    },
    {
     "name": "stderr",
     "output_type": "stream",
     "text": [
      "Training...: 100%|██████████| 329/329 [00:01<00:00, 170.17it/s]\n",
      "Validating...: 100%|██████████| 83/83 [00:00<00:00, 906.32it/s]\n"
     ]
    },
    {
     "name": "stdout",
     "output_type": "stream",
     "text": [
      "Epoch 14, Train Loss: 0.1748, Val Loss: 0.1595\n"
     ]
    },
    {
     "name": "stderr",
     "output_type": "stream",
     "text": [
      "Training...: 100%|██████████| 329/329 [00:01<00:00, 171.58it/s]\n",
      "Validating...: 100%|██████████| 83/83 [00:00<00:00, 922.77it/s]\n"
     ]
    },
    {
     "name": "stdout",
     "output_type": "stream",
     "text": [
      "Epoch 15, Train Loss: 0.1728, Val Loss: 0.1569\n"
     ]
    },
    {
     "name": "stderr",
     "output_type": "stream",
     "text": [
      "Training...: 100%|██████████| 329/329 [00:01<00:00, 171.95it/s]\n",
      "Validating...: 100%|██████████| 83/83 [00:00<00:00, 923.53it/s]\n"
     ]
    },
    {
     "name": "stdout",
     "output_type": "stream",
     "text": [
      "Epoch 16, Train Loss: 0.1715, Val Loss: 0.1590\n",
      "EarlyStopping counter: 1 out of 7\n"
     ]
    },
    {
     "name": "stderr",
     "output_type": "stream",
     "text": [
      "Training...: 100%|██████████| 329/329 [00:01<00:00, 171.97it/s]\n",
      "Validating...: 100%|██████████| 83/83 [00:00<00:00, 921.78it/s]\n"
     ]
    },
    {
     "name": "stdout",
     "output_type": "stream",
     "text": [
      "Epoch 17, Train Loss: 0.1707, Val Loss: 0.1579\n",
      "EarlyStopping counter: 2 out of 7\n"
     ]
    },
    {
     "name": "stderr",
     "output_type": "stream",
     "text": [
      "Training...: 100%|██████████| 329/329 [00:01<00:00, 171.06it/s]\n",
      "Validating...: 100%|██████████| 83/83 [00:00<00:00, 923.19it/s]\n"
     ]
    },
    {
     "name": "stdout",
     "output_type": "stream",
     "text": [
      "Epoch 18, Train Loss: 0.1691, Val Loss: 0.1558\n"
     ]
    },
    {
     "name": "stderr",
     "output_type": "stream",
     "text": [
      "Training...: 100%|██████████| 329/329 [00:01<00:00, 171.48it/s]\n",
      "Validating...: 100%|██████████| 83/83 [00:00<00:00, 918.20it/s]\n"
     ]
    },
    {
     "name": "stdout",
     "output_type": "stream",
     "text": [
      "Epoch 19, Train Loss: 0.1685, Val Loss: 0.1546\n"
     ]
    },
    {
     "name": "stderr",
     "output_type": "stream",
     "text": [
      "Training...: 100%|██████████| 329/329 [00:01<00:00, 174.57it/s]\n",
      "Validating...: 100%|██████████| 83/83 [00:00<00:00, 936.92it/s]\n"
     ]
    },
    {
     "name": "stdout",
     "output_type": "stream",
     "text": [
      "Epoch 20, Train Loss: 0.1686, Val Loss: 0.1578\n",
      "EarlyStopping counter: 1 out of 7\n"
     ]
    },
    {
     "name": "stderr",
     "output_type": "stream",
     "text": [
      "Training...: 100%|██████████| 329/329 [00:01<00:00, 174.81it/s]\n",
      "Validating...: 100%|██████████| 83/83 [00:00<00:00, 940.48it/s]\n"
     ]
    },
    {
     "name": "stdout",
     "output_type": "stream",
     "text": [
      "Epoch 21, Train Loss: 0.1669, Val Loss: 0.1572\n",
      "EarlyStopping counter: 2 out of 7\n"
     ]
    },
    {
     "name": "stderr",
     "output_type": "stream",
     "text": [
      "Training...: 100%|██████████| 329/329 [00:01<00:00, 174.73it/s]\n",
      "Validating...: 100%|██████████| 83/83 [00:00<00:00, 938.26it/s]\n"
     ]
    },
    {
     "name": "stdout",
     "output_type": "stream",
     "text": [
      "Epoch 22, Train Loss: 0.1665, Val Loss: 0.1529\n"
     ]
    },
    {
     "name": "stderr",
     "output_type": "stream",
     "text": [
      "Training...: 100%|██████████| 329/329 [00:01<00:00, 174.65it/s]\n",
      "Validating...: 100%|██████████| 83/83 [00:00<00:00, 939.52it/s]\n"
     ]
    },
    {
     "name": "stdout",
     "output_type": "stream",
     "text": [
      "Epoch 23, Train Loss: 0.1660, Val Loss: 0.1535\n",
      "EarlyStopping counter: 1 out of 7\n"
     ]
    },
    {
     "name": "stderr",
     "output_type": "stream",
     "text": [
      "Training...: 100%|██████████| 329/329 [00:01<00:00, 174.43it/s]\n",
      "Validating...: 100%|██████████| 83/83 [00:00<00:00, 944.85it/s]\n"
     ]
    },
    {
     "name": "stdout",
     "output_type": "stream",
     "text": [
      "Epoch 24, Train Loss: 0.1661, Val Loss: 0.1522\n"
     ]
    },
    {
     "name": "stderr",
     "output_type": "stream",
     "text": [
      "Training...: 100%|██████████| 329/329 [00:01<00:00, 174.16it/s]\n",
      "Validating...: 100%|██████████| 83/83 [00:00<00:00, 941.34it/s]\n"
     ]
    },
    {
     "name": "stdout",
     "output_type": "stream",
     "text": [
      "Epoch 25, Train Loss: 0.1649, Val Loss: 0.1549\n",
      "EarlyStopping counter: 1 out of 7\n"
     ]
    },
    {
     "name": "stderr",
     "output_type": "stream",
     "text": [
      "Training...: 100%|██████████| 329/329 [00:01<00:00, 171.85it/s]\n",
      "Validating...: 100%|██████████| 83/83 [00:00<00:00, 916.40it/s]\n"
     ]
    },
    {
     "name": "stdout",
     "output_type": "stream",
     "text": [
      "Epoch 26, Train Loss: 0.1651, Val Loss: 0.1520\n"
     ]
    },
    {
     "name": "stderr",
     "output_type": "stream",
     "text": [
      "Training...: 100%|██████████| 329/329 [00:01<00:00, 169.67it/s]\n",
      "Validating...: 100%|██████████| 83/83 [00:00<00:00, 911.56it/s]\n"
     ]
    },
    {
     "name": "stdout",
     "output_type": "stream",
     "text": [
      "Epoch 27, Train Loss: 0.1647, Val Loss: 0.1506\n"
     ]
    },
    {
     "name": "stderr",
     "output_type": "stream",
     "text": [
      "Training...: 100%|██████████| 329/329 [00:01<00:00, 169.16it/s]\n",
      "Validating...: 100%|██████████| 83/83 [00:00<00:00, 910.61it/s]\n"
     ]
    },
    {
     "name": "stdout",
     "output_type": "stream",
     "text": [
      "Epoch 28, Train Loss: 0.1647, Val Loss: 0.1503\n"
     ]
    },
    {
     "name": "stderr",
     "output_type": "stream",
     "text": [
      "Training...: 100%|██████████| 329/329 [00:01<00:00, 169.66it/s]\n",
      "Validating...: 100%|██████████| 83/83 [00:00<00:00, 914.10it/s]\n"
     ]
    },
    {
     "name": "stdout",
     "output_type": "stream",
     "text": [
      "Epoch 29, Train Loss: 0.1639, Val Loss: 0.1473\n"
     ]
    },
    {
     "name": "stderr",
     "output_type": "stream",
     "text": [
      "Training...: 100%|██████████| 329/329 [00:01<00:00, 170.41it/s]\n",
      "Validating...: 100%|██████████| 83/83 [00:00<00:00, 923.49it/s]\n"
     ]
    },
    {
     "name": "stdout",
     "output_type": "stream",
     "text": [
      "Epoch 30, Train Loss: 0.1643, Val Loss: 0.1511\n",
      "EarlyStopping counter: 1 out of 7\n"
     ]
    },
    {
     "name": "stderr",
     "output_type": "stream",
     "text": [
      "Training...: 100%|██████████| 329/329 [00:01<00:00, 171.61it/s]\n",
      "Validating...: 100%|██████████| 83/83 [00:00<00:00, 927.11it/s]\n"
     ]
    },
    {
     "name": "stdout",
     "output_type": "stream",
     "text": [
      "Epoch 31, Train Loss: 0.1636, Val Loss: 0.1449\n"
     ]
    },
    {
     "name": "stderr",
     "output_type": "stream",
     "text": [
      "Training...: 100%|██████████| 329/329 [00:01<00:00, 171.26it/s]\n",
      "Validating...: 100%|██████████| 83/83 [00:00<00:00, 919.67it/s]\n"
     ]
    },
    {
     "name": "stdout",
     "output_type": "stream",
     "text": [
      "Epoch 32, Train Loss: 0.1636, Val Loss: 0.1439\n"
     ]
    },
    {
     "name": "stderr",
     "output_type": "stream",
     "text": [
      "Training...: 100%|██████████| 329/329 [00:01<00:00, 171.56it/s]\n",
      "Validating...: 100%|██████████| 83/83 [00:00<00:00, 923.63it/s]\n"
     ]
    },
    {
     "name": "stdout",
     "output_type": "stream",
     "text": [
      "Epoch 33, Train Loss: 0.1630, Val Loss: 0.1480\n",
      "EarlyStopping counter: 1 out of 7\n"
     ]
    },
    {
     "name": "stderr",
     "output_type": "stream",
     "text": [
      "Training...: 100%|██████████| 329/329 [00:01<00:00, 171.63it/s]\n",
      "Validating...: 100%|██████████| 83/83 [00:00<00:00, 925.95it/s]\n"
     ]
    },
    {
     "name": "stdout",
     "output_type": "stream",
     "text": [
      "Epoch 34, Train Loss: 0.1629, Val Loss: 0.1463\n",
      "EarlyStopping counter: 2 out of 7\n"
     ]
    },
    {
     "name": "stderr",
     "output_type": "stream",
     "text": [
      "Training...: 100%|██████████| 329/329 [00:01<00:00, 171.74it/s]\n",
      "Validating...: 100%|██████████| 83/83 [00:00<00:00, 924.18it/s]\n"
     ]
    },
    {
     "name": "stdout",
     "output_type": "stream",
     "text": [
      "Epoch 35, Train Loss: 0.1627, Val Loss: 0.1442\n",
      "EarlyStopping counter: 3 out of 7\n"
     ]
    },
    {
     "name": "stderr",
     "output_type": "stream",
     "text": [
      "Training...: 100%|██████████| 329/329 [00:01<00:00, 171.59it/s]\n",
      "Validating...: 100%|██████████| 83/83 [00:00<00:00, 928.97it/s]\n"
     ]
    },
    {
     "name": "stdout",
     "output_type": "stream",
     "text": [
      "Epoch 36, Train Loss: 0.1632, Val Loss: 0.1407\n"
     ]
    },
    {
     "name": "stderr",
     "output_type": "stream",
     "text": [
      "Training...: 100%|██████████| 329/329 [00:01<00:00, 171.61it/s]\n",
      "Validating...: 100%|██████████| 83/83 [00:00<00:00, 921.16it/s]\n"
     ]
    },
    {
     "name": "stdout",
     "output_type": "stream",
     "text": [
      "Epoch 37, Train Loss: 0.1627, Val Loss: 0.1433\n",
      "EarlyStopping counter: 1 out of 7\n"
     ]
    },
    {
     "name": "stderr",
     "output_type": "stream",
     "text": [
      "Training...: 100%|██████████| 329/329 [00:01<00:00, 171.61it/s]\n",
      "Validating...: 100%|██████████| 83/83 [00:00<00:00, 923.25it/s]\n"
     ]
    },
    {
     "name": "stdout",
     "output_type": "stream",
     "text": [
      "Epoch 38, Train Loss: 0.1625, Val Loss: 0.1447\n",
      "EarlyStopping counter: 2 out of 7\n"
     ]
    },
    {
     "name": "stderr",
     "output_type": "stream",
     "text": [
      "Training...: 100%|██████████| 329/329 [00:01<00:00, 171.60it/s]\n",
      "Validating...: 100%|██████████| 83/83 [00:00<00:00, 924.87it/s]\n"
     ]
    },
    {
     "name": "stdout",
     "output_type": "stream",
     "text": [
      "Epoch 39, Train Loss: 0.1624, Val Loss: 0.1425\n",
      "EarlyStopping counter: 3 out of 7\n"
     ]
    },
    {
     "name": "stderr",
     "output_type": "stream",
     "text": [
      "Training...: 100%|██████████| 329/329 [00:01<00:00, 171.61it/s]\n",
      "Validating...: 100%|██████████| 83/83 [00:00<00:00, 923.06it/s]\n"
     ]
    },
    {
     "name": "stdout",
     "output_type": "stream",
     "text": [
      "Epoch 40, Train Loss: 0.1623, Val Loss: 0.1445\n",
      "EarlyStopping counter: 4 out of 7\n"
     ]
    },
    {
     "name": "stderr",
     "output_type": "stream",
     "text": [
      "Training...: 100%|██████████| 329/329 [00:01<00:00, 171.71it/s]\n",
      "Validating...: 100%|██████████| 83/83 [00:00<00:00, 925.76it/s]\n"
     ]
    },
    {
     "name": "stdout",
     "output_type": "stream",
     "text": [
      "Epoch 41, Train Loss: 0.1618, Val Loss: 0.1442\n",
      "EarlyStopping counter: 5 out of 7\n"
     ]
    },
    {
     "name": "stderr",
     "output_type": "stream",
     "text": [
      "Training...: 100%|██████████| 329/329 [00:01<00:00, 171.63it/s]\n",
      "Validating...: 100%|██████████| 83/83 [00:00<00:00, 925.84it/s]\n"
     ]
    },
    {
     "name": "stdout",
     "output_type": "stream",
     "text": [
      "Epoch 42, Train Loss: 0.1620, Val Loss: 0.1420\n",
      "EarlyStopping counter: 6 out of 7\n"
     ]
    },
    {
     "name": "stderr",
     "output_type": "stream",
     "text": [
      "Training...: 100%|██████████| 329/329 [00:01<00:00, 171.44it/s]\n",
      "Validating...: 100%|██████████| 83/83 [00:00<00:00, 928.51it/s]\n"
     ]
    },
    {
     "name": "stdout",
     "output_type": "stream",
     "text": [
      "Epoch 43, Train Loss: 0.1614, Val Loss: 0.1410\n",
      "EarlyStopping counter: 7 out of 7\n",
      "Early stopping\n",
      "Early stopping\n",
      "../results/8f566579-e86e-42f8-9536-e79f3a431267_history.pkl\n",
      "##########################################################\n",
      "Experiment 2cc5f52a-7498-4f61-907a-117a5ec07a49 Parameters:\n",
      "\n",
      "Window size: 60\n",
      "Step size: 20\n",
      "Batch size: 32\n",
      "Hidden dim1: 25\n",
      "Hidden dim2: 50\n",
      "Dropout: 0.2\n",
      "Layer norm flag: Disabled\n",
      "Loss function: <class 'torch.nn.modules.loss.MSELoss'>\n",
      "Lr: 0.0001\n",
      "Num epochs: 52\n"
     ]
    },
    {
     "name": "stderr",
     "output_type": "stream",
     "text": [
      "Training...: 100%|██████████| 329/329 [00:01<00:00, 172.72it/s]\n",
      "Validating...: 100%|██████████| 83/83 [00:00<00:00, 930.99it/s]\n"
     ]
    },
    {
     "name": "stdout",
     "output_type": "stream",
     "text": [
      "Epoch 1, Train Loss: 0.9867, Val Loss: 0.7677\n"
     ]
    },
    {
     "name": "stderr",
     "output_type": "stream",
     "text": [
      "Training...: 100%|██████████| 329/329 [00:01<00:00, 172.71it/s]\n",
      "Validating...: 100%|██████████| 83/83 [00:00<00:00, 926.29it/s]\n"
     ]
    },
    {
     "name": "stdout",
     "output_type": "stream",
     "text": [
      "Epoch 2, Train Loss: 0.9453, Val Loss: 0.7415\n"
     ]
    },
    {
     "name": "stderr",
     "output_type": "stream",
     "text": [
      "Training...: 100%|██████████| 329/329 [00:01<00:00, 172.61it/s]\n",
      "Validating...: 100%|██████████| 83/83 [00:00<00:00, 930.72it/s]\n"
     ]
    },
    {
     "name": "stdout",
     "output_type": "stream",
     "text": [
      "Epoch 3, Train Loss: 0.9405, Val Loss: 0.7334\n"
     ]
    },
    {
     "name": "stderr",
     "output_type": "stream",
     "text": [
      "Training...: 100%|██████████| 329/329 [00:01<00:00, 173.30it/s]\n",
      "Validating...: 100%|██████████| 83/83 [00:00<00:00, 948.16it/s]\n"
     ]
    },
    {
     "name": "stdout",
     "output_type": "stream",
     "text": [
      "Epoch 4, Train Loss: 0.9376, Val Loss: 0.7282\n"
     ]
    },
    {
     "name": "stderr",
     "output_type": "stream",
     "text": [
      "Training...: 100%|██████████| 329/329 [00:01<00:00, 175.35it/s]\n",
      "Validating...: 100%|██████████| 83/83 [00:00<00:00, 944.97it/s]\n"
     ]
    },
    {
     "name": "stdout",
     "output_type": "stream",
     "text": [
      "Epoch 5, Train Loss: 0.9348, Val Loss: 0.7244\n"
     ]
    },
    {
     "name": "stderr",
     "output_type": "stream",
     "text": [
      "Training...: 100%|██████████| 329/329 [00:01<00:00, 171.11it/s]\n",
      "Validating...: 100%|██████████| 83/83 [00:00<00:00, 946.66it/s]\n"
     ]
    },
    {
     "name": "stdout",
     "output_type": "stream",
     "text": [
      "Epoch 6, Train Loss: 0.9311, Val Loss: 0.7212\n"
     ]
    },
    {
     "name": "stderr",
     "output_type": "stream",
     "text": [
      "Training...: 100%|██████████| 329/329 [00:01<00:00, 175.99it/s]\n",
      "Validating...: 100%|██████████| 83/83 [00:00<00:00, 951.31it/s]\n"
     ]
    },
    {
     "name": "stdout",
     "output_type": "stream",
     "text": [
      "Epoch 7, Train Loss: 0.9301, Val Loss: 0.7179\n"
     ]
    },
    {
     "name": "stderr",
     "output_type": "stream",
     "text": [
      "Training...: 100%|██████████| 329/329 [00:01<00:00, 175.77it/s]\n",
      "Validating...: 100%|██████████| 83/83 [00:00<00:00, 939.82it/s]\n"
     ]
    },
    {
     "name": "stdout",
     "output_type": "stream",
     "text": [
      "Epoch 8, Train Loss: 0.9274, Val Loss: 0.7142\n"
     ]
    },
    {
     "name": "stderr",
     "output_type": "stream",
     "text": [
      "Training...: 100%|██████████| 329/329 [00:01<00:00, 175.94it/s]\n",
      "Validating...: 100%|██████████| 83/83 [00:00<00:00, 948.04it/s]\n"
     ]
    },
    {
     "name": "stdout",
     "output_type": "stream",
     "text": [
      "Epoch 9, Train Loss: 0.9267, Val Loss: 0.7120\n"
     ]
    },
    {
     "name": "stderr",
     "output_type": "stream",
     "text": [
      "Training...: 100%|██████████| 329/329 [00:01<00:00, 176.02it/s]\n",
      "Validating...: 100%|██████████| 83/83 [00:00<00:00, 950.65it/s]\n"
     ]
    },
    {
     "name": "stdout",
     "output_type": "stream",
     "text": [
      "Epoch 10, Train Loss: 0.9253, Val Loss: 0.7093\n"
     ]
    },
    {
     "name": "stderr",
     "output_type": "stream",
     "text": [
      "Training...: 100%|██████████| 329/329 [00:01<00:00, 175.97it/s]\n",
      "Validating...: 100%|██████████| 83/83 [00:00<00:00, 943.90it/s]\n"
     ]
    },
    {
     "name": "stdout",
     "output_type": "stream",
     "text": [
      "Epoch 11, Train Loss: 0.9242, Val Loss: 0.7061\n"
     ]
    },
    {
     "name": "stderr",
     "output_type": "stream",
     "text": [
      "Training...: 100%|██████████| 329/329 [00:01<00:00, 176.21it/s]\n",
      "Validating...: 100%|██████████| 83/83 [00:00<00:00, 950.61it/s]\n"
     ]
    },
    {
     "name": "stdout",
     "output_type": "stream",
     "text": [
      "Epoch 12, Train Loss: 0.9231, Val Loss: 0.7038\n"
     ]
    },
    {
     "name": "stderr",
     "output_type": "stream",
     "text": [
      "Training...: 100%|██████████| 329/329 [00:01<00:00, 175.01it/s]\n",
      "Validating...: 100%|██████████| 83/83 [00:00<00:00, 937.51it/s]\n"
     ]
    },
    {
     "name": "stdout",
     "output_type": "stream",
     "text": [
      "Epoch 13, Train Loss: 0.9218, Val Loss: 0.7013\n"
     ]
    },
    {
     "name": "stderr",
     "output_type": "stream",
     "text": [
      "Training...: 100%|██████████| 329/329 [00:01<00:00, 170.62it/s]\n",
      "Validating...: 100%|██████████| 83/83 [00:00<00:00, 923.15it/s]\n"
     ]
    },
    {
     "name": "stdout",
     "output_type": "stream",
     "text": [
      "Epoch 14, Train Loss: 0.9204, Val Loss: 0.6987\n"
     ]
    },
    {
     "name": "stderr",
     "output_type": "stream",
     "text": [
      "Training...: 100%|██████████| 329/329 [00:01<00:00, 170.49it/s]\n",
      "Validating...: 100%|██████████| 83/83 [00:00<00:00, 924.02it/s]\n"
     ]
    },
    {
     "name": "stdout",
     "output_type": "stream",
     "text": [
      "Epoch 15, Train Loss: 0.9074, Val Loss: 0.6251\n"
     ]
    },
    {
     "name": "stderr",
     "output_type": "stream",
     "text": [
      "Training...: 100%|██████████| 329/329 [00:01<00:00, 170.14it/s]\n",
      "Validating...: 100%|██████████| 83/83 [00:00<00:00, 916.42it/s]\n"
     ]
    },
    {
     "name": "stdout",
     "output_type": "stream",
     "text": [
      "Epoch 16, Train Loss: 0.8396, Val Loss: 0.5956\n"
     ]
    },
    {
     "name": "stderr",
     "output_type": "stream",
     "text": [
      "Training...: 100%|██████████| 329/329 [00:01<00:00, 172.15it/s]\n",
      "Validating...: 100%|██████████| 83/83 [00:00<00:00, 949.72it/s]\n"
     ]
    },
    {
     "name": "stdout",
     "output_type": "stream",
     "text": [
      "Epoch 17, Train Loss: 0.8252, Val Loss: 0.5811\n"
     ]
    },
    {
     "name": "stderr",
     "output_type": "stream",
     "text": [
      "Training...: 100%|██████████| 329/329 [00:01<00:00, 174.82it/s]\n",
      "Validating...: 100%|██████████| 83/83 [00:00<00:00, 947.56it/s]\n"
     ]
    },
    {
     "name": "stdout",
     "output_type": "stream",
     "text": [
      "Epoch 18, Train Loss: 0.8168, Val Loss: 0.5704\n"
     ]
    },
    {
     "name": "stderr",
     "output_type": "stream",
     "text": [
      "Training...: 100%|██████████| 329/329 [00:01<00:00, 174.86it/s]\n",
      "Validating...: 100%|██████████| 83/83 [00:00<00:00, 950.74it/s]\n"
     ]
    },
    {
     "name": "stdout",
     "output_type": "stream",
     "text": [
      "Epoch 19, Train Loss: 0.8111, Val Loss: 0.5603\n"
     ]
    },
    {
     "name": "stderr",
     "output_type": "stream",
     "text": [
      "Training...: 100%|██████████| 329/329 [00:01<00:00, 174.90it/s]\n",
      "Validating...: 100%|██████████| 83/83 [00:00<00:00, 931.15it/s]\n"
     ]
    },
    {
     "name": "stdout",
     "output_type": "stream",
     "text": [
      "Epoch 20, Train Loss: 0.8058, Val Loss: 0.5520\n"
     ]
    },
    {
     "name": "stderr",
     "output_type": "stream",
     "text": [
      "Training...: 100%|██████████| 329/329 [00:01<00:00, 172.30it/s]\n",
      "Validating...: 100%|██████████| 83/83 [00:00<00:00, 925.90it/s]\n"
     ]
    },
    {
     "name": "stdout",
     "output_type": "stream",
     "text": [
      "Epoch 21, Train Loss: 0.8015, Val Loss: 0.5444\n"
     ]
    },
    {
     "name": "stderr",
     "output_type": "stream",
     "text": [
      "Training...: 100%|██████████| 329/329 [00:01<00:00, 172.19it/s]\n",
      "Validating...: 100%|██████████| 83/83 [00:00<00:00, 927.34it/s]\n"
     ]
    },
    {
     "name": "stdout",
     "output_type": "stream",
     "text": [
      "Epoch 22, Train Loss: 0.7978, Val Loss: 0.5373\n"
     ]
    },
    {
     "name": "stderr",
     "output_type": "stream",
     "text": [
      "Training...: 100%|██████████| 329/329 [00:01<00:00, 170.44it/s]\n",
      "Validating...: 100%|██████████| 83/83 [00:00<00:00, 925.56it/s]\n"
     ]
    },
    {
     "name": "stdout",
     "output_type": "stream",
     "text": [
      "Epoch 23, Train Loss: 0.7938, Val Loss: 0.5311\n"
     ]
    },
    {
     "name": "stderr",
     "output_type": "stream",
     "text": [
      "Training...: 100%|██████████| 329/329 [00:01<00:00, 170.11it/s]\n",
      "Validating...: 100%|██████████| 83/83 [00:00<00:00, 922.70it/s]\n"
     ]
    },
    {
     "name": "stdout",
     "output_type": "stream",
     "text": [
      "Epoch 24, Train Loss: 0.7902, Val Loss: 0.5247\n"
     ]
    },
    {
     "name": "stderr",
     "output_type": "stream",
     "text": [
      "Training...: 100%|██████████| 329/329 [00:01<00:00, 170.56it/s]\n",
      "Validating...: 100%|██████████| 83/83 [00:00<00:00, 924.88it/s]\n"
     ]
    },
    {
     "name": "stdout",
     "output_type": "stream",
     "text": [
      "Epoch 25, Train Loss: 0.7863, Val Loss: 0.5181\n"
     ]
    },
    {
     "name": "stderr",
     "output_type": "stream",
     "text": [
      "Training...: 100%|██████████| 329/329 [00:01<00:00, 170.87it/s]\n",
      "Validating...: 100%|██████████| 83/83 [00:00<00:00, 919.69it/s]\n"
     ]
    },
    {
     "name": "stdout",
     "output_type": "stream",
     "text": [
      "Epoch 26, Train Loss: 0.7834, Val Loss: 0.5130\n"
     ]
    },
    {
     "name": "stderr",
     "output_type": "stream",
     "text": [
      "Training...: 100%|██████████| 329/329 [00:01<00:00, 170.94it/s]\n",
      "Validating...: 100%|██████████| 83/83 [00:00<00:00, 921.47it/s]\n"
     ]
    },
    {
     "name": "stdout",
     "output_type": "stream",
     "text": [
      "Epoch 27, Train Loss: 0.7805, Val Loss: 0.5079\n"
     ]
    },
    {
     "name": "stderr",
     "output_type": "stream",
     "text": [
      "Training...: 100%|██████████| 329/329 [00:01<00:00, 172.95it/s]\n",
      "Validating...: 100%|██████████| 83/83 [00:00<00:00, 935.51it/s]\n"
     ]
    },
    {
     "name": "stdout",
     "output_type": "stream",
     "text": [
      "Epoch 28, Train Loss: 0.7775, Val Loss: 0.5027\n"
     ]
    },
    {
     "name": "stderr",
     "output_type": "stream",
     "text": [
      "Training...: 100%|██████████| 329/329 [00:01<00:00, 176.02it/s]\n",
      "Validating...: 100%|██████████| 83/83 [00:00<00:00, 950.17it/s]\n"
     ]
    },
    {
     "name": "stdout",
     "output_type": "stream",
     "text": [
      "Epoch 29, Train Loss: 0.7750, Val Loss: 0.4978\n"
     ]
    },
    {
     "name": "stderr",
     "output_type": "stream",
     "text": [
      "Training...: 100%|██████████| 329/329 [00:01<00:00, 176.30it/s]\n",
      "Validating...: 100%|██████████| 83/83 [00:00<00:00, 954.71it/s]\n"
     ]
    },
    {
     "name": "stdout",
     "output_type": "stream",
     "text": [
      "Epoch 30, Train Loss: 0.7729, Val Loss: 0.4938\n"
     ]
    },
    {
     "name": "stderr",
     "output_type": "stream",
     "text": [
      "Training...: 100%|██████████| 329/329 [00:01<00:00, 176.26it/s]\n",
      "Validating...: 100%|██████████| 83/83 [00:00<00:00, 953.13it/s]\n"
     ]
    },
    {
     "name": "stdout",
     "output_type": "stream",
     "text": [
      "Epoch 31, Train Loss: 0.7707, Val Loss: 0.4890\n"
     ]
    },
    {
     "name": "stderr",
     "output_type": "stream",
     "text": [
      "Training...: 100%|██████████| 329/329 [00:01<00:00, 175.27it/s]\n",
      "Validating...: 100%|██████████| 83/83 [00:00<00:00, 944.29it/s]\n"
     ]
    },
    {
     "name": "stdout",
     "output_type": "stream",
     "text": [
      "Epoch 32, Train Loss: 0.7683, Val Loss: 0.4851\n"
     ]
    },
    {
     "name": "stderr",
     "output_type": "stream",
     "text": [
      "Training...: 100%|██████████| 329/329 [00:01<00:00, 172.45it/s]\n",
      "Validating...: 100%|██████████| 83/83 [00:00<00:00, 924.40it/s]\n"
     ]
    },
    {
     "name": "stdout",
     "output_type": "stream",
     "text": [
      "Epoch 33, Train Loss: 0.7655, Val Loss: 0.4809\n"
     ]
    },
    {
     "name": "stderr",
     "output_type": "stream",
     "text": [
      "Training...: 100%|██████████| 329/329 [00:01<00:00, 172.13it/s]\n",
      "Validating...: 100%|██████████| 83/83 [00:00<00:00, 928.00it/s]\n"
     ]
    },
    {
     "name": "stdout",
     "output_type": "stream",
     "text": [
      "Epoch 34, Train Loss: 0.7643, Val Loss: 0.4770\n"
     ]
    },
    {
     "name": "stderr",
     "output_type": "stream",
     "text": [
      "Training...: 100%|██████████| 329/329 [00:01<00:00, 171.54it/s]\n",
      "Validating...: 100%|██████████| 83/83 [00:00<00:00, 928.89it/s]\n"
     ]
    },
    {
     "name": "stdout",
     "output_type": "stream",
     "text": [
      "Epoch 35, Train Loss: 0.7627, Val Loss: 0.4731\n"
     ]
    },
    {
     "name": "stderr",
     "output_type": "stream",
     "text": [
      "Training...: 100%|██████████| 329/329 [00:01<00:00, 173.30it/s]\n",
      "Validating...: 100%|██████████| 83/83 [00:00<00:00, 923.23it/s]\n"
     ]
    },
    {
     "name": "stdout",
     "output_type": "stream",
     "text": [
      "Epoch 36, Train Loss: 0.7611, Val Loss: 0.4692\n"
     ]
    },
    {
     "name": "stderr",
     "output_type": "stream",
     "text": [
      "Training...: 100%|██████████| 329/329 [00:01<00:00, 173.35it/s]\n",
      "Validating...: 100%|██████████| 83/83 [00:00<00:00, 924.78it/s]\n"
     ]
    },
    {
     "name": "stdout",
     "output_type": "stream",
     "text": [
      "Epoch 37, Train Loss: 0.7577, Val Loss: 0.4659\n"
     ]
    },
    {
     "name": "stderr",
     "output_type": "stream",
     "text": [
      "Training...: 100%|██████████| 329/329 [00:01<00:00, 173.30it/s]\n",
      "Validating...: 100%|██████████| 83/83 [00:00<00:00, 931.25it/s]\n"
     ]
    },
    {
     "name": "stdout",
     "output_type": "stream",
     "text": [
      "Epoch 38, Train Loss: 0.7568, Val Loss: 0.4630\n"
     ]
    },
    {
     "name": "stderr",
     "output_type": "stream",
     "text": [
      "Training...: 100%|██████████| 329/329 [00:01<00:00, 171.48it/s]\n",
      "Validating...: 100%|██████████| 83/83 [00:00<00:00, 911.69it/s]\n"
     ]
    },
    {
     "name": "stdout",
     "output_type": "stream",
     "text": [
      "Epoch 39, Train Loss: 0.7553, Val Loss: 0.4598\n"
     ]
    },
    {
     "name": "stderr",
     "output_type": "stream",
     "text": [
      "Training...: 100%|██████████| 329/329 [00:01<00:00, 171.70it/s]\n",
      "Validating...: 100%|██████████| 83/83 [00:00<00:00, 921.02it/s]\n"
     ]
    },
    {
     "name": "stdout",
     "output_type": "stream",
     "text": [
      "Epoch 40, Train Loss: 0.7539, Val Loss: 0.4573\n"
     ]
    },
    {
     "name": "stderr",
     "output_type": "stream",
     "text": [
      "Training...: 100%|██████████| 329/329 [00:01<00:00, 171.05it/s]\n",
      "Validating...: 100%|██████████| 83/83 [00:00<00:00, 920.67it/s]\n"
     ]
    },
    {
     "name": "stdout",
     "output_type": "stream",
     "text": [
      "Epoch 41, Train Loss: 0.7517, Val Loss: 0.4547\n"
     ]
    },
    {
     "name": "stderr",
     "output_type": "stream",
     "text": [
      "Training...: 100%|██████████| 329/329 [00:01<00:00, 173.31it/s]\n",
      "Validating...: 100%|██████████| 83/83 [00:00<00:00, 933.44it/s]\n"
     ]
    },
    {
     "name": "stdout",
     "output_type": "stream",
     "text": [
      "Epoch 42, Train Loss: 0.7510, Val Loss: 0.4530\n"
     ]
    },
    {
     "name": "stderr",
     "output_type": "stream",
     "text": [
      "Training...: 100%|██████████| 329/329 [00:01<00:00, 172.87it/s]\n",
      "Validating...: 100%|██████████| 83/83 [00:00<00:00, 926.88it/s]\n"
     ]
    },
    {
     "name": "stdout",
     "output_type": "stream",
     "text": [
      "Epoch 43, Train Loss: 0.7492, Val Loss: 0.4524\n"
     ]
    },
    {
     "name": "stderr",
     "output_type": "stream",
     "text": [
      "Training...: 100%|██████████| 329/329 [00:01<00:00, 176.37it/s]\n",
      "Validating...: 100%|██████████| 83/83 [00:00<00:00, 950.26it/s]\n"
     ]
    },
    {
     "name": "stdout",
     "output_type": "stream",
     "text": [
      "Epoch 44, Train Loss: 0.7488, Val Loss: 0.4488\n"
     ]
    },
    {
     "name": "stderr",
     "output_type": "stream",
     "text": [
      "Training...: 100%|██████████| 329/329 [00:01<00:00, 174.34it/s]\n",
      "Validating...: 100%|██████████| 83/83 [00:00<00:00, 931.88it/s]\n"
     ]
    },
    {
     "name": "stdout",
     "output_type": "stream",
     "text": [
      "Epoch 45, Train Loss: 0.7468, Val Loss: 0.4466\n"
     ]
    },
    {
     "name": "stderr",
     "output_type": "stream",
     "text": [
      "Training...: 100%|██████████| 329/329 [00:01<00:00, 173.22it/s]\n",
      "Validating...: 100%|██████████| 83/83 [00:00<00:00, 932.12it/s]\n"
     ]
    },
    {
     "name": "stdout",
     "output_type": "stream",
     "text": [
      "Epoch 46, Train Loss: 0.7478, Val Loss: 0.4449\n"
     ]
    },
    {
     "name": "stderr",
     "output_type": "stream",
     "text": [
      "Training...: 100%|██████████| 329/329 [00:01<00:00, 173.38it/s]\n",
      "Validating...: 100%|██████████| 83/83 [00:00<00:00, 934.66it/s]\n"
     ]
    },
    {
     "name": "stdout",
     "output_type": "stream",
     "text": [
      "Epoch 47, Train Loss: 0.7446, Val Loss: 0.4434\n"
     ]
    },
    {
     "name": "stderr",
     "output_type": "stream",
     "text": [
      "Training...: 100%|██████████| 329/329 [00:01<00:00, 172.97it/s]\n",
      "Validating...: 100%|██████████| 83/83 [00:00<00:00, 928.75it/s]\n"
     ]
    },
    {
     "name": "stdout",
     "output_type": "stream",
     "text": [
      "Epoch 48, Train Loss: 0.7446, Val Loss: 0.4413\n"
     ]
    },
    {
     "name": "stderr",
     "output_type": "stream",
     "text": [
      "Training...: 100%|██████████| 329/329 [00:01<00:00, 172.97it/s]\n",
      "Validating...: 100%|██████████| 83/83 [00:00<00:00, 931.03it/s]\n"
     ]
    },
    {
     "name": "stdout",
     "output_type": "stream",
     "text": [
      "Epoch 49, Train Loss: 0.7432, Val Loss: 0.4397\n"
     ]
    },
    {
     "name": "stderr",
     "output_type": "stream",
     "text": [
      "Training...: 100%|██████████| 329/329 [00:01<00:00, 173.32it/s]\n",
      "Validating...: 100%|██████████| 83/83 [00:00<00:00, 931.20it/s]\n"
     ]
    },
    {
     "name": "stdout",
     "output_type": "stream",
     "text": [
      "Epoch 50, Train Loss: 0.7866, Val Loss: 0.4392\n"
     ]
    },
    {
     "name": "stderr",
     "output_type": "stream",
     "text": [
      "Training...: 100%|██████████| 329/329 [00:01<00:00, 173.54it/s]\n",
      "Validating...: 100%|██████████| 83/83 [00:00<00:00, 944.94it/s]\n"
     ]
    },
    {
     "name": "stdout",
     "output_type": "stream",
     "text": [
      "Epoch 51, Train Loss: 0.7427, Val Loss: 0.4368\n"
     ]
    },
    {
     "name": "stderr",
     "output_type": "stream",
     "text": [
      "Training...: 100%|██████████| 329/329 [00:01<00:00, 176.07it/s]\n",
      "Validating...: 100%|██████████| 83/83 [00:00<00:00, 952.38it/s]\n"
     ]
    },
    {
     "name": "stdout",
     "output_type": "stream",
     "text": [
      "Epoch 52, Train Loss: 0.7411, Val Loss: 0.4356\n",
      "../results/2cc5f52a-7498-4f61-907a-117a5ec07a49_history.pkl\n",
      "##########################################################\n",
      "Experiment ebba0242-7136-4869-b618-9fe880967002 Parameters:\n",
      "\n",
      "Window size: 60\n",
      "Step size: 20\n",
      "Batch size: 32\n",
      "Hidden dim1: 25\n",
      "Hidden dim2: 50\n",
      "Dropout: 0.2\n",
      "Layer norm flag: Disabled\n",
      "Loss function: <class 'torch.nn.modules.loss.MSELoss'>\n",
      "Lr: 0.001\n",
      "Num epochs: 52\n"
     ]
    },
    {
     "name": "stderr",
     "output_type": "stream",
     "text": [
      "Training...: 100%|██████████| 329/329 [00:01<00:00, 175.52it/s]\n",
      "Validating...: 100%|██████████| 83/83 [00:00<00:00, 946.37it/s]\n"
     ]
    },
    {
     "name": "stdout",
     "output_type": "stream",
     "text": [
      "Epoch 1, Train Loss: 0.9838, Val Loss: 0.8684\n"
     ]
    },
    {
     "name": "stderr",
     "output_type": "stream",
     "text": [
      "Training...: 100%|██████████| 329/329 [00:01<00:00, 176.44it/s]\n",
      "Validating...: 100%|██████████| 83/83 [00:00<00:00, 951.29it/s]\n"
     ]
    },
    {
     "name": "stdout",
     "output_type": "stream",
     "text": [
      "Epoch 2, Train Loss: 0.8832, Val Loss: 0.7539\n"
     ]
    },
    {
     "name": "stderr",
     "output_type": "stream",
     "text": [
      "Training...: 100%|██████████| 329/329 [00:01<00:00, 175.52it/s]\n",
      "Validating...: 100%|██████████| 83/83 [00:00<00:00, 950.63it/s]\n"
     ]
    },
    {
     "name": "stdout",
     "output_type": "stream",
     "text": [
      "Epoch 3, Train Loss: 0.8171, Val Loss: 0.6343\n"
     ]
    },
    {
     "name": "stderr",
     "output_type": "stream",
     "text": [
      "Training...: 100%|██████████| 329/329 [00:01<00:00, 175.21it/s]\n",
      "Validating...: 100%|██████████| 83/83 [00:00<00:00, 948.49it/s]\n"
     ]
    },
    {
     "name": "stdout",
     "output_type": "stream",
     "text": [
      "Epoch 4, Train Loss: 0.7703, Val Loss: 0.5891\n"
     ]
    },
    {
     "name": "stderr",
     "output_type": "stream",
     "text": [
      "Training...: 100%|██████████| 329/329 [00:01<00:00, 175.24it/s]\n",
      "Validating...: 100%|██████████| 83/83 [00:00<00:00, 950.45it/s]\n"
     ]
    },
    {
     "name": "stdout",
     "output_type": "stream",
     "text": [
      "Epoch 5, Train Loss: 0.7531, Val Loss: 0.5894\n",
      "EarlyStopping counter: 1 out of 7\n"
     ]
    },
    {
     "name": "stderr",
     "output_type": "stream",
     "text": [
      "Training...: 100%|██████████| 329/329 [00:01<00:00, 171.97it/s]\n",
      "Validating...: 100%|██████████| 83/83 [00:00<00:00, 952.36it/s]\n"
     ]
    },
    {
     "name": "stdout",
     "output_type": "stream",
     "text": [
      "Epoch 6, Train Loss: 0.7432, Val Loss: 0.5724\n"
     ]
    },
    {
     "name": "stderr",
     "output_type": "stream",
     "text": [
      "Training...: 100%|██████████| 329/329 [00:01<00:00, 175.49it/s]\n",
      "Validating...: 100%|██████████| 83/83 [00:00<00:00, 956.60it/s]\n"
     ]
    },
    {
     "name": "stdout",
     "output_type": "stream",
     "text": [
      "Epoch 7, Train Loss: 0.7588, Val Loss: 0.5607\n"
     ]
    },
    {
     "name": "stderr",
     "output_type": "stream",
     "text": [
      "Training...: 100%|██████████| 329/329 [00:01<00:00, 175.66it/s]\n",
      "Validating...: 100%|██████████| 83/83 [00:00<00:00, 954.99it/s]\n"
     ]
    },
    {
     "name": "stdout",
     "output_type": "stream",
     "text": [
      "Epoch 8, Train Loss: 0.7367, Val Loss: 0.5437\n"
     ]
    },
    {
     "name": "stderr",
     "output_type": "stream",
     "text": [
      "Training...: 100%|██████████| 329/329 [00:01<00:00, 175.62it/s]\n",
      "Validating...: 100%|██████████| 83/83 [00:00<00:00, 956.38it/s]\n"
     ]
    },
    {
     "name": "stdout",
     "output_type": "stream",
     "text": [
      "Epoch 9, Train Loss: 0.7305, Val Loss: 0.5517\n",
      "EarlyStopping counter: 1 out of 7\n"
     ]
    },
    {
     "name": "stderr",
     "output_type": "stream",
     "text": [
      "Training...: 100%|██████████| 329/329 [00:01<00:00, 176.23it/s]\n",
      "Validating...: 100%|██████████| 83/83 [00:00<00:00, 950.82it/s]\n"
     ]
    },
    {
     "name": "stdout",
     "output_type": "stream",
     "text": [
      "Epoch 10, Train Loss: 0.7261, Val Loss: 0.5416\n"
     ]
    },
    {
     "name": "stderr",
     "output_type": "stream",
     "text": [
      "Training...: 100%|██████████| 329/329 [00:01<00:00, 176.39it/s]\n",
      "Validating...: 100%|██████████| 83/83 [00:00<00:00, 951.27it/s]\n"
     ]
    },
    {
     "name": "stdout",
     "output_type": "stream",
     "text": [
      "Epoch 11, Train Loss: 0.7202, Val Loss: 0.5318\n"
     ]
    },
    {
     "name": "stderr",
     "output_type": "stream",
     "text": [
      "Training...: 100%|██████████| 329/329 [00:01<00:00, 176.53it/s]\n",
      "Validating...: 100%|██████████| 83/83 [00:00<00:00, 945.37it/s]\n"
     ]
    },
    {
     "name": "stdout",
     "output_type": "stream",
     "text": [
      "Epoch 12, Train Loss: 0.7203, Val Loss: 0.5263\n"
     ]
    },
    {
     "name": "stderr",
     "output_type": "stream",
     "text": [
      "Training...: 100%|██████████| 329/329 [00:01<00:00, 176.39it/s]\n",
      "Validating...: 100%|██████████| 83/83 [00:00<00:00, 947.88it/s]\n"
     ]
    },
    {
     "name": "stdout",
     "output_type": "stream",
     "text": [
      "Epoch 13, Train Loss: 0.7187, Val Loss: 0.5352\n",
      "EarlyStopping counter: 1 out of 7\n"
     ]
    },
    {
     "name": "stderr",
     "output_type": "stream",
     "text": [
      "Training...: 100%|██████████| 329/329 [00:01<00:00, 176.38it/s]\n",
      "Validating...: 100%|██████████| 83/83 [00:00<00:00, 952.27it/s]\n"
     ]
    },
    {
     "name": "stdout",
     "output_type": "stream",
     "text": [
      "Epoch 14, Train Loss: 0.7135, Val Loss: 0.5219\n"
     ]
    },
    {
     "name": "stderr",
     "output_type": "stream",
     "text": [
      "Training...: 100%|██████████| 329/329 [00:01<00:00, 175.37it/s]\n",
      "Validating...: 100%|██████████| 83/83 [00:00<00:00, 949.97it/s]\n"
     ]
    },
    {
     "name": "stdout",
     "output_type": "stream",
     "text": [
      "Epoch 15, Train Loss: 0.7152, Val Loss: 0.5244\n",
      "EarlyStopping counter: 1 out of 7\n"
     ]
    },
    {
     "name": "stderr",
     "output_type": "stream",
     "text": [
      "Training...: 100%|██████████| 329/329 [00:01<00:00, 172.45it/s]\n",
      "Validating...: 100%|██████████| 83/83 [00:00<00:00, 932.73it/s]\n"
     ]
    },
    {
     "name": "stdout",
     "output_type": "stream",
     "text": [
      "Epoch 16, Train Loss: 0.7119, Val Loss: 0.5170\n"
     ]
    },
    {
     "name": "stderr",
     "output_type": "stream",
     "text": [
      "Training...: 100%|██████████| 329/329 [00:01<00:00, 172.20it/s]\n",
      "Validating...: 100%|██████████| 83/83 [00:00<00:00, 933.43it/s]\n"
     ]
    },
    {
     "name": "stdout",
     "output_type": "stream",
     "text": [
      "Epoch 17, Train Loss: 0.7171, Val Loss: 0.5100\n"
     ]
    },
    {
     "name": "stderr",
     "output_type": "stream",
     "text": [
      "Training...: 100%|██████████| 329/329 [00:01<00:00, 172.40it/s]\n",
      "Validating...: 100%|██████████| 83/83 [00:00<00:00, 937.51it/s]\n"
     ]
    },
    {
     "name": "stdout",
     "output_type": "stream",
     "text": [
      "Epoch 18, Train Loss: 0.7110, Val Loss: 0.5121\n",
      "EarlyStopping counter: 1 out of 7\n"
     ]
    },
    {
     "name": "stderr",
     "output_type": "stream",
     "text": [
      "Training...: 100%|██████████| 329/329 [00:01<00:00, 171.89it/s]\n",
      "Validating...: 100%|██████████| 83/83 [00:00<00:00, 934.50it/s]\n"
     ]
    },
    {
     "name": "stdout",
     "output_type": "stream",
     "text": [
      "Epoch 19, Train Loss: 0.7079, Val Loss: 0.5087\n"
     ]
    },
    {
     "name": "stderr",
     "output_type": "stream",
     "text": [
      "Training...: 100%|██████████| 329/329 [00:01<00:00, 172.53it/s]\n",
      "Validating...: 100%|██████████| 83/83 [00:00<00:00, 931.47it/s]\n"
     ]
    },
    {
     "name": "stdout",
     "output_type": "stream",
     "text": [
      "Epoch 20, Train Loss: 0.7049, Val Loss: 0.5112\n",
      "EarlyStopping counter: 1 out of 7\n"
     ]
    },
    {
     "name": "stderr",
     "output_type": "stream",
     "text": [
      "Training...: 100%|██████████| 329/329 [00:01<00:00, 172.71it/s]\n",
      "Validating...: 100%|██████████| 83/83 [00:00<00:00, 935.09it/s]\n"
     ]
    },
    {
     "name": "stdout",
     "output_type": "stream",
     "text": [
      "Epoch 21, Train Loss: 0.7061, Val Loss: 0.5014\n"
     ]
    },
    {
     "name": "stderr",
     "output_type": "stream",
     "text": [
      "Training...: 100%|██████████| 329/329 [00:01<00:00, 173.34it/s]\n",
      "Validating...: 100%|██████████| 83/83 [00:00<00:00, 932.31it/s]\n"
     ]
    },
    {
     "name": "stdout",
     "output_type": "stream",
     "text": [
      "Epoch 22, Train Loss: 0.7070, Val Loss: 0.5001\n"
     ]
    },
    {
     "name": "stderr",
     "output_type": "stream",
     "text": [
      "Training...: 100%|██████████| 329/329 [00:01<00:00, 171.42it/s]\n",
      "Validating...: 100%|██████████| 83/83 [00:00<00:00, 925.02it/s]\n"
     ]
    },
    {
     "name": "stdout",
     "output_type": "stream",
     "text": [
      "Epoch 23, Train Loss: 0.7033, Val Loss: 0.4990\n"
     ]
    },
    {
     "name": "stderr",
     "output_type": "stream",
     "text": [
      "Training...: 100%|██████████| 329/329 [00:01<00:00, 171.33it/s]\n",
      "Validating...: 100%|██████████| 83/83 [00:00<00:00, 921.64it/s]\n"
     ]
    },
    {
     "name": "stdout",
     "output_type": "stream",
     "text": [
      "Epoch 24, Train Loss: 0.7044, Val Loss: 0.4950\n"
     ]
    },
    {
     "name": "stderr",
     "output_type": "stream",
     "text": [
      "Training...: 100%|██████████| 329/329 [00:01<00:00, 171.09it/s]\n",
      "Validating...: 100%|██████████| 83/83 [00:00<00:00, 923.01it/s]\n"
     ]
    },
    {
     "name": "stdout",
     "output_type": "stream",
     "text": [
      "Epoch 25, Train Loss: 0.7077, Val Loss: 0.4964\n",
      "EarlyStopping counter: 1 out of 7\n"
     ]
    },
    {
     "name": "stderr",
     "output_type": "stream",
     "text": [
      "Training...: 100%|██████████| 329/329 [00:01<00:00, 171.27it/s]\n",
      "Validating...: 100%|██████████| 83/83 [00:00<00:00, 922.52it/s]\n"
     ]
    },
    {
     "name": "stdout",
     "output_type": "stream",
     "text": [
      "Epoch 26, Train Loss: 0.7028, Val Loss: 0.5030\n",
      "EarlyStopping counter: 2 out of 7\n"
     ]
    },
    {
     "name": "stderr",
     "output_type": "stream",
     "text": [
      "Training...: 100%|██████████| 329/329 [00:01<00:00, 171.25it/s]\n",
      "Validating...: 100%|██████████| 83/83 [00:00<00:00, 921.01it/s]\n"
     ]
    },
    {
     "name": "stdout",
     "output_type": "stream",
     "text": [
      "Epoch 27, Train Loss: 0.7004, Val Loss: 0.5035\n",
      "EarlyStopping counter: 3 out of 7\n"
     ]
    },
    {
     "name": "stderr",
     "output_type": "stream",
     "text": [
      "Training...: 100%|██████████| 329/329 [00:01<00:00, 171.53it/s]\n",
      "Validating...: 100%|██████████| 83/83 [00:00<00:00, 918.43it/s]\n"
     ]
    },
    {
     "name": "stdout",
     "output_type": "stream",
     "text": [
      "Epoch 28, Train Loss: 0.7035, Val Loss: 0.5073\n",
      "EarlyStopping counter: 4 out of 7\n"
     ]
    },
    {
     "name": "stderr",
     "output_type": "stream",
     "text": [
      "Training...: 100%|██████████| 329/329 [00:01<00:00, 171.28it/s]\n",
      "Validating...: 100%|██████████| 83/83 [00:00<00:00, 922.19it/s]\n"
     ]
    },
    {
     "name": "stdout",
     "output_type": "stream",
     "text": [
      "Epoch 29, Train Loss: 0.7011, Val Loss: 0.5238\n",
      "EarlyStopping counter: 5 out of 7\n"
     ]
    },
    {
     "name": "stderr",
     "output_type": "stream",
     "text": [
      "Training...: 100%|██████████| 329/329 [00:01<00:00, 171.65it/s]\n",
      "Validating...: 100%|██████████| 83/83 [00:00<00:00, 924.79it/s]\n"
     ]
    },
    {
     "name": "stdout",
     "output_type": "stream",
     "text": [
      "Epoch 30, Train Loss: 0.7107, Val Loss: 0.6233\n",
      "EarlyStopping counter: 6 out of 7\n"
     ]
    },
    {
     "name": "stderr",
     "output_type": "stream",
     "text": [
      "Training...: 100%|██████████| 329/329 [00:01<00:00, 171.66it/s]\n",
      "Validating...: 100%|██████████| 83/83 [00:00<00:00, 918.96it/s]\n"
     ]
    },
    {
     "name": "stdout",
     "output_type": "stream",
     "text": [
      "Epoch 31, Train Loss: 0.7211, Val Loss: 0.4981\n",
      "EarlyStopping counter: 7 out of 7\n",
      "Early stopping\n",
      "Early stopping\n",
      "../results/ebba0242-7136-4869-b618-9fe880967002_history.pkl\n",
      "##########################################################\n",
      "Experiment ab58e6e3-c6ef-4ea0-841f-cf27cb440f2d Parameters:\n",
      "\n",
      "Window size: 60\n",
      "Step size: 20\n",
      "Batch size: 32\n",
      "Hidden dim1: 25\n",
      "Hidden dim2: 50\n",
      "Dropout: 0.3\n",
      "Layer norm flag: Enabled\n",
      "Loss function: <class 'torch.nn.modules.loss.L1Loss'>\n",
      "Lr: 0.0001\n",
      "Num epochs: 52\n"
     ]
    },
    {
     "name": "stderr",
     "output_type": "stream",
     "text": [
      "Training...: 100%|██████████| 329/329 [00:02<00:00, 162.41it/s]\n",
      "Validating...: 100%|██████████| 83/83 [00:00<00:00, 868.88it/s]\n"
     ]
    },
    {
     "name": "stdout",
     "output_type": "stream",
     "text": [
      "Epoch 1, Train Loss: 0.5525, Val Loss: 0.6372\n"
     ]
    },
    {
     "name": "stderr",
     "output_type": "stream",
     "text": [
      "Training...: 100%|██████████| 329/329 [00:02<00:00, 162.16it/s]\n",
      "Validating...: 100%|██████████| 83/83 [00:00<00:00, 879.52it/s]\n"
     ]
    },
    {
     "name": "stdout",
     "output_type": "stream",
     "text": [
      "Epoch 2, Train Loss: 0.5163, Val Loss: 0.6180\n"
     ]
    },
    {
     "name": "stderr",
     "output_type": "stream",
     "text": [
      "Training...: 100%|██████████| 329/329 [00:02<00:00, 162.21it/s]\n",
      "Validating...: 100%|██████████| 83/83 [00:00<00:00, 875.69it/s]\n"
     ]
    },
    {
     "name": "stdout",
     "output_type": "stream",
     "text": [
      "Epoch 3, Train Loss: 0.5017, Val Loss: 0.6025\n"
     ]
    },
    {
     "name": "stderr",
     "output_type": "stream",
     "text": [
      "Training...: 100%|██████████| 329/329 [00:02<00:00, 162.20it/s]\n",
      "Validating...: 100%|██████████| 83/83 [00:00<00:00, 872.95it/s]\n"
     ]
    },
    {
     "name": "stdout",
     "output_type": "stream",
     "text": [
      "Epoch 4, Train Loss: 0.4894, Val Loss: 0.5904\n"
     ]
    },
    {
     "name": "stderr",
     "output_type": "stream",
     "text": [
      "Training...: 100%|██████████| 329/329 [00:02<00:00, 162.06it/s]\n",
      "Validating...: 100%|██████████| 83/83 [00:00<00:00, 875.72it/s]\n"
     ]
    },
    {
     "name": "stdout",
     "output_type": "stream",
     "text": [
      "Epoch 5, Train Loss: 0.4800, Val Loss: 0.5813\n"
     ]
    },
    {
     "name": "stderr",
     "output_type": "stream",
     "text": [
      "Training...: 100%|██████████| 329/329 [00:02<00:00, 161.98it/s]\n",
      "Validating...: 100%|██████████| 83/83 [00:00<00:00, 877.38it/s]\n"
     ]
    },
    {
     "name": "stdout",
     "output_type": "stream",
     "text": [
      "Epoch 6, Train Loss: 0.4723, Val Loss: 0.5740\n"
     ]
    },
    {
     "name": "stderr",
     "output_type": "stream",
     "text": [
      "Training...: 100%|██████████| 329/329 [00:02<00:00, 162.10it/s]\n",
      "Validating...: 100%|██████████| 83/83 [00:00<00:00, 875.66it/s]\n"
     ]
    },
    {
     "name": "stdout",
     "output_type": "stream",
     "text": [
      "Epoch 7, Train Loss: 0.4671, Val Loss: 0.5684\n"
     ]
    },
    {
     "name": "stderr",
     "output_type": "stream",
     "text": [
      "Training...: 100%|██████████| 329/329 [00:01<00:00, 164.82it/s]\n",
      "Validating...: 100%|██████████| 83/83 [00:00<00:00, 900.19it/s]\n"
     ]
    },
    {
     "name": "stdout",
     "output_type": "stream",
     "text": [
      "Epoch 8, Train Loss: 0.4625, Val Loss: 0.5640\n"
     ]
    },
    {
     "name": "stderr",
     "output_type": "stream",
     "text": [
      "Training...: 100%|██████████| 329/329 [00:01<00:00, 165.24it/s]\n",
      "Validating...: 100%|██████████| 83/83 [00:00<00:00, 897.17it/s]\n"
     ]
    },
    {
     "name": "stdout",
     "output_type": "stream",
     "text": [
      "Epoch 9, Train Loss: 0.4597, Val Loss: 0.5605\n"
     ]
    },
    {
     "name": "stderr",
     "output_type": "stream",
     "text": [
      "Training...: 100%|██████████| 329/329 [00:01<00:00, 165.83it/s]\n",
      "Validating...: 100%|██████████| 83/83 [00:00<00:00, 900.03it/s]\n"
     ]
    },
    {
     "name": "stdout",
     "output_type": "stream",
     "text": [
      "Epoch 10, Train Loss: 0.4579, Val Loss: 0.5579\n"
     ]
    },
    {
     "name": "stderr",
     "output_type": "stream",
     "text": [
      "Training...: 100%|██████████| 329/329 [00:01<00:00, 165.81it/s]\n",
      "Validating...: 100%|██████████| 83/83 [00:00<00:00, 905.21it/s]\n"
     ]
    },
    {
     "name": "stdout",
     "output_type": "stream",
     "text": [
      "Epoch 11, Train Loss: 0.4569, Val Loss: 0.5562\n"
     ]
    },
    {
     "name": "stderr",
     "output_type": "stream",
     "text": [
      "Training...: 100%|██████████| 329/329 [00:01<00:00, 165.67it/s]\n",
      "Validating...: 100%|██████████| 83/83 [00:00<00:00, 885.96it/s]\n"
     ]
    },
    {
     "name": "stdout",
     "output_type": "stream",
     "text": [
      "Epoch 12, Train Loss: 0.4561, Val Loss: 0.5548\n"
     ]
    },
    {
     "name": "stderr",
     "output_type": "stream",
     "text": [
      "Training...: 100%|██████████| 329/329 [00:02<00:00, 162.53it/s]\n",
      "Validating...: 100%|██████████| 83/83 [00:00<00:00, 883.70it/s]\n"
     ]
    },
    {
     "name": "stdout",
     "output_type": "stream",
     "text": [
      "Epoch 13, Train Loss: 0.4559, Val Loss: 0.5540\n"
     ]
    },
    {
     "name": "stderr",
     "output_type": "stream",
     "text": [
      "Training...: 100%|██████████| 329/329 [00:02<00:00, 162.29it/s]\n",
      "Validating...: 100%|██████████| 83/83 [00:00<00:00, 875.40it/s]\n"
     ]
    },
    {
     "name": "stdout",
     "output_type": "stream",
     "text": [
      "Epoch 14, Train Loss: 0.4555, Val Loss: 0.5535\n"
     ]
    },
    {
     "name": "stderr",
     "output_type": "stream",
     "text": [
      "Training...: 100%|██████████| 329/329 [00:02<00:00, 161.07it/s]\n",
      "Validating...: 100%|██████████| 83/83 [00:00<00:00, 874.07it/s]\n"
     ]
    },
    {
     "name": "stdout",
     "output_type": "stream",
     "text": [
      "Epoch 15, Train Loss: 0.4555, Val Loss: 0.5532\n"
     ]
    },
    {
     "name": "stderr",
     "output_type": "stream",
     "text": [
      "Training...: 100%|██████████| 329/329 [00:02<00:00, 162.17it/s]\n",
      "Validating...: 100%|██████████| 83/83 [00:00<00:00, 900.75it/s]\n"
     ]
    },
    {
     "name": "stdout",
     "output_type": "stream",
     "text": [
      "Epoch 16, Train Loss: 0.4556, Val Loss: 0.5531\n"
     ]
    },
    {
     "name": "stderr",
     "output_type": "stream",
     "text": [
      "Training...: 100%|██████████| 329/329 [00:01<00:00, 165.68it/s]\n",
      "Validating...: 100%|██████████| 83/83 [00:00<00:00, 901.20it/s]\n"
     ]
    },
    {
     "name": "stdout",
     "output_type": "stream",
     "text": [
      "Epoch 17, Train Loss: 0.4555, Val Loss: 0.5530\n"
     ]
    },
    {
     "name": "stderr",
     "output_type": "stream",
     "text": [
      "Training...: 100%|██████████| 329/329 [00:01<00:00, 165.15it/s]\n",
      "Validating...: 100%|██████████| 83/83 [00:00<00:00, 897.81it/s]\n"
     ]
    },
    {
     "name": "stdout",
     "output_type": "stream",
     "text": [
      "Epoch 18, Train Loss: 0.4555, Val Loss: 0.5529\n"
     ]
    },
    {
     "name": "stderr",
     "output_type": "stream",
     "text": [
      "Training...: 100%|██████████| 329/329 [00:02<00:00, 161.82it/s]\n",
      "Validating...: 100%|██████████| 83/83 [00:00<00:00, 870.69it/s]\n"
     ]
    },
    {
     "name": "stdout",
     "output_type": "stream",
     "text": [
      "Epoch 19, Train Loss: 0.4555, Val Loss: 0.5530\n",
      "EarlyStopping counter: 1 out of 7\n"
     ]
    },
    {
     "name": "stderr",
     "output_type": "stream",
     "text": [
      "Training...: 100%|██████████| 329/329 [00:02<00:00, 161.71it/s]\n",
      "Validating...: 100%|██████████| 83/83 [00:00<00:00, 886.98it/s]\n"
     ]
    },
    {
     "name": "stdout",
     "output_type": "stream",
     "text": [
      "Epoch 20, Train Loss: 0.4554, Val Loss: 0.5530\n",
      "EarlyStopping counter: 2 out of 7\n"
     ]
    },
    {
     "name": "stderr",
     "output_type": "stream",
     "text": [
      "Training...: 100%|██████████| 329/329 [00:02<00:00, 162.51it/s]\n",
      "Validating...: 100%|██████████| 83/83 [00:00<00:00, 883.04it/s]\n"
     ]
    },
    {
     "name": "stdout",
     "output_type": "stream",
     "text": [
      "Epoch 21, Train Loss: 0.4554, Val Loss: 0.5529\n",
      "EarlyStopping counter: 3 out of 7\n"
     ]
    },
    {
     "name": "stderr",
     "output_type": "stream",
     "text": [
      "Training...: 100%|██████████| 329/329 [00:02<00:00, 162.29it/s]\n",
      "Validating...: 100%|██████████| 83/83 [00:00<00:00, 883.97it/s]\n"
     ]
    },
    {
     "name": "stdout",
     "output_type": "stream",
     "text": [
      "Epoch 22, Train Loss: 0.4552, Val Loss: 0.5530\n",
      "EarlyStopping counter: 4 out of 7\n"
     ]
    },
    {
     "name": "stderr",
     "output_type": "stream",
     "text": [
      "Training...: 100%|██████████| 329/329 [00:02<00:00, 162.29it/s]\n",
      "Validating...: 100%|██████████| 83/83 [00:00<00:00, 883.63it/s]\n"
     ]
    },
    {
     "name": "stdout",
     "output_type": "stream",
     "text": [
      "Epoch 23, Train Loss: 0.4553, Val Loss: 0.5530\n",
      "EarlyStopping counter: 5 out of 7\n"
     ]
    },
    {
     "name": "stderr",
     "output_type": "stream",
     "text": [
      "Training...: 100%|██████████| 329/329 [00:02<00:00, 162.21it/s]\n",
      "Validating...: 100%|██████████| 83/83 [00:00<00:00, 886.72it/s]\n"
     ]
    },
    {
     "name": "stdout",
     "output_type": "stream",
     "text": [
      "Epoch 24, Train Loss: 0.4554, Val Loss: 0.5531\n",
      "EarlyStopping counter: 6 out of 7\n"
     ]
    },
    {
     "name": "stderr",
     "output_type": "stream",
     "text": [
      "Training...: 100%|██████████| 329/329 [00:02<00:00, 162.33it/s]\n",
      "Validating...: 100%|██████████| 83/83 [00:00<00:00, 882.73it/s]\n"
     ]
    },
    {
     "name": "stdout",
     "output_type": "stream",
     "text": [
      "Epoch 25, Train Loss: 0.4557, Val Loss: 0.5531\n",
      "EarlyStopping counter: 7 out of 7\n",
      "Early stopping\n",
      "Early stopping\n",
      "../results/ab58e6e3-c6ef-4ea0-841f-cf27cb440f2d_history.pkl\n",
      "##########################################################\n",
      "Experiment 1114356b-4cd8-4eed-b2a9-0add74df3c2e Parameters:\n",
      "\n",
      "Window size: 60\n",
      "Step size: 20\n",
      "Batch size: 32\n",
      "Hidden dim1: 25\n",
      "Hidden dim2: 50\n",
      "Dropout: 0.3\n",
      "Layer norm flag: Enabled\n",
      "Loss function: <class 'torch.nn.modules.loss.L1Loss'>\n",
      "Lr: 0.001\n",
      "Num epochs: 52\n"
     ]
    },
    {
     "name": "stderr",
     "output_type": "stream",
     "text": [
      "Training...: 100%|██████████| 329/329 [00:02<00:00, 162.55it/s]\n",
      "Validating...: 100%|██████████| 83/83 [00:00<00:00, 899.02it/s]\n"
     ]
    },
    {
     "name": "stdout",
     "output_type": "stream",
     "text": [
      "Epoch 1, Train Loss: 0.5320, Val Loss: 0.5985\n"
     ]
    },
    {
     "name": "stderr",
     "output_type": "stream",
     "text": [
      "Training...: 100%|██████████| 329/329 [00:01<00:00, 165.31it/s]\n",
      "Validating...: 100%|██████████| 83/83 [00:00<00:00, 897.93it/s]\n"
     ]
    },
    {
     "name": "stdout",
     "output_type": "stream",
     "text": [
      "Epoch 2, Train Loss: 0.4982, Val Loss: 0.5890\n"
     ]
    },
    {
     "name": "stderr",
     "output_type": "stream",
     "text": [
      "Training...: 100%|██████████| 329/329 [00:01<00:00, 165.08it/s]\n",
      "Validating...: 100%|██████████| 83/83 [00:00<00:00, 891.95it/s]\n"
     ]
    },
    {
     "name": "stdout",
     "output_type": "stream",
     "text": [
      "Epoch 3, Train Loss: 0.4748, Val Loss: 0.5969\n",
      "EarlyStopping counter: 1 out of 7\n"
     ]
    },
    {
     "name": "stderr",
     "output_type": "stream",
     "text": [
      "Training...: 100%|██████████| 329/329 [00:01<00:00, 165.28it/s]\n",
      "Validating...: 100%|██████████| 83/83 [00:00<00:00, 898.66it/s]\n"
     ]
    },
    {
     "name": "stdout",
     "output_type": "stream",
     "text": [
      "Epoch 4, Train Loss: 0.4689, Val Loss: 0.5891\n",
      "EarlyStopping counter: 2 out of 7\n"
     ]
    },
    {
     "name": "stderr",
     "output_type": "stream",
     "text": [
      "Training...: 100%|██████████| 329/329 [00:01<00:00, 165.44it/s]\n",
      "Validating...: 100%|██████████| 83/83 [00:00<00:00, 901.78it/s]\n"
     ]
    },
    {
     "name": "stdout",
     "output_type": "stream",
     "text": [
      "Epoch 5, Train Loss: 0.4478, Val Loss: 0.5309\n"
     ]
    },
    {
     "name": "stderr",
     "output_type": "stream",
     "text": [
      "Training...: 100%|██████████| 329/329 [00:01<00:00, 165.07it/s]\n",
      "Validating...: 100%|██████████| 83/83 [00:00<00:00, 899.10it/s]\n"
     ]
    },
    {
     "name": "stdout",
     "output_type": "stream",
     "text": [
      "Epoch 6, Train Loss: 0.4022, Val Loss: 0.4830\n"
     ]
    },
    {
     "name": "stderr",
     "output_type": "stream",
     "text": [
      "Training...: 100%|██████████| 329/329 [00:01<00:00, 165.48it/s]\n",
      "Validating...: 100%|██████████| 83/83 [00:00<00:00, 901.03it/s]\n"
     ]
    },
    {
     "name": "stdout",
     "output_type": "stream",
     "text": [
      "Epoch 7, Train Loss: 0.3710, Val Loss: 0.4354\n"
     ]
    },
    {
     "name": "stderr",
     "output_type": "stream",
     "text": [
      "Training...: 100%|██████████| 329/329 [00:02<00:00, 164.49it/s]\n",
      "Validating...: 100%|██████████| 83/83 [00:00<00:00, 895.23it/s]\n"
     ]
    },
    {
     "name": "stdout",
     "output_type": "stream",
     "text": [
      "Epoch 8, Train Loss: 0.3452, Val Loss: 0.4205\n"
     ]
    },
    {
     "name": "stderr",
     "output_type": "stream",
     "text": [
      "Training...: 100%|██████████| 329/329 [00:01<00:00, 165.03it/s]\n",
      "Validating...: 100%|██████████| 83/83 [00:00<00:00, 898.52it/s]\n"
     ]
    },
    {
     "name": "stdout",
     "output_type": "stream",
     "text": [
      "Epoch 9, Train Loss: 0.3392, Val Loss: 0.4194\n"
     ]
    },
    {
     "name": "stderr",
     "output_type": "stream",
     "text": [
      "Training...: 100%|██████████| 329/329 [00:01<00:00, 165.02it/s]\n",
      "Validating...: 100%|██████████| 83/83 [00:00<00:00, 900.14it/s]\n"
     ]
    },
    {
     "name": "stdout",
     "output_type": "stream",
     "text": [
      "Epoch 10, Train Loss: 0.3347, Val Loss: 0.4143\n"
     ]
    },
    {
     "name": "stderr",
     "output_type": "stream",
     "text": [
      "Training...: 100%|██████████| 329/329 [00:01<00:00, 164.92it/s]\n",
      "Validating...: 100%|██████████| 83/83 [00:00<00:00, 891.66it/s]\n"
     ]
    },
    {
     "name": "stdout",
     "output_type": "stream",
     "text": [
      "Epoch 11, Train Loss: 0.3327, Val Loss: 0.4162\n",
      "EarlyStopping counter: 1 out of 7\n"
     ]
    },
    {
     "name": "stderr",
     "output_type": "stream",
     "text": [
      "Training...: 100%|██████████| 329/329 [00:01<00:00, 165.82it/s]\n",
      "Validating...: 100%|██████████| 83/83 [00:00<00:00, 892.52it/s]\n"
     ]
    },
    {
     "name": "stdout",
     "output_type": "stream",
     "text": [
      "Epoch 12, Train Loss: 0.3314, Val Loss: 0.4131\n"
     ]
    },
    {
     "name": "stderr",
     "output_type": "stream",
     "text": [
      "Training...: 100%|██████████| 329/329 [00:01<00:00, 165.64it/s]\n",
      "Validating...: 100%|██████████| 83/83 [00:00<00:00, 900.65it/s]\n"
     ]
    },
    {
     "name": "stdout",
     "output_type": "stream",
     "text": [
      "Epoch 13, Train Loss: 0.3302, Val Loss: 0.4107\n"
     ]
    },
    {
     "name": "stderr",
     "output_type": "stream",
     "text": [
      "Training...: 100%|██████████| 329/329 [00:01<00:00, 165.98it/s]\n",
      "Validating...: 100%|██████████| 83/83 [00:00<00:00, 896.64it/s]\n"
     ]
    },
    {
     "name": "stdout",
     "output_type": "stream",
     "text": [
      "Epoch 14, Train Loss: 0.3293, Val Loss: 0.4142\n",
      "EarlyStopping counter: 1 out of 7\n"
     ]
    },
    {
     "name": "stderr",
     "output_type": "stream",
     "text": [
      "Training...: 100%|██████████| 329/329 [00:01<00:00, 166.02it/s]\n",
      "Validating...: 100%|██████████| 83/83 [00:00<00:00, 893.75it/s]\n"
     ]
    },
    {
     "name": "stdout",
     "output_type": "stream",
     "text": [
      "Epoch 15, Train Loss: 0.3289, Val Loss: 0.4103\n"
     ]
    },
    {
     "name": "stderr",
     "output_type": "stream",
     "text": [
      "Training...: 100%|██████████| 329/329 [00:01<00:00, 165.66it/s]\n",
      "Validating...: 100%|██████████| 83/83 [00:00<00:00, 897.61it/s]\n"
     ]
    },
    {
     "name": "stdout",
     "output_type": "stream",
     "text": [
      "Epoch 16, Train Loss: 0.3280, Val Loss: 0.4106\n",
      "EarlyStopping counter: 1 out of 7\n"
     ]
    },
    {
     "name": "stderr",
     "output_type": "stream",
     "text": [
      "Training...: 100%|██████████| 329/329 [00:01<00:00, 165.07it/s]\n",
      "Validating...: 100%|██████████| 83/83 [00:00<00:00, 899.75it/s]\n"
     ]
    },
    {
     "name": "stdout",
     "output_type": "stream",
     "text": [
      "Epoch 17, Train Loss: 0.3280, Val Loss: 0.4111\n",
      "EarlyStopping counter: 2 out of 7\n"
     ]
    },
    {
     "name": "stderr",
     "output_type": "stream",
     "text": [
      "Training...: 100%|██████████| 329/329 [00:01<00:00, 165.81it/s]\n",
      "Validating...: 100%|██████████| 83/83 [00:00<00:00, 893.12it/s]\n"
     ]
    },
    {
     "name": "stdout",
     "output_type": "stream",
     "text": [
      "Epoch 18, Train Loss: 0.3275, Val Loss: 0.4101\n"
     ]
    },
    {
     "name": "stderr",
     "output_type": "stream",
     "text": [
      "Training...: 100%|██████████| 329/329 [00:01<00:00, 165.84it/s]\n",
      "Validating...: 100%|██████████| 83/83 [00:00<00:00, 897.81it/s]\n"
     ]
    },
    {
     "name": "stdout",
     "output_type": "stream",
     "text": [
      "Epoch 19, Train Loss: 0.3273, Val Loss: 0.4112\n",
      "EarlyStopping counter: 1 out of 7\n"
     ]
    },
    {
     "name": "stderr",
     "output_type": "stream",
     "text": [
      "Training...: 100%|██████████| 329/329 [00:01<00:00, 165.80it/s]\n",
      "Validating...: 100%|██████████| 83/83 [00:00<00:00, 901.78it/s]\n"
     ]
    },
    {
     "name": "stdout",
     "output_type": "stream",
     "text": [
      "Epoch 20, Train Loss: 0.3270, Val Loss: 0.4111\n",
      "EarlyStopping counter: 2 out of 7\n"
     ]
    },
    {
     "name": "stderr",
     "output_type": "stream",
     "text": [
      "Training...: 100%|██████████| 329/329 [00:01<00:00, 165.93it/s]\n",
      "Validating...: 100%|██████████| 83/83 [00:00<00:00, 897.14it/s]\n"
     ]
    },
    {
     "name": "stdout",
     "output_type": "stream",
     "text": [
      "Epoch 21, Train Loss: 0.3270, Val Loss: 0.4125\n",
      "EarlyStopping counter: 3 out of 7\n"
     ]
    },
    {
     "name": "stderr",
     "output_type": "stream",
     "text": [
      "Training...: 100%|██████████| 329/329 [00:01<00:00, 165.84it/s]\n",
      "Validating...: 100%|██████████| 83/83 [00:00<00:00, 893.59it/s]\n"
     ]
    },
    {
     "name": "stdout",
     "output_type": "stream",
     "text": [
      "Epoch 22, Train Loss: 0.3267, Val Loss: 0.4109\n",
      "EarlyStopping counter: 4 out of 7\n"
     ]
    },
    {
     "name": "stderr",
     "output_type": "stream",
     "text": [
      "Training...: 100%|██████████| 329/329 [00:01<00:00, 165.92it/s]\n",
      "Validating...: 100%|██████████| 83/83 [00:00<00:00, 894.20it/s]\n"
     ]
    },
    {
     "name": "stdout",
     "output_type": "stream",
     "text": [
      "Epoch 23, Train Loss: 0.3269, Val Loss: 0.4075\n"
     ]
    },
    {
     "name": "stderr",
     "output_type": "stream",
     "text": [
      "Training...: 100%|██████████| 329/329 [00:01<00:00, 165.95it/s]\n",
      "Validating...: 100%|██████████| 83/83 [00:00<00:00, 900.95it/s]\n"
     ]
    },
    {
     "name": "stdout",
     "output_type": "stream",
     "text": [
      "Epoch 24, Train Loss: 0.3260, Val Loss: 0.4123\n",
      "EarlyStopping counter: 1 out of 7\n"
     ]
    },
    {
     "name": "stderr",
     "output_type": "stream",
     "text": [
      "Training...: 100%|██████████| 329/329 [00:01<00:00, 165.63it/s]\n",
      "Validating...: 100%|██████████| 83/83 [00:00<00:00, 899.80it/s]\n"
     ]
    },
    {
     "name": "stdout",
     "output_type": "stream",
     "text": [
      "Epoch 25, Train Loss: 0.3256, Val Loss: 0.4087\n",
      "EarlyStopping counter: 2 out of 7\n"
     ]
    },
    {
     "name": "stderr",
     "output_type": "stream",
     "text": [
      "Training...: 100%|██████████| 329/329 [00:01<00:00, 165.68it/s]\n",
      "Validating...: 100%|██████████| 83/83 [00:00<00:00, 897.64it/s]\n"
     ]
    },
    {
     "name": "stdout",
     "output_type": "stream",
     "text": [
      "Epoch 26, Train Loss: 0.3252, Val Loss: 0.4095\n",
      "EarlyStopping counter: 3 out of 7\n"
     ]
    },
    {
     "name": "stderr",
     "output_type": "stream",
     "text": [
      "Training...: 100%|██████████| 329/329 [00:01<00:00, 165.93it/s]\n",
      "Validating...: 100%|██████████| 83/83 [00:00<00:00, 893.29it/s]\n"
     ]
    },
    {
     "name": "stdout",
     "output_type": "stream",
     "text": [
      "Epoch 27, Train Loss: 0.3252, Val Loss: 0.4086\n",
      "EarlyStopping counter: 4 out of 7\n"
     ]
    },
    {
     "name": "stderr",
     "output_type": "stream",
     "text": [
      "Training...: 100%|██████████| 329/329 [00:01<00:00, 165.50it/s]\n",
      "Validating...: 100%|██████████| 83/83 [00:00<00:00, 882.49it/s]\n"
     ]
    },
    {
     "name": "stdout",
     "output_type": "stream",
     "text": [
      "Epoch 28, Train Loss: 0.3252, Val Loss: 0.4109\n",
      "EarlyStopping counter: 5 out of 7\n"
     ]
    },
    {
     "name": "stderr",
     "output_type": "stream",
     "text": [
      "Training...: 100%|██████████| 329/329 [00:02<00:00, 163.44it/s]\n",
      "Validating...: 100%|██████████| 83/83 [00:00<00:00, 882.82it/s]\n"
     ]
    },
    {
     "name": "stdout",
     "output_type": "stream",
     "text": [
      "Epoch 29, Train Loss: 0.3245, Val Loss: 0.4083\n",
      "EarlyStopping counter: 6 out of 7\n"
     ]
    },
    {
     "name": "stderr",
     "output_type": "stream",
     "text": [
      "Training...: 100%|██████████| 329/329 [00:02<00:00, 163.49it/s]\n",
      "Validating...: 100%|██████████| 83/83 [00:00<00:00, 885.14it/s]\n"
     ]
    },
    {
     "name": "stdout",
     "output_type": "stream",
     "text": [
      "Epoch 30, Train Loss: 0.3243, Val Loss: 0.4088\n",
      "EarlyStopping counter: 7 out of 7\n",
      "Early stopping\n",
      "Early stopping\n",
      "../results/1114356b-4cd8-4eed-b2a9-0add74df3c2e_history.pkl\n",
      "##########################################################\n",
      "Experiment d7fa8fa3-e627-4ff7-b6d2-2f358ed2249f Parameters:\n",
      "\n",
      "Window size: 60\n",
      "Step size: 20\n",
      "Batch size: 32\n",
      "Hidden dim1: 25\n",
      "Hidden dim2: 50\n",
      "Dropout: 0.3\n",
      "Layer norm flag: Enabled\n",
      "Loss function: <class 'torch.nn.modules.loss.MSELoss'>\n",
      "Lr: 0.0001\n",
      "Num epochs: 52\n"
     ]
    },
    {
     "name": "stderr",
     "output_type": "stream",
     "text": [
      "Training...: 100%|██████████| 329/329 [00:02<00:00, 164.42it/s]\n",
      "Validating...: 100%|██████████| 83/83 [00:00<00:00, 886.69it/s]\n"
     ]
    },
    {
     "name": "stdout",
     "output_type": "stream",
     "text": [
      "Epoch 1, Train Loss: 0.9753, Val Loss: 1.2439\n"
     ]
    },
    {
     "name": "stderr",
     "output_type": "stream",
     "text": [
      "Training...: 100%|██████████| 329/329 [00:02<00:00, 162.80it/s]\n",
      "Validating...: 100%|██████████| 83/83 [00:00<00:00, 879.48it/s]\n"
     ]
    },
    {
     "name": "stdout",
     "output_type": "stream",
     "text": [
      "Epoch 2, Train Loss: 0.9526, Val Loss: 1.2347\n"
     ]
    },
    {
     "name": "stderr",
     "output_type": "stream",
     "text": [
      "Training...: 100%|██████████| 329/329 [00:02<00:00, 162.95it/s]\n",
      "Validating...: 100%|██████████| 83/83 [00:00<00:00, 878.84it/s]\n"
     ]
    },
    {
     "name": "stdout",
     "output_type": "stream",
     "text": [
      "Epoch 3, Train Loss: 0.9466, Val Loss: 1.2260\n"
     ]
    },
    {
     "name": "stderr",
     "output_type": "stream",
     "text": [
      "Training...: 100%|██████████| 329/329 [00:02<00:00, 162.79it/s]\n",
      "Validating...: 100%|██████████| 83/83 [00:00<00:00, 879.16it/s]\n"
     ]
    },
    {
     "name": "stdout",
     "output_type": "stream",
     "text": [
      "Epoch 4, Train Loss: 0.9420, Val Loss: 1.2171\n"
     ]
    },
    {
     "name": "stderr",
     "output_type": "stream",
     "text": [
      "Training...: 100%|██████████| 329/329 [00:02<00:00, 162.65it/s]\n",
      "Validating...: 100%|██████████| 83/83 [00:00<00:00, 885.27it/s]\n"
     ]
    },
    {
     "name": "stdout",
     "output_type": "stream",
     "text": [
      "Epoch 5, Train Loss: 0.9381, Val Loss: 1.2084\n"
     ]
    },
    {
     "name": "stderr",
     "output_type": "stream",
     "text": [
      "Training...: 100%|██████████| 329/329 [00:02<00:00, 164.19it/s]\n",
      "Validating...: 100%|██████████| 83/83 [00:00<00:00, 885.85it/s]\n"
     ]
    },
    {
     "name": "stdout",
     "output_type": "stream",
     "text": [
      "Epoch 6, Train Loss: 0.9328, Val Loss: 1.1992\n"
     ]
    },
    {
     "name": "stderr",
     "output_type": "stream",
     "text": [
      "Training...: 100%|██████████| 329/329 [00:01<00:00, 166.99it/s]\n",
      "Validating...: 100%|██████████| 83/83 [00:00<00:00, 905.63it/s]\n"
     ]
    },
    {
     "name": "stdout",
     "output_type": "stream",
     "text": [
      "Epoch 7, Train Loss: 0.9282, Val Loss: 1.1896\n"
     ]
    },
    {
     "name": "stderr",
     "output_type": "stream",
     "text": [
      "Training...: 100%|██████████| 329/329 [00:01<00:00, 167.30it/s]\n",
      "Validating...: 100%|██████████| 83/83 [00:00<00:00, 902.10it/s]\n"
     ]
    },
    {
     "name": "stdout",
     "output_type": "stream",
     "text": [
      "Epoch 8, Train Loss: 0.9237, Val Loss: 1.1802\n"
     ]
    },
    {
     "name": "stderr",
     "output_type": "stream",
     "text": [
      "Training...: 100%|██████████| 329/329 [00:01<00:00, 167.26it/s]\n",
      "Validating...: 100%|██████████| 83/83 [00:00<00:00, 905.55it/s]\n"
     ]
    },
    {
     "name": "stdout",
     "output_type": "stream",
     "text": [
      "Epoch 9, Train Loss: 0.9197, Val Loss: 1.1720\n"
     ]
    },
    {
     "name": "stderr",
     "output_type": "stream",
     "text": [
      "Training...: 100%|██████████| 329/329 [00:01<00:00, 166.13it/s]\n",
      "Validating...: 100%|██████████| 83/83 [00:00<00:00, 903.77it/s]\n"
     ]
    },
    {
     "name": "stdout",
     "output_type": "stream",
     "text": [
      "Epoch 10, Train Loss: 0.9169, Val Loss: 1.1633\n"
     ]
    },
    {
     "name": "stderr",
     "output_type": "stream",
     "text": [
      "Training...: 100%|██████████| 329/329 [00:01<00:00, 165.95it/s]\n",
      "Validating...: 100%|██████████| 83/83 [00:00<00:00, 902.31it/s]\n"
     ]
    },
    {
     "name": "stdout",
     "output_type": "stream",
     "text": [
      "Epoch 11, Train Loss: 0.9115, Val Loss: 1.1552\n"
     ]
    },
    {
     "name": "stderr",
     "output_type": "stream",
     "text": [
      "Training...: 100%|██████████| 329/329 [00:01<00:00, 165.46it/s]\n",
      "Validating...: 100%|██████████| 83/83 [00:00<00:00, 896.66it/s]\n"
     ]
    },
    {
     "name": "stdout",
     "output_type": "stream",
     "text": [
      "Epoch 12, Train Loss: 0.9084, Val Loss: 1.1473\n"
     ]
    },
    {
     "name": "stderr",
     "output_type": "stream",
     "text": [
      "Training...: 100%|██████████| 329/329 [00:01<00:00, 166.23it/s]\n",
      "Validating...: 100%|██████████| 83/83 [00:00<00:00, 904.71it/s]\n"
     ]
    },
    {
     "name": "stdout",
     "output_type": "stream",
     "text": [
      "Epoch 13, Train Loss: 0.9041, Val Loss: 1.1393\n"
     ]
    },
    {
     "name": "stderr",
     "output_type": "stream",
     "text": [
      "Training...: 100%|██████████| 329/329 [00:01<00:00, 166.59it/s]\n",
      "Validating...: 100%|██████████| 83/83 [00:00<00:00, 904.82it/s]\n"
     ]
    },
    {
     "name": "stdout",
     "output_type": "stream",
     "text": [
      "Epoch 14, Train Loss: 0.8999, Val Loss: 1.1283\n"
     ]
    },
    {
     "name": "stderr",
     "output_type": "stream",
     "text": [
      "Training...: 100%|██████████| 329/329 [00:01<00:00, 167.16it/s]\n",
      "Validating...: 100%|██████████| 83/83 [00:00<00:00, 906.16it/s]\n"
     ]
    },
    {
     "name": "stdout",
     "output_type": "stream",
     "text": [
      "Epoch 15, Train Loss: 0.8852, Val Loss: 1.1009\n"
     ]
    },
    {
     "name": "stderr",
     "output_type": "stream",
     "text": [
      "Training...: 100%|██████████| 329/329 [00:01<00:00, 167.27it/s]\n",
      "Validating...: 100%|██████████| 83/83 [00:00<00:00, 900.23it/s]\n"
     ]
    },
    {
     "name": "stdout",
     "output_type": "stream",
     "text": [
      "Epoch 16, Train Loss: 0.8711, Val Loss: 1.0845\n"
     ]
    },
    {
     "name": "stderr",
     "output_type": "stream",
     "text": [
      "Training...: 100%|██████████| 329/329 [00:01<00:00, 167.17it/s]\n",
      "Validating...: 100%|██████████| 83/83 [00:00<00:00, 903.52it/s]\n"
     ]
    },
    {
     "name": "stdout",
     "output_type": "stream",
     "text": [
      "Epoch 17, Train Loss: 0.8607, Val Loss: 1.0708\n"
     ]
    },
    {
     "name": "stderr",
     "output_type": "stream",
     "text": [
      "Training...: 100%|██████████| 329/329 [00:01<00:00, 167.06it/s]\n",
      "Validating...: 100%|██████████| 83/83 [00:00<00:00, 901.48it/s]\n"
     ]
    },
    {
     "name": "stdout",
     "output_type": "stream",
     "text": [
      "Epoch 18, Train Loss: 0.8532, Val Loss: 1.0587\n"
     ]
    },
    {
     "name": "stderr",
     "output_type": "stream",
     "text": [
      "Training...: 100%|██████████| 329/329 [00:01<00:00, 166.04it/s]\n",
      "Validating...: 100%|██████████| 83/83 [00:00<00:00, 901.74it/s]\n"
     ]
    },
    {
     "name": "stdout",
     "output_type": "stream",
     "text": [
      "Epoch 19, Train Loss: 0.8465, Val Loss: 1.0469\n"
     ]
    },
    {
     "name": "stderr",
     "output_type": "stream",
     "text": [
      "Training...: 100%|██████████| 329/329 [00:01<00:00, 165.95it/s]\n",
      "Validating...: 100%|██████████| 83/83 [00:00<00:00, 900.72it/s]\n"
     ]
    },
    {
     "name": "stdout",
     "output_type": "stream",
     "text": [
      "Epoch 20, Train Loss: 0.8402, Val Loss: 1.0344\n"
     ]
    },
    {
     "name": "stderr",
     "output_type": "stream",
     "text": [
      "Training...: 100%|██████████| 329/329 [00:01<00:00, 166.49it/s]\n",
      "Validating...: 100%|██████████| 83/83 [00:00<00:00, 901.98it/s]\n"
     ]
    },
    {
     "name": "stdout",
     "output_type": "stream",
     "text": [
      "Epoch 21, Train Loss: 0.8338, Val Loss: 1.0212\n"
     ]
    },
    {
     "name": "stderr",
     "output_type": "stream",
     "text": [
      "Training...: 100%|██████████| 329/329 [00:01<00:00, 166.74it/s]\n",
      "Validating...: 100%|██████████| 83/83 [00:00<00:00, 904.47it/s]\n"
     ]
    },
    {
     "name": "stdout",
     "output_type": "stream",
     "text": [
      "Epoch 22, Train Loss: 0.8278, Val Loss: 1.0091\n"
     ]
    },
    {
     "name": "stderr",
     "output_type": "stream",
     "text": [
      "Training...: 100%|██████████| 329/329 [00:01<00:00, 167.16it/s]\n",
      "Validating...: 100%|██████████| 83/83 [00:00<00:00, 901.34it/s]\n"
     ]
    },
    {
     "name": "stdout",
     "output_type": "stream",
     "text": [
      "Epoch 23, Train Loss: 0.8216, Val Loss: 0.9971\n"
     ]
    },
    {
     "name": "stderr",
     "output_type": "stream",
     "text": [
      "Training...: 100%|██████████| 329/329 [00:01<00:00, 166.62it/s]\n",
      "Validating...: 100%|██████████| 83/83 [00:00<00:00, 903.52it/s]\n"
     ]
    },
    {
     "name": "stdout",
     "output_type": "stream",
     "text": [
      "Epoch 24, Train Loss: 0.8149, Val Loss: 0.9807\n"
     ]
    },
    {
     "name": "stderr",
     "output_type": "stream",
     "text": [
      "Training...: 100%|██████████| 329/329 [00:01<00:00, 166.62it/s]\n",
      "Validating...: 100%|██████████| 83/83 [00:00<00:00, 900.81it/s]\n"
     ]
    },
    {
     "name": "stdout",
     "output_type": "stream",
     "text": [
      "Epoch 25, Train Loss: 0.8103, Val Loss: 0.9700\n"
     ]
    },
    {
     "name": "stderr",
     "output_type": "stream",
     "text": [
      "Training...: 100%|██████████| 329/329 [00:01<00:00, 166.55it/s]\n",
      "Validating...: 100%|██████████| 83/83 [00:00<00:00, 903.51it/s]\n"
     ]
    },
    {
     "name": "stdout",
     "output_type": "stream",
     "text": [
      "Epoch 26, Train Loss: 0.8039, Val Loss: 0.9574\n"
     ]
    },
    {
     "name": "stderr",
     "output_type": "stream",
     "text": [
      "Training...: 100%|██████████| 329/329 [00:01<00:00, 166.49it/s]\n",
      "Validating...: 100%|██████████| 83/83 [00:00<00:00, 902.63it/s]\n"
     ]
    },
    {
     "name": "stdout",
     "output_type": "stream",
     "text": [
      "Epoch 27, Train Loss: 0.7980, Val Loss: 0.9461\n"
     ]
    },
    {
     "name": "stderr",
     "output_type": "stream",
     "text": [
      "Training...: 100%|██████████| 329/329 [00:01<00:00, 166.39it/s]\n",
      "Validating...: 100%|██████████| 83/83 [00:00<00:00, 885.45it/s]\n"
     ]
    },
    {
     "name": "stdout",
     "output_type": "stream",
     "text": [
      "Epoch 28, Train Loss: 0.7933, Val Loss: 0.9336\n"
     ]
    },
    {
     "name": "stderr",
     "output_type": "stream",
     "text": [
      "Training...: 100%|██████████| 329/329 [00:02<00:00, 164.38it/s]\n",
      "Validating...: 100%|██████████| 83/83 [00:00<00:00, 888.54it/s]\n"
     ]
    },
    {
     "name": "stdout",
     "output_type": "stream",
     "text": [
      "Epoch 29, Train Loss: 0.7886, Val Loss: 0.9206\n"
     ]
    },
    {
     "name": "stderr",
     "output_type": "stream",
     "text": [
      "Training...: 100%|██████████| 329/329 [00:02<00:00, 164.12it/s]\n",
      "Validating...: 100%|██████████| 83/83 [00:00<00:00, 889.06it/s]\n"
     ]
    },
    {
     "name": "stdout",
     "output_type": "stream",
     "text": [
      "Epoch 30, Train Loss: 0.7833, Val Loss: 0.9107\n"
     ]
    },
    {
     "name": "stderr",
     "output_type": "stream",
     "text": [
      "Training...: 100%|██████████| 329/329 [00:01<00:00, 165.07it/s]\n",
      "Validating...: 100%|██████████| 83/83 [00:00<00:00, 904.27it/s]\n"
     ]
    },
    {
     "name": "stdout",
     "output_type": "stream",
     "text": [
      "Epoch 31, Train Loss: 0.7777, Val Loss: 0.8998\n"
     ]
    },
    {
     "name": "stderr",
     "output_type": "stream",
     "text": [
      "Training...: 100%|██████████| 329/329 [00:01<00:00, 166.96it/s]\n",
      "Validating...: 100%|██████████| 83/83 [00:00<00:00, 904.45it/s]\n"
     ]
    },
    {
     "name": "stdout",
     "output_type": "stream",
     "text": [
      "Epoch 32, Train Loss: 0.7740, Val Loss: 0.8900\n"
     ]
    },
    {
     "name": "stderr",
     "output_type": "stream",
     "text": [
      "Training...: 100%|██████████| 329/329 [00:02<00:00, 164.22it/s]\n",
      "Validating...: 100%|██████████| 83/83 [00:00<00:00, 886.14it/s]\n"
     ]
    },
    {
     "name": "stdout",
     "output_type": "stream",
     "text": [
      "Epoch 33, Train Loss: 0.7692, Val Loss: 0.8801\n"
     ]
    },
    {
     "name": "stderr",
     "output_type": "stream",
     "text": [
      "Training...: 100%|██████████| 329/329 [00:02<00:00, 164.11it/s]\n",
      "Validating...: 100%|██████████| 83/83 [00:00<00:00, 886.74it/s]\n"
     ]
    },
    {
     "name": "stdout",
     "output_type": "stream",
     "text": [
      "Epoch 34, Train Loss: 0.7640, Val Loss: 0.8710\n"
     ]
    },
    {
     "name": "stderr",
     "output_type": "stream",
     "text": [
      "Training...: 100%|██████████| 329/329 [00:02<00:00, 164.01it/s]\n",
      "Validating...: 100%|██████████| 83/83 [00:00<00:00, 890.17it/s]\n"
     ]
    },
    {
     "name": "stdout",
     "output_type": "stream",
     "text": [
      "Epoch 35, Train Loss: 0.7619, Val Loss: 0.8628\n"
     ]
    },
    {
     "name": "stderr",
     "output_type": "stream",
     "text": [
      "Training...: 100%|██████████| 329/329 [00:02<00:00, 162.22it/s]\n",
      "Validating...: 100%|██████████| 83/83 [00:00<00:00, 879.36it/s]\n"
     ]
    },
    {
     "name": "stdout",
     "output_type": "stream",
     "text": [
      "Epoch 36, Train Loss: 0.7571, Val Loss: 0.8545\n"
     ]
    },
    {
     "name": "stderr",
     "output_type": "stream",
     "text": [
      "Training...: 100%|██████████| 329/329 [00:02<00:00, 161.51it/s]\n",
      "Validating...: 100%|██████████| 83/83 [00:00<00:00, 882.55it/s]\n"
     ]
    },
    {
     "name": "stdout",
     "output_type": "stream",
     "text": [
      "Epoch 37, Train Loss: 0.7527, Val Loss: 0.8466\n"
     ]
    },
    {
     "name": "stderr",
     "output_type": "stream",
     "text": [
      "Training...: 100%|██████████| 329/329 [00:02<00:00, 161.90it/s]\n",
      "Validating...: 100%|██████████| 83/83 [00:00<00:00, 882.39it/s]\n"
     ]
    },
    {
     "name": "stdout",
     "output_type": "stream",
     "text": [
      "Epoch 38, Train Loss: 0.7514, Val Loss: 0.8389\n"
     ]
    },
    {
     "name": "stderr",
     "output_type": "stream",
     "text": [
      "Training...: 100%|██████████| 329/329 [00:02<00:00, 162.55it/s]\n",
      "Validating...: 100%|██████████| 83/83 [00:00<00:00, 877.74it/s]\n"
     ]
    },
    {
     "name": "stdout",
     "output_type": "stream",
     "text": [
      "Epoch 39, Train Loss: 0.7484, Val Loss: 0.8316\n"
     ]
    },
    {
     "name": "stderr",
     "output_type": "stream",
     "text": [
      "Training...: 100%|██████████| 329/329 [00:02<00:00, 162.34it/s]\n",
      "Validating...: 100%|██████████| 83/83 [00:00<00:00, 875.75it/s]\n"
     ]
    },
    {
     "name": "stdout",
     "output_type": "stream",
     "text": [
      "Epoch 40, Train Loss: 0.7445, Val Loss: 0.8248\n"
     ]
    },
    {
     "name": "stderr",
     "output_type": "stream",
     "text": [
      "Training...: 100%|██████████| 329/329 [00:02<00:00, 162.42it/s]\n",
      "Validating...: 100%|██████████| 83/83 [00:00<00:00, 877.95it/s]\n"
     ]
    },
    {
     "name": "stdout",
     "output_type": "stream",
     "text": [
      "Epoch 41, Train Loss: 0.7411, Val Loss: 0.8187\n"
     ]
    },
    {
     "name": "stderr",
     "output_type": "stream",
     "text": [
      "Training...: 100%|██████████| 329/329 [00:02<00:00, 162.10it/s]\n",
      "Validating...: 100%|██████████| 83/83 [00:00<00:00, 879.69it/s]\n"
     ]
    },
    {
     "name": "stdout",
     "output_type": "stream",
     "text": [
      "Epoch 42, Train Loss: 0.7372, Val Loss: 0.8129\n"
     ]
    },
    {
     "name": "stderr",
     "output_type": "stream",
     "text": [
      "Training...: 100%|██████████| 329/329 [00:02<00:00, 162.28it/s]\n",
      "Validating...: 100%|██████████| 83/83 [00:00<00:00, 881.00it/s]\n"
     ]
    },
    {
     "name": "stdout",
     "output_type": "stream",
     "text": [
      "Epoch 43, Train Loss: 0.7355, Val Loss: 0.8069\n"
     ]
    },
    {
     "name": "stderr",
     "output_type": "stream",
     "text": [
      "Training...: 100%|██████████| 329/329 [00:02<00:00, 162.57it/s]\n",
      "Validating...: 100%|██████████| 83/83 [00:00<00:00, 876.27it/s]\n"
     ]
    },
    {
     "name": "stdout",
     "output_type": "stream",
     "text": [
      "Epoch 44, Train Loss: 0.7322, Val Loss: 0.8014\n"
     ]
    },
    {
     "name": "stderr",
     "output_type": "stream",
     "text": [
      "Training...: 100%|██████████| 329/329 [00:02<00:00, 162.56it/s]\n",
      "Validating...: 100%|██████████| 83/83 [00:00<00:00, 878.33it/s]\n"
     ]
    },
    {
     "name": "stdout",
     "output_type": "stream",
     "text": [
      "Epoch 45, Train Loss: 0.7301, Val Loss: 0.7964\n"
     ]
    },
    {
     "name": "stderr",
     "output_type": "stream",
     "text": [
      "Training...: 100%|██████████| 329/329 [00:02<00:00, 162.30it/s]\n",
      "Validating...: 100%|██████████| 83/83 [00:00<00:00, 880.66it/s]\n"
     ]
    },
    {
     "name": "stdout",
     "output_type": "stream",
     "text": [
      "Epoch 46, Train Loss: 0.7262, Val Loss: 0.7907\n"
     ]
    },
    {
     "name": "stderr",
     "output_type": "stream",
     "text": [
      "Training...: 100%|██████████| 329/329 [00:02<00:00, 162.47it/s]\n",
      "Validating...: 100%|██████████| 83/83 [00:00<00:00, 880.95it/s]\n"
     ]
    },
    {
     "name": "stdout",
     "output_type": "stream",
     "text": [
      "Epoch 47, Train Loss: 0.7259, Val Loss: 0.7863\n"
     ]
    },
    {
     "name": "stderr",
     "output_type": "stream",
     "text": [
      "Training...: 100%|██████████| 329/329 [00:02<00:00, 163.41it/s]\n",
      "Validating...: 100%|██████████| 83/83 [00:00<00:00, 889.03it/s]\n"
     ]
    },
    {
     "name": "stdout",
     "output_type": "stream",
     "text": [
      "Epoch 48, Train Loss: 0.7232, Val Loss: 0.7825\n"
     ]
    },
    {
     "name": "stderr",
     "output_type": "stream",
     "text": [
      "Training...: 100%|██████████| 329/329 [00:01<00:00, 165.41it/s]\n",
      "Validating...: 100%|██████████| 83/83 [00:00<00:00, 903.76it/s]\n"
     ]
    },
    {
     "name": "stdout",
     "output_type": "stream",
     "text": [
      "Epoch 49, Train Loss: 0.7221, Val Loss: 0.7778\n"
     ]
    },
    {
     "name": "stderr",
     "output_type": "stream",
     "text": [
      "Training...: 100%|██████████| 329/329 [00:01<00:00, 166.40it/s]\n",
      "Validating...: 100%|██████████| 83/83 [00:00<00:00, 904.29it/s]\n"
     ]
    },
    {
     "name": "stdout",
     "output_type": "stream",
     "text": [
      "Epoch 50, Train Loss: 0.7192, Val Loss: 0.7744\n"
     ]
    },
    {
     "name": "stderr",
     "output_type": "stream",
     "text": [
      "Training...: 100%|██████████| 329/329 [00:01<00:00, 166.26it/s]\n",
      "Validating...:  96%|█████████▋| 80/83 [00:00<00:00, 889.10it/s]\n"
     ]
    },
    {
     "ename": "KeyboardInterrupt",
     "evalue": "",
     "output_type": "error",
     "traceback": [
      "\u001b[0;31m---------------------------------------------------------------------------\u001b[0m",
      "\u001b[0;31mKeyboardInterrupt\u001b[0m                         Traceback (most recent call last)",
      "Cell \u001b[0;32mIn[8], line 51\u001b[0m\n\u001b[1;32m     48\u001b[0m early_stopping \u001b[38;5;241m=\u001b[39m EarlyStopping(patience\u001b[38;5;241m=\u001b[39m\u001b[38;5;241m7\u001b[39m, min_delta\u001b[38;5;241m=\u001b[39m\u001b[38;5;241m0.\u001b[39m)\n\u001b[1;32m     49\u001b[0m criterion \u001b[38;5;241m=\u001b[39m loss_function()\n\u001b[0;32m---> 51\u001b[0m history \u001b[38;5;241m=\u001b[39m \u001b[43mrae_model\u001b[49m\u001b[38;5;241;43m.\u001b[39;49m\u001b[43mtrain_model\u001b[49m\u001b[43m(\u001b[49m\n\u001b[1;32m     52\u001b[0m \u001b[43m    \u001b[49m\u001b[43mnum_epochs\u001b[49m\u001b[43m \u001b[49m\u001b[38;5;241;43m=\u001b[39;49m\u001b[43m \u001b[49m\u001b[43mparameters\u001b[49m\u001b[43m[\u001b[49m\u001b[38;5;124;43m'\u001b[39;49m\u001b[38;5;124;43mnum_epochs\u001b[39;49m\u001b[38;5;124;43m'\u001b[39;49m\u001b[43m]\u001b[49m\u001b[43m,\u001b[49m\u001b[43m \u001b[49m\n\u001b[1;32m     53\u001b[0m \u001b[43m    \u001b[49m\u001b[43mearly_stopping\u001b[49m\u001b[43m \u001b[49m\u001b[38;5;241;43m=\u001b[39;49m\u001b[43m \u001b[49m\u001b[43mearly_stopping\u001b[49m\u001b[43m,\u001b[49m\u001b[43m \u001b[49m\n\u001b[1;32m     54\u001b[0m \u001b[43m    \u001b[49m\u001b[43mtrain_data_loader\u001b[49m\u001b[43m \u001b[49m\u001b[38;5;241;43m=\u001b[39;49m\u001b[43m \u001b[49m\u001b[43mtrain_data_loader\u001b[49m\u001b[43m,\u001b[49m\u001b[43m \u001b[49m\n\u001b[1;32m     55\u001b[0m \u001b[43m    \u001b[49m\u001b[43mval_data_loader\u001b[49m\u001b[43m \u001b[49m\u001b[38;5;241;43m=\u001b[39;49m\u001b[43m \u001b[49m\u001b[43mval_data_loader\u001b[49m\u001b[43m,\u001b[49m\u001b[43m \u001b[49m\n\u001b[1;32m     56\u001b[0m \u001b[43m    \u001b[49m\u001b[43mmal_data_loader\u001b[49m\u001b[43m \u001b[49m\u001b[38;5;241;43m=\u001b[39;49m\u001b[43m \u001b[49m\u001b[43mmal_data_loader\u001b[49m\u001b[43m,\u001b[49m\u001b[43m \u001b[49m\n\u001b[1;32m     57\u001b[0m \u001b[43m    \u001b[49m\u001b[43mdevice\u001b[49m\u001b[43m \u001b[49m\u001b[38;5;241;43m=\u001b[39;49m\u001b[43m \u001b[49m\u001b[43mdevice\u001b[49m\u001b[43m,\u001b[49m\u001b[43m \u001b[49m\n\u001b[1;32m     58\u001b[0m \u001b[43m    \u001b[49m\u001b[43mcriterion\u001b[49m\u001b[43m \u001b[49m\u001b[38;5;241;43m=\u001b[39;49m\u001b[43m \u001b[49m\u001b[43mcriterion\u001b[49m\u001b[43m,\u001b[49m\u001b[43m  \u001b[49m\n\u001b[1;32m     59\u001b[0m \u001b[43m    \u001b[49m\u001b[43mlr\u001b[49m\u001b[43m \u001b[49m\u001b[38;5;241;43m=\u001b[39;49m\u001b[43m \u001b[49m\u001b[43mlr\u001b[49m\n\u001b[1;32m     60\u001b[0m \u001b[43m\u001b[49m\u001b[43m)\u001b[49m\n\u001b[1;32m     62\u001b[0m parameters[\u001b[38;5;124m'\u001b[39m\u001b[38;5;124mloss_function\u001b[39m\u001b[38;5;124m'\u001b[39m] \u001b[38;5;241m=\u001b[39m parameters[\u001b[38;5;124m'\u001b[39m\u001b[38;5;124mloss_function\u001b[39m\u001b[38;5;124m'\u001b[39m]\u001b[38;5;241m.\u001b[39m\u001b[38;5;18m__name__\u001b[39m\n\u001b[1;32m     64\u001b[0m additional_metadata \u001b[38;5;241m=\u001b[39m {\n\u001b[1;32m     65\u001b[0m     \u001b[38;5;124m\"\u001b[39m\u001b[38;5;124mrolling_avg\u001b[39m\u001b[38;5;124m\"\u001b[39m: rolling_avg_label,\n\u001b[1;32m     66\u001b[0m     \u001b[38;5;124m\"\u001b[39m\u001b[38;5;124mfeature_columns\u001b[39m\u001b[38;5;124m\"\u001b[39m: feature_columns\n\u001b[1;32m     67\u001b[0m }\n",
      "File \u001b[0;32m~/translation/largyriou/Privateer/Anomaly Detection/notebooks/../models/rae.py:116\u001b[0m, in \u001b[0;36mLSTMAutoencoder.train_model\u001b[0;34m(self, num_epochs, early_stopping, train_data_loader, val_data_loader, mal_data_loader, device, criterion, lr)\u001b[0m\n\u001b[1;32m    114\u001b[0m input_size \u001b[38;5;241m=\u001b[39m inputs\u001b[38;5;241m.\u001b[39mshape[\u001b[38;5;241m-\u001b[39m\u001b[38;5;241m1\u001b[39m]\n\u001b[1;32m    115\u001b[0m inputs, targets \u001b[38;5;241m=\u001b[39m inputs\u001b[38;5;241m.\u001b[39mview(val_batch_size,\u001b[38;5;241m-\u001b[39m\u001b[38;5;241m1\u001b[39m,input_size)\u001b[38;5;241m.\u001b[39mto(device), targets\u001b[38;5;241m.\u001b[39mview(val_batch_size,\u001b[38;5;241m-\u001b[39m\u001b[38;5;241m1\u001b[39m,input_size)\u001b[38;5;241m.\u001b[39mto(device)\n\u001b[0;32m--> 116\u001b[0m outputs \u001b[38;5;241m=\u001b[39m \u001b[38;5;28;43mself\u001b[39;49m\u001b[43m(\u001b[49m\u001b[43minputs\u001b[49m\u001b[43m)\u001b[49m\n\u001b[1;32m    117\u001b[0m val_loss \u001b[38;5;241m=\u001b[39m criterion(outputs, targets)\n\u001b[1;32m    118\u001b[0m step_val_loss \u001b[38;5;241m=\u001b[39m val_loss\u001b[38;5;241m.\u001b[39mitem()\n",
      "File \u001b[0;32m~/translation/largyriou/privateer_venv/lib/python3.8/site-packages/torch/nn/modules/module.py:1194\u001b[0m, in \u001b[0;36mModule._call_impl\u001b[0;34m(self, *input, **kwargs)\u001b[0m\n\u001b[1;32m   1190\u001b[0m \u001b[38;5;66;03m# If we don't have any hooks, we want to skip the rest of the logic in\u001b[39;00m\n\u001b[1;32m   1191\u001b[0m \u001b[38;5;66;03m# this function, and just call forward.\u001b[39;00m\n\u001b[1;32m   1192\u001b[0m \u001b[38;5;28;01mif\u001b[39;00m \u001b[38;5;129;01mnot\u001b[39;00m (\u001b[38;5;28mself\u001b[39m\u001b[38;5;241m.\u001b[39m_backward_hooks \u001b[38;5;129;01mor\u001b[39;00m \u001b[38;5;28mself\u001b[39m\u001b[38;5;241m.\u001b[39m_forward_hooks \u001b[38;5;129;01mor\u001b[39;00m \u001b[38;5;28mself\u001b[39m\u001b[38;5;241m.\u001b[39m_forward_pre_hooks \u001b[38;5;129;01mor\u001b[39;00m _global_backward_hooks\n\u001b[1;32m   1193\u001b[0m         \u001b[38;5;129;01mor\u001b[39;00m _global_forward_hooks \u001b[38;5;129;01mor\u001b[39;00m _global_forward_pre_hooks):\n\u001b[0;32m-> 1194\u001b[0m     \u001b[38;5;28;01mreturn\u001b[39;00m \u001b[43mforward_call\u001b[49m\u001b[43m(\u001b[49m\u001b[38;5;241;43m*\u001b[39;49m\u001b[38;5;28;43minput\u001b[39;49m\u001b[43m,\u001b[49m\u001b[43m \u001b[49m\u001b[38;5;241;43m*\u001b[39;49m\u001b[38;5;241;43m*\u001b[39;49m\u001b[43mkwargs\u001b[49m\u001b[43m)\u001b[49m\n\u001b[1;32m   1195\u001b[0m \u001b[38;5;66;03m# Do not call functions when jit is used\u001b[39;00m\n\u001b[1;32m   1196\u001b[0m full_backward_hooks, non_full_backward_hooks \u001b[38;5;241m=\u001b[39m [], []\n",
      "File \u001b[0;32m~/translation/largyriou/Privateer/Anomaly Detection/notebooks/../models/rae.py:50\u001b[0m, in \u001b[0;36mLSTMAutoencoder.forward\u001b[0;34m(self, x)\u001b[0m\n\u001b[1;32m     49\u001b[0m \u001b[38;5;28;01mdef\u001b[39;00m \u001b[38;5;21mforward\u001b[39m(\u001b[38;5;28mself\u001b[39m, x):\n\u001b[0;32m---> 50\u001b[0m     encoded \u001b[38;5;241m=\u001b[39m \u001b[38;5;28;43mself\u001b[39;49m\u001b[38;5;241;43m.\u001b[39;49m\u001b[43mencoder\u001b[49m\u001b[43m(\u001b[49m\u001b[43mx\u001b[49m\u001b[43m)\u001b[49m\n\u001b[1;32m     51\u001b[0m     decoded \u001b[38;5;241m=\u001b[39m \u001b[38;5;28mself\u001b[39m\u001b[38;5;241m.\u001b[39mdecoder(encoded)\n\u001b[1;32m     52\u001b[0m     \u001b[38;5;28;01mreturn\u001b[39;00m decoded\n",
      "File \u001b[0;32m~/translation/largyriou/privateer_venv/lib/python3.8/site-packages/torch/nn/modules/module.py:1194\u001b[0m, in \u001b[0;36mModule._call_impl\u001b[0;34m(self, *input, **kwargs)\u001b[0m\n\u001b[1;32m   1190\u001b[0m \u001b[38;5;66;03m# If we don't have any hooks, we want to skip the rest of the logic in\u001b[39;00m\n\u001b[1;32m   1191\u001b[0m \u001b[38;5;66;03m# this function, and just call forward.\u001b[39;00m\n\u001b[1;32m   1192\u001b[0m \u001b[38;5;28;01mif\u001b[39;00m \u001b[38;5;129;01mnot\u001b[39;00m (\u001b[38;5;28mself\u001b[39m\u001b[38;5;241m.\u001b[39m_backward_hooks \u001b[38;5;129;01mor\u001b[39;00m \u001b[38;5;28mself\u001b[39m\u001b[38;5;241m.\u001b[39m_forward_hooks \u001b[38;5;129;01mor\u001b[39;00m \u001b[38;5;28mself\u001b[39m\u001b[38;5;241m.\u001b[39m_forward_pre_hooks \u001b[38;5;129;01mor\u001b[39;00m _global_backward_hooks\n\u001b[1;32m   1193\u001b[0m         \u001b[38;5;129;01mor\u001b[39;00m _global_forward_hooks \u001b[38;5;129;01mor\u001b[39;00m _global_forward_pre_hooks):\n\u001b[0;32m-> 1194\u001b[0m     \u001b[38;5;28;01mreturn\u001b[39;00m \u001b[43mforward_call\u001b[49m\u001b[43m(\u001b[49m\u001b[38;5;241;43m*\u001b[39;49m\u001b[38;5;28;43minput\u001b[39;49m\u001b[43m,\u001b[49m\u001b[43m \u001b[49m\u001b[38;5;241;43m*\u001b[39;49m\u001b[38;5;241;43m*\u001b[39;49m\u001b[43mkwargs\u001b[49m\u001b[43m)\u001b[49m\n\u001b[1;32m   1195\u001b[0m \u001b[38;5;66;03m# Do not call functions when jit is used\u001b[39;00m\n\u001b[1;32m   1196\u001b[0m full_backward_hooks, non_full_backward_hooks \u001b[38;5;241m=\u001b[39m [], []\n",
      "File \u001b[0;32m~/translation/largyriou/Privateer/Anomaly Detection/notebooks/../models/rae.py:18\u001b[0m, in \u001b[0;36mEncoder.forward\u001b[0;34m(self, x)\u001b[0m\n\u001b[1;32m     17\u001b[0m \u001b[38;5;28;01mdef\u001b[39;00m \u001b[38;5;21mforward\u001b[39m(\u001b[38;5;28mself\u001b[39m, x):\n\u001b[0;32m---> 18\u001b[0m     x, _ \u001b[38;5;241m=\u001b[39m \u001b[38;5;28;43mself\u001b[39;49m\u001b[38;5;241;43m.\u001b[39;49m\u001b[43mlstm1\u001b[49m\u001b[43m(\u001b[49m\u001b[43mx\u001b[49m\u001b[43m)\u001b[49m\n\u001b[1;32m     19\u001b[0m     x, (hidden, _) \u001b[38;5;241m=\u001b[39m \u001b[38;5;28mself\u001b[39m\u001b[38;5;241m.\u001b[39mlstm2(x)\n\u001b[1;32m     20\u001b[0m     \u001b[38;5;28;01mif\u001b[39;00m \u001b[38;5;28mself\u001b[39m\u001b[38;5;241m.\u001b[39mlayer_norm_flag:\n",
      "File \u001b[0;32m~/translation/largyriou/privateer_venv/lib/python3.8/site-packages/torch/nn/modules/module.py:1194\u001b[0m, in \u001b[0;36mModule._call_impl\u001b[0;34m(self, *input, **kwargs)\u001b[0m\n\u001b[1;32m   1190\u001b[0m \u001b[38;5;66;03m# If we don't have any hooks, we want to skip the rest of the logic in\u001b[39;00m\n\u001b[1;32m   1191\u001b[0m \u001b[38;5;66;03m# this function, and just call forward.\u001b[39;00m\n\u001b[1;32m   1192\u001b[0m \u001b[38;5;28;01mif\u001b[39;00m \u001b[38;5;129;01mnot\u001b[39;00m (\u001b[38;5;28mself\u001b[39m\u001b[38;5;241m.\u001b[39m_backward_hooks \u001b[38;5;129;01mor\u001b[39;00m \u001b[38;5;28mself\u001b[39m\u001b[38;5;241m.\u001b[39m_forward_hooks \u001b[38;5;129;01mor\u001b[39;00m \u001b[38;5;28mself\u001b[39m\u001b[38;5;241m.\u001b[39m_forward_pre_hooks \u001b[38;5;129;01mor\u001b[39;00m _global_backward_hooks\n\u001b[1;32m   1193\u001b[0m         \u001b[38;5;129;01mor\u001b[39;00m _global_forward_hooks \u001b[38;5;129;01mor\u001b[39;00m _global_forward_pre_hooks):\n\u001b[0;32m-> 1194\u001b[0m     \u001b[38;5;28;01mreturn\u001b[39;00m \u001b[43mforward_call\u001b[49m\u001b[43m(\u001b[49m\u001b[38;5;241;43m*\u001b[39;49m\u001b[38;5;28;43minput\u001b[39;49m\u001b[43m,\u001b[49m\u001b[43m \u001b[49m\u001b[38;5;241;43m*\u001b[39;49m\u001b[38;5;241;43m*\u001b[39;49m\u001b[43mkwargs\u001b[49m\u001b[43m)\u001b[49m\n\u001b[1;32m   1195\u001b[0m \u001b[38;5;66;03m# Do not call functions when jit is used\u001b[39;00m\n\u001b[1;32m   1196\u001b[0m full_backward_hooks, non_full_backward_hooks \u001b[38;5;241m=\u001b[39m [], []\n",
      "File \u001b[0;32m~/translation/largyriou/privateer_venv/lib/python3.8/site-packages/torch/nn/modules/rnn.py:774\u001b[0m, in \u001b[0;36mLSTM.forward\u001b[0;34m(self, input, hx)\u001b[0m\n\u001b[1;32m    772\u001b[0m \u001b[38;5;28mself\u001b[39m\u001b[38;5;241m.\u001b[39mcheck_forward_args(\u001b[38;5;28minput\u001b[39m, hx, batch_sizes)\n\u001b[1;32m    773\u001b[0m \u001b[38;5;28;01mif\u001b[39;00m batch_sizes \u001b[38;5;129;01mis\u001b[39;00m \u001b[38;5;28;01mNone\u001b[39;00m:\n\u001b[0;32m--> 774\u001b[0m     result \u001b[38;5;241m=\u001b[39m \u001b[43m_VF\u001b[49m\u001b[38;5;241;43m.\u001b[39;49m\u001b[43mlstm\u001b[49m\u001b[43m(\u001b[49m\u001b[38;5;28;43minput\u001b[39;49m\u001b[43m,\u001b[49m\u001b[43m \u001b[49m\u001b[43mhx\u001b[49m\u001b[43m,\u001b[49m\u001b[43m \u001b[49m\u001b[38;5;28;43mself\u001b[39;49m\u001b[38;5;241;43m.\u001b[39;49m\u001b[43m_flat_weights\u001b[49m\u001b[43m,\u001b[49m\u001b[43m \u001b[49m\u001b[38;5;28;43mself\u001b[39;49m\u001b[38;5;241;43m.\u001b[39;49m\u001b[43mbias\u001b[49m\u001b[43m,\u001b[49m\u001b[43m \u001b[49m\u001b[38;5;28;43mself\u001b[39;49m\u001b[38;5;241;43m.\u001b[39;49m\u001b[43mnum_layers\u001b[49m\u001b[43m,\u001b[49m\n\u001b[1;32m    775\u001b[0m \u001b[43m                      \u001b[49m\u001b[38;5;28;43mself\u001b[39;49m\u001b[38;5;241;43m.\u001b[39;49m\u001b[43mdropout\u001b[49m\u001b[43m,\u001b[49m\u001b[43m \u001b[49m\u001b[38;5;28;43mself\u001b[39;49m\u001b[38;5;241;43m.\u001b[39;49m\u001b[43mtraining\u001b[49m\u001b[43m,\u001b[49m\u001b[43m \u001b[49m\u001b[38;5;28;43mself\u001b[39;49m\u001b[38;5;241;43m.\u001b[39;49m\u001b[43mbidirectional\u001b[49m\u001b[43m,\u001b[49m\u001b[43m \u001b[49m\u001b[38;5;28;43mself\u001b[39;49m\u001b[38;5;241;43m.\u001b[39;49m\u001b[43mbatch_first\u001b[49m\u001b[43m)\u001b[49m\n\u001b[1;32m    776\u001b[0m \u001b[38;5;28;01melse\u001b[39;00m:\n\u001b[1;32m    777\u001b[0m     result \u001b[38;5;241m=\u001b[39m _VF\u001b[38;5;241m.\u001b[39mlstm(\u001b[38;5;28minput\u001b[39m, batch_sizes, hx, \u001b[38;5;28mself\u001b[39m\u001b[38;5;241m.\u001b[39m_flat_weights, \u001b[38;5;28mself\u001b[39m\u001b[38;5;241m.\u001b[39mbias,\n\u001b[1;32m    778\u001b[0m                       \u001b[38;5;28mself\u001b[39m\u001b[38;5;241m.\u001b[39mnum_layers, \u001b[38;5;28mself\u001b[39m\u001b[38;5;241m.\u001b[39mdropout, \u001b[38;5;28mself\u001b[39m\u001b[38;5;241m.\u001b[39mtraining, \u001b[38;5;28mself\u001b[39m\u001b[38;5;241m.\u001b[39mbidirectional)\n",
      "\u001b[0;31mKeyboardInterrupt\u001b[0m: "
     ]
    }
   ],
   "source": [
    "for window_size, batch_size in itertools.product(search_space_dict['window_size'], search_space_dict['batch_size']):\n",
    "    for config in search_space_dict['model_arch_config']:\n",
    "        hidden_dim1 = config['hidden_dim1']\n",
    "        hidden_dim2 = config['hidden_dim2']\n",
    "        for dropout, layer_norm_flag, loss_function, lr, num_epochs in itertools.product(\n",
    "            search_space_dict['dropout'], search_space_dict['layer_norm_flag'],\n",
    "            search_space_dict['loss_function'], search_space_dict['lr'],\n",
    "            search_space_dict['num_epochs']):\n",
    "            \n",
    "            experiment_id = str(uuid.uuid4())\n",
    "            \n",
    "            parameters = {\n",
    "                'window_size': window_size,\n",
    "                'step_size': int(window_size/3),\n",
    "                'batch_size': batch_size,\n",
    "                'hidden_dim1': hidden_dim1,\n",
    "                'hidden_dim2': hidden_dim2,\n",
    "                'dropout': dropout,\n",
    "                'layer_norm_flag': layer_norm_flag,\n",
    "                'loss_function': loss_function,\n",
    "                'lr': lr,\n",
    "                'num_epochs': num_epochs\n",
    "            }\n",
    "            \n",
    "            print(\"##########################################################\")\n",
    "            print_parameters(parameters, experiment_id)\n",
    "            \n",
    "            train_data_loader, val_data_loader, mal_data_loader = create_ds_loader(\n",
    "                benign_data_train, \n",
    "                malicious_data, \n",
    "                parameters['window_size'], \n",
    "                parameters['step_size'], \n",
    "                feature_columns, \n",
    "                parameters['batch_size']\n",
    "            )\n",
    "            \n",
    "            rae_model = LSTMAutoencoder(\n",
    "                input_dim = len(feature_columns), \n",
    "                hidden_dim1 = hidden_dim1, \n",
    "                hidden_dim2 = hidden_dim2, \n",
    "                output_dim = len(feature_columns), \n",
    "                dropout = dropout, \n",
    "                layer_norm_flag = layer_norm_flag\n",
    "            )\n",
    "\n",
    "            rae_model.to(device)\n",
    "\n",
    "            early_stopping = EarlyStopping(patience=7, min_delta=0.)\n",
    "            criterion = loss_function()\n",
    "            \n",
    "            history = rae_model.train_model(\n",
    "                num_epochs = parameters['num_epochs'], \n",
    "                early_stopping = early_stopping, \n",
    "                train_data_loader = train_data_loader, \n",
    "                val_data_loader = val_data_loader, \n",
    "                mal_data_loader = mal_data_loader, \n",
    "                device = device, \n",
    "                criterion = criterion,  \n",
    "                lr = lr\n",
    "            )\n",
    "            \n",
    "            parameters['loss_function'] = parameters['loss_function'].__name__\n",
    "            \n",
    "            additional_metadata = {\n",
    "                \"rolling_avg\": rolling_avg_label,\n",
    "                \"feature_columns\": feature_columns,\n",
    "                'dataset_used': dataset_used\n",
    "            }\n",
    "            \n",
    "            \n",
    "            save_experiment_results(history, parameters, additional_metadata, experiment_id, results_dir='../results')\n",
    "            \n",
    "            del rae_model\n",
    "            torch.cuda.empty_cache()"
   ]
  }
 ],
 "metadata": {
  "kernelspec": {
   "display_name": "privateer_venv",
   "language": "python",
   "name": "privateer_venv"
  },
  "language_info": {
   "codemirror_mode": {
    "name": "ipython",
    "version": 3
   },
   "file_extension": ".py",
   "mimetype": "text/x-python",
   "name": "python",
   "nbconvert_exporter": "python",
   "pygments_lexer": "ipython3",
   "version": "3.8.10"
  }
 },
 "nbformat": 4,
 "nbformat_minor": 4
}
