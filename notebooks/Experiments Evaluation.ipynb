{
 "cells": [
  {
   "cell_type": "code",
   "execution_count": 1,
   "metadata": {},
   "outputs": [],
   "source": [
    "import torch\n",
    "import pandas as pd\n",
    "import numpy as np\n",
    "\n",
    "import sys\n",
    "sys.path.append('../')\n",
    "\n",
    "\n",
    "from dataloader.dataloader import *\n",
    "from training.training import *\n",
    "from models.rae import *\n",
    "from utils.utils import *\n",
    "from visualizations.visualizations import *\n",
    "from evaluation.evaluation import *"
   ]
  },
  {
   "cell_type": "code",
   "execution_count": 2,
   "metadata": {},
   "outputs": [
    {
     "name": "stdout",
     "output_type": "stream",
     "text": [
      "CUDA is available. Training on GPU.\n"
     ]
    }
   ],
   "source": [
    "if torch.cuda.is_available():\n",
    "    device = torch.device(\"cuda\")\n",
    "    print(\"CUDA is available. Training on GPU.\")\n",
    "else:\n",
    "    device = torch.device(\"cpu\")\n",
    "    print(\"CUDA is not available. Training on CPU.\")"
   ]
  },
  {
   "cell_type": "code",
   "execution_count": 3,
   "metadata": {},
   "outputs": [],
   "source": [
    "data_folder = \"../Data/Data v5\""
   ]
  },
  {
   "cell_type": "code",
   "execution_count": 4,
   "metadata": {},
   "outputs": [],
   "source": [
    "df = pd.read_csv(os.path.join(data_folder, \"amari_ue_data_final_v5_no_outliers_scaled.csv\"))\n",
    "df = df.sort_values([\"imeisv\", \"_time\"], ascending = True)\n",
    "\n",
    "benign_data_starting_point = \"2024-03-20 14:14:50.19\"\n",
    "benign_data_ending_point = \"2024-03-23 16:26:19.00\"\n",
    "\n",
    "\n",
    "filter_1 = (df['_time'].between(benign_data_starting_point, benign_data_ending_point))\n",
    "filter_2 = (~df['imeisv'].isin(['8642840401594200', '8642840401612300','8642840401624200','3557821101183501']))\n",
    "\n",
    "df.drop(df[filter_1 & filter_2].index, inplace = True)"
   ]
  },
  {
   "cell_type": "code",
   "execution_count": 5,
   "metadata": {},
   "outputs": [
    {
     "name": "stdout",
     "output_type": "stream",
     "text": [
      "263283\n",
      "15037\n"
     ]
    }
   ],
   "source": [
    "benign_data = df[df['label'] == 0].copy()\n",
    "benign_data = benign_data.sort_values(['imeisv','_time'])\n",
    "print(benign_data.shape[0])\n",
    "malicious_data = df[df['label'] == 1].copy()\n",
    "malicious_data = malicious_data.sort_values(['imeisv','_time'])\n",
    "print(malicious_data.shape[0])"
   ]
  },
  {
   "cell_type": "code",
   "execution_count": 6,
   "metadata": {},
   "outputs": [],
   "source": [
    "f = open(\"../results/experiments_metadata.json\")\n",
    "exp_metadata = json.load(f)"
   ]
  },
  {
   "cell_type": "code",
   "execution_count": 7,
   "metadata": {},
   "outputs": [],
   "source": [
    "data_for_df = {}\n",
    "for exp_id, exp_info in exp_metadata.items():\n",
    "    parameters = exp_info['parameters']\n",
    "    flattened_info = {\n",
    "        **parameters,\n",
    "        'epochs_trained':exp_info['epochs_trained'], \n",
    "        'results_file': exp_info['results_file'], \n",
    "        'timestamp': exp_info['timestamp'],\n",
    "        'min_train_loss': exp_info['min_train_loss'],\n",
    "        'min_val_loss': exp_info['min_val_loss'],\n",
    "        'min_train_val_gap': exp_info['min_train_val_gap'],\n",
    "        'features': exp_info['feature_columns'],\n",
    "        'rolling_avg': exp_info['rolling_avg'],\n",
    "        'dataset_used': exp_info['dataset_used']\n",
    "        }\n",
    "    data_for_df[exp_id] = flattened_info\n",
    "\n",
    "exp_df = pd.DataFrame.from_dict(data_for_df, orient='index')"
   ]
  },
  {
   "cell_type": "code",
   "execution_count": 9,
   "metadata": {},
   "outputs": [
    {
     "data": {
      "text/plain": [
       "(192, 19)"
      ]
     },
     "execution_count": 9,
     "metadata": {},
     "output_type": "execute_result"
    }
   ],
   "source": [
    "exp_df.shape"
   ]
  },
  {
   "cell_type": "code",
   "execution_count": 23,
   "metadata": {},
   "outputs": [
    {
     "data": {
      "text/html": [
       "<div>\n",
       "<style scoped>\n",
       "    .dataframe tbody tr th:only-of-type {\n",
       "        vertical-align: middle;\n",
       "    }\n",
       "\n",
       "    .dataframe tbody tr th {\n",
       "        vertical-align: top;\n",
       "    }\n",
       "\n",
       "    .dataframe thead th {\n",
       "        text-align: right;\n",
       "    }\n",
       "</style>\n",
       "<table border=\"1\" class=\"dataframe\">\n",
       "  <thead>\n",
       "    <tr style=\"text-align: right;\">\n",
       "      <th></th>\n",
       "      <th>window_size</th>\n",
       "      <th>step_size</th>\n",
       "      <th>batch_size</th>\n",
       "      <th>hidden_dim1</th>\n",
       "      <th>hidden_dim2</th>\n",
       "      <th>dropout</th>\n",
       "      <th>layer_norm_flag</th>\n",
       "      <th>loss_function</th>\n",
       "      <th>lr</th>\n",
       "      <th>num_epochs</th>\n",
       "      <th>epochs_trained</th>\n",
       "      <th>results_file</th>\n",
       "      <th>timestamp</th>\n",
       "      <th>min_train_loss</th>\n",
       "      <th>min_val_loss</th>\n",
       "      <th>min_train_val_gap</th>\n",
       "      <th>features</th>\n",
       "      <th>rolling_avg</th>\n",
       "      <th>dataset_used</th>\n",
       "    </tr>\n",
       "  </thead>\n",
       "  <tbody>\n",
       "    <tr>\n",
       "      <th>5bfa52f8-e8c6-4899-963d-3ebd80be60f9</th>\n",
       "      <td>120</td>\n",
       "      <td>40</td>\n",
       "      <td>32</td>\n",
       "      <td>50</td>\n",
       "      <td>100</td>\n",
       "      <td>0.2</td>\n",
       "      <td>False</td>\n",
       "      <td>L1Loss</td>\n",
       "      <td>0.001</td>\n",
       "      <td>52</td>\n",
       "      <td>44</td>\n",
       "      <td>../results/5bfa52f8-e8c6-4899-963d-3ebd80be60f...</td>\n",
       "      <td>2024-04-16 00:52:07.473140</td>\n",
       "      <td>0.2222</td>\n",
       "      <td>0.3480</td>\n",
       "      <td>0.1235</td>\n",
       "      <td>[ul_bitrate]</td>\n",
       "      <td>False</td>\n",
       "      <td>no_outliers_scaled</td>\n",
       "    </tr>\n",
       "    <tr>\n",
       "      <th>934100e1-5e70-49fe-88a5-458dd84bf1ad</th>\n",
       "      <td>60</td>\n",
       "      <td>20</td>\n",
       "      <td>32</td>\n",
       "      <td>25</td>\n",
       "      <td>25</td>\n",
       "      <td>0.3</td>\n",
       "      <td>True</td>\n",
       "      <td>L1Loss</td>\n",
       "      <td>0.001</td>\n",
       "      <td>52</td>\n",
       "      <td>29</td>\n",
       "      <td>../results/934100e1-5e70-49fe-88a5-458dd84bf1a...</td>\n",
       "      <td>2024-04-15 22:44:56.737445</td>\n",
       "      <td>0.2444</td>\n",
       "      <td>0.3824</td>\n",
       "      <td>0.1364</td>\n",
       "      <td>[ul_bitrate]</td>\n",
       "      <td>False</td>\n",
       "      <td>no_outliers_scaled</td>\n",
       "    </tr>\n",
       "    <tr>\n",
       "      <th>0afa69d3-9692-499b-9e30-74cab6fd429f</th>\n",
       "      <td>120</td>\n",
       "      <td>40</td>\n",
       "      <td>32</td>\n",
       "      <td>50</td>\n",
       "      <td>50</td>\n",
       "      <td>0.3</td>\n",
       "      <td>False</td>\n",
       "      <td>L1Loss</td>\n",
       "      <td>0.001</td>\n",
       "      <td>52</td>\n",
       "      <td>51</td>\n",
       "      <td>../results/0afa69d3-9692-499b-9e30-74cab6fd429...</td>\n",
       "      <td>2024-04-16 01:30:50.194223</td>\n",
       "      <td>0.2406</td>\n",
       "      <td>0.3883</td>\n",
       "      <td>0.1428</td>\n",
       "      <td>[ul_bitrate]</td>\n",
       "      <td>False</td>\n",
       "      <td>no_outliers_scaled</td>\n",
       "    </tr>\n",
       "    <tr>\n",
       "      <th>2cf7ea6b-1bc6-4ae5-abc0-7e79caf0a0b0</th>\n",
       "      <td>90</td>\n",
       "      <td>30</td>\n",
       "      <td>32</td>\n",
       "      <td>25</td>\n",
       "      <td>25</td>\n",
       "      <td>0.3</td>\n",
       "      <td>False</td>\n",
       "      <td>L1Loss</td>\n",
       "      <td>0.001</td>\n",
       "      <td>52</td>\n",
       "      <td>29</td>\n",
       "      <td>../results/2cf7ea6b-1bc6-4ae5-abc0-7e79caf0a0b...</td>\n",
       "      <td>2024-04-16 00:08:40.419707</td>\n",
       "      <td>0.2731</td>\n",
       "      <td>0.4224</td>\n",
       "      <td>0.1458</td>\n",
       "      <td>[ul_bitrate]</td>\n",
       "      <td>False</td>\n",
       "      <td>no_outliers_scaled</td>\n",
       "    </tr>\n",
       "    <tr>\n",
       "      <th>f79bf077-efc2-4ca5-9dd5-9ae5d7c6dd56</th>\n",
       "      <td>60</td>\n",
       "      <td>20</td>\n",
       "      <td>32</td>\n",
       "      <td>25</td>\n",
       "      <td>25</td>\n",
       "      <td>0.2</td>\n",
       "      <td>True</td>\n",
       "      <td>L1Loss</td>\n",
       "      <td>0.001</td>\n",
       "      <td>52</td>\n",
       "      <td>29</td>\n",
       "      <td>../results/f79bf077-efc2-4ca5-9dd5-9ae5d7c6dd5...</td>\n",
       "      <td>2024-04-15 22:32:09.698102</td>\n",
       "      <td>0.2160</td>\n",
       "      <td>0.3814</td>\n",
       "      <td>0.1501</td>\n",
       "      <td>[ul_bitrate]</td>\n",
       "      <td>False</td>\n",
       "      <td>no_outliers_scaled</td>\n",
       "    </tr>\n",
       "    <tr>\n",
       "      <th>d0c4d707-5fa4-403b-82bd-cb5259db35dc</th>\n",
       "      <td>120</td>\n",
       "      <td>40</td>\n",
       "      <td>32</td>\n",
       "      <td>50</td>\n",
       "      <td>100</td>\n",
       "      <td>0.3</td>\n",
       "      <td>False</td>\n",
       "      <td>L1Loss</td>\n",
       "      <td>0.001</td>\n",
       "      <td>52</td>\n",
       "      <td>51</td>\n",
       "      <td>../results/d0c4d707-5fa4-403b-82bd-cb5259db35d...</td>\n",
       "      <td>2024-04-16 01:00:52.125230</td>\n",
       "      <td>0.2499</td>\n",
       "      <td>0.4131</td>\n",
       "      <td>0.1526</td>\n",
       "      <td>[ul_bitrate]</td>\n",
       "      <td>False</td>\n",
       "      <td>no_outliers_scaled</td>\n",
       "    </tr>\n",
       "    <tr>\n",
       "      <th>109969e4-54b6-4146-b834-f7a0bf53ecda</th>\n",
       "      <td>90</td>\n",
       "      <td>30</td>\n",
       "      <td>32</td>\n",
       "      <td>50</td>\n",
       "      <td>50</td>\n",
       "      <td>0.3</td>\n",
       "      <td>False</td>\n",
       "      <td>L1Loss</td>\n",
       "      <td>0.001</td>\n",
       "      <td>52</td>\n",
       "      <td>36</td>\n",
       "      <td>../results/109969e4-54b6-4146-b834-f7a0bf53ecd...</td>\n",
       "      <td>2024-04-16 00:27:36.825444</td>\n",
       "      <td>0.2641</td>\n",
       "      <td>0.4183</td>\n",
       "      <td>0.1534</td>\n",
       "      <td>[ul_bitrate]</td>\n",
       "      <td>False</td>\n",
       "      <td>no_outliers_scaled</td>\n",
       "    </tr>\n",
       "    <tr>\n",
       "      <th>989710d1-228a-43da-8584-1872bd0f598a</th>\n",
       "      <td>60</td>\n",
       "      <td>20</td>\n",
       "      <td>32</td>\n",
       "      <td>50</td>\n",
       "      <td>50</td>\n",
       "      <td>0.3</td>\n",
       "      <td>False</td>\n",
       "      <td>L1Loss</td>\n",
       "      <td>0.001</td>\n",
       "      <td>52</td>\n",
       "      <td>29</td>\n",
       "      <td>../results/989710d1-228a-43da-8584-1872bd0f598...</td>\n",
       "      <td>2024-04-15 23:16:08.992002</td>\n",
       "      <td>0.2612</td>\n",
       "      <td>0.4224</td>\n",
       "      <td>0.1573</td>\n",
       "      <td>[ul_bitrate]</td>\n",
       "      <td>False</td>\n",
       "      <td>no_outliers_scaled</td>\n",
       "    </tr>\n",
       "    <tr>\n",
       "      <th>862403ec-6668-4f8a-9f5b-519636b0dbe8</th>\n",
       "      <td>60</td>\n",
       "      <td>20</td>\n",
       "      <td>32</td>\n",
       "      <td>25</td>\n",
       "      <td>50</td>\n",
       "      <td>0.3</td>\n",
       "      <td>True</td>\n",
       "      <td>L1Loss</td>\n",
       "      <td>0.001</td>\n",
       "      <td>52</td>\n",
       "      <td>33</td>\n",
       "      <td>../results/862403ec-6668-4f8a-9f5b-519636b0dbe...</td>\n",
       "      <td>2024-04-15 21:54:40.032779</td>\n",
       "      <td>0.2624</td>\n",
       "      <td>0.4236</td>\n",
       "      <td>0.1589</td>\n",
       "      <td>[ul_bitrate]</td>\n",
       "      <td>False</td>\n",
       "      <td>no_outliers_scaled</td>\n",
       "    </tr>\n",
       "    <tr>\n",
       "      <th>7e6bdd21-13e6-4a2e-ae38-2b6e07ab3947</th>\n",
       "      <td>90</td>\n",
       "      <td>30</td>\n",
       "      <td>32</td>\n",
       "      <td>50</td>\n",
       "      <td>50</td>\n",
       "      <td>0.3</td>\n",
       "      <td>True</td>\n",
       "      <td>L1Loss</td>\n",
       "      <td>0.001</td>\n",
       "      <td>52</td>\n",
       "      <td>51</td>\n",
       "      <td>../results/7e6bdd21-13e6-4a2e-ae38-2b6e07ab394...</td>\n",
       "      <td>2024-04-16 00:22:44.520007</td>\n",
       "      <td>0.2617</td>\n",
       "      <td>0.4227</td>\n",
       "      <td>0.1601</td>\n",
       "      <td>[ul_bitrate]</td>\n",
       "      <td>False</td>\n",
       "      <td>no_outliers_scaled</td>\n",
       "    </tr>\n",
       "  </tbody>\n",
       "</table>\n",
       "</div>"
      ],
      "text/plain": [
       "                                      window_size  step_size  batch_size  \\\n",
       "5bfa52f8-e8c6-4899-963d-3ebd80be60f9          120         40          32   \n",
       "934100e1-5e70-49fe-88a5-458dd84bf1ad           60         20          32   \n",
       "0afa69d3-9692-499b-9e30-74cab6fd429f          120         40          32   \n",
       "2cf7ea6b-1bc6-4ae5-abc0-7e79caf0a0b0           90         30          32   \n",
       "f79bf077-efc2-4ca5-9dd5-9ae5d7c6dd56           60         20          32   \n",
       "d0c4d707-5fa4-403b-82bd-cb5259db35dc          120         40          32   \n",
       "109969e4-54b6-4146-b834-f7a0bf53ecda           90         30          32   \n",
       "989710d1-228a-43da-8584-1872bd0f598a           60         20          32   \n",
       "862403ec-6668-4f8a-9f5b-519636b0dbe8           60         20          32   \n",
       "7e6bdd21-13e6-4a2e-ae38-2b6e07ab3947           90         30          32   \n",
       "\n",
       "                                      hidden_dim1  hidden_dim2  dropout  \\\n",
       "5bfa52f8-e8c6-4899-963d-3ebd80be60f9           50          100      0.2   \n",
       "934100e1-5e70-49fe-88a5-458dd84bf1ad           25           25      0.3   \n",
       "0afa69d3-9692-499b-9e30-74cab6fd429f           50           50      0.3   \n",
       "2cf7ea6b-1bc6-4ae5-abc0-7e79caf0a0b0           25           25      0.3   \n",
       "f79bf077-efc2-4ca5-9dd5-9ae5d7c6dd56           25           25      0.2   \n",
       "d0c4d707-5fa4-403b-82bd-cb5259db35dc           50          100      0.3   \n",
       "109969e4-54b6-4146-b834-f7a0bf53ecda           50           50      0.3   \n",
       "989710d1-228a-43da-8584-1872bd0f598a           50           50      0.3   \n",
       "862403ec-6668-4f8a-9f5b-519636b0dbe8           25           50      0.3   \n",
       "7e6bdd21-13e6-4a2e-ae38-2b6e07ab3947           50           50      0.3   \n",
       "\n",
       "                                      layer_norm_flag loss_function     lr  \\\n",
       "5bfa52f8-e8c6-4899-963d-3ebd80be60f9            False        L1Loss  0.001   \n",
       "934100e1-5e70-49fe-88a5-458dd84bf1ad             True        L1Loss  0.001   \n",
       "0afa69d3-9692-499b-9e30-74cab6fd429f            False        L1Loss  0.001   \n",
       "2cf7ea6b-1bc6-4ae5-abc0-7e79caf0a0b0            False        L1Loss  0.001   \n",
       "f79bf077-efc2-4ca5-9dd5-9ae5d7c6dd56             True        L1Loss  0.001   \n",
       "d0c4d707-5fa4-403b-82bd-cb5259db35dc            False        L1Loss  0.001   \n",
       "109969e4-54b6-4146-b834-f7a0bf53ecda            False        L1Loss  0.001   \n",
       "989710d1-228a-43da-8584-1872bd0f598a            False        L1Loss  0.001   \n",
       "862403ec-6668-4f8a-9f5b-519636b0dbe8             True        L1Loss  0.001   \n",
       "7e6bdd21-13e6-4a2e-ae38-2b6e07ab3947             True        L1Loss  0.001   \n",
       "\n",
       "                                      num_epochs  epochs_trained  \\\n",
       "5bfa52f8-e8c6-4899-963d-3ebd80be60f9          52              44   \n",
       "934100e1-5e70-49fe-88a5-458dd84bf1ad          52              29   \n",
       "0afa69d3-9692-499b-9e30-74cab6fd429f          52              51   \n",
       "2cf7ea6b-1bc6-4ae5-abc0-7e79caf0a0b0          52              29   \n",
       "f79bf077-efc2-4ca5-9dd5-9ae5d7c6dd56          52              29   \n",
       "d0c4d707-5fa4-403b-82bd-cb5259db35dc          52              51   \n",
       "109969e4-54b6-4146-b834-f7a0bf53ecda          52              36   \n",
       "989710d1-228a-43da-8584-1872bd0f598a          52              29   \n",
       "862403ec-6668-4f8a-9f5b-519636b0dbe8          52              33   \n",
       "7e6bdd21-13e6-4a2e-ae38-2b6e07ab3947          52              51   \n",
       "\n",
       "                                                                           results_file  \\\n",
       "5bfa52f8-e8c6-4899-963d-3ebd80be60f9  ../results/5bfa52f8-e8c6-4899-963d-3ebd80be60f...   \n",
       "934100e1-5e70-49fe-88a5-458dd84bf1ad  ../results/934100e1-5e70-49fe-88a5-458dd84bf1a...   \n",
       "0afa69d3-9692-499b-9e30-74cab6fd429f  ../results/0afa69d3-9692-499b-9e30-74cab6fd429...   \n",
       "2cf7ea6b-1bc6-4ae5-abc0-7e79caf0a0b0  ../results/2cf7ea6b-1bc6-4ae5-abc0-7e79caf0a0b...   \n",
       "f79bf077-efc2-4ca5-9dd5-9ae5d7c6dd56  ../results/f79bf077-efc2-4ca5-9dd5-9ae5d7c6dd5...   \n",
       "d0c4d707-5fa4-403b-82bd-cb5259db35dc  ../results/d0c4d707-5fa4-403b-82bd-cb5259db35d...   \n",
       "109969e4-54b6-4146-b834-f7a0bf53ecda  ../results/109969e4-54b6-4146-b834-f7a0bf53ecd...   \n",
       "989710d1-228a-43da-8584-1872bd0f598a  ../results/989710d1-228a-43da-8584-1872bd0f598...   \n",
       "862403ec-6668-4f8a-9f5b-519636b0dbe8  ../results/862403ec-6668-4f8a-9f5b-519636b0dbe...   \n",
       "7e6bdd21-13e6-4a2e-ae38-2b6e07ab3947  ../results/7e6bdd21-13e6-4a2e-ae38-2b6e07ab394...   \n",
       "\n",
       "                                                       timestamp  \\\n",
       "5bfa52f8-e8c6-4899-963d-3ebd80be60f9  2024-04-16 00:52:07.473140   \n",
       "934100e1-5e70-49fe-88a5-458dd84bf1ad  2024-04-15 22:44:56.737445   \n",
       "0afa69d3-9692-499b-9e30-74cab6fd429f  2024-04-16 01:30:50.194223   \n",
       "2cf7ea6b-1bc6-4ae5-abc0-7e79caf0a0b0  2024-04-16 00:08:40.419707   \n",
       "f79bf077-efc2-4ca5-9dd5-9ae5d7c6dd56  2024-04-15 22:32:09.698102   \n",
       "d0c4d707-5fa4-403b-82bd-cb5259db35dc  2024-04-16 01:00:52.125230   \n",
       "109969e4-54b6-4146-b834-f7a0bf53ecda  2024-04-16 00:27:36.825444   \n",
       "989710d1-228a-43da-8584-1872bd0f598a  2024-04-15 23:16:08.992002   \n",
       "862403ec-6668-4f8a-9f5b-519636b0dbe8  2024-04-15 21:54:40.032779   \n",
       "7e6bdd21-13e6-4a2e-ae38-2b6e07ab3947  2024-04-16 00:22:44.520007   \n",
       "\n",
       "                                      min_train_loss  min_val_loss  \\\n",
       "5bfa52f8-e8c6-4899-963d-3ebd80be60f9          0.2222        0.3480   \n",
       "934100e1-5e70-49fe-88a5-458dd84bf1ad          0.2444        0.3824   \n",
       "0afa69d3-9692-499b-9e30-74cab6fd429f          0.2406        0.3883   \n",
       "2cf7ea6b-1bc6-4ae5-abc0-7e79caf0a0b0          0.2731        0.4224   \n",
       "f79bf077-efc2-4ca5-9dd5-9ae5d7c6dd56          0.2160        0.3814   \n",
       "d0c4d707-5fa4-403b-82bd-cb5259db35dc          0.2499        0.4131   \n",
       "109969e4-54b6-4146-b834-f7a0bf53ecda          0.2641        0.4183   \n",
       "989710d1-228a-43da-8584-1872bd0f598a          0.2612        0.4224   \n",
       "862403ec-6668-4f8a-9f5b-519636b0dbe8          0.2624        0.4236   \n",
       "7e6bdd21-13e6-4a2e-ae38-2b6e07ab3947          0.2617        0.4227   \n",
       "\n",
       "                                      min_train_val_gap      features  \\\n",
       "5bfa52f8-e8c6-4899-963d-3ebd80be60f9             0.1235  [ul_bitrate]   \n",
       "934100e1-5e70-49fe-88a5-458dd84bf1ad             0.1364  [ul_bitrate]   \n",
       "0afa69d3-9692-499b-9e30-74cab6fd429f             0.1428  [ul_bitrate]   \n",
       "2cf7ea6b-1bc6-4ae5-abc0-7e79caf0a0b0             0.1458  [ul_bitrate]   \n",
       "f79bf077-efc2-4ca5-9dd5-9ae5d7c6dd56             0.1501  [ul_bitrate]   \n",
       "d0c4d707-5fa4-403b-82bd-cb5259db35dc             0.1526  [ul_bitrate]   \n",
       "109969e4-54b6-4146-b834-f7a0bf53ecda             0.1534  [ul_bitrate]   \n",
       "989710d1-228a-43da-8584-1872bd0f598a             0.1573  [ul_bitrate]   \n",
       "862403ec-6668-4f8a-9f5b-519636b0dbe8             0.1589  [ul_bitrate]   \n",
       "7e6bdd21-13e6-4a2e-ae38-2b6e07ab3947             0.1601  [ul_bitrate]   \n",
       "\n",
       "                                      rolling_avg        dataset_used  \n",
       "5bfa52f8-e8c6-4899-963d-3ebd80be60f9        False  no_outliers_scaled  \n",
       "934100e1-5e70-49fe-88a5-458dd84bf1ad        False  no_outliers_scaled  \n",
       "0afa69d3-9692-499b-9e30-74cab6fd429f        False  no_outliers_scaled  \n",
       "2cf7ea6b-1bc6-4ae5-abc0-7e79caf0a0b0        False  no_outliers_scaled  \n",
       "f79bf077-efc2-4ca5-9dd5-9ae5d7c6dd56        False  no_outliers_scaled  \n",
       "d0c4d707-5fa4-403b-82bd-cb5259db35dc        False  no_outliers_scaled  \n",
       "109969e4-54b6-4146-b834-f7a0bf53ecda        False  no_outliers_scaled  \n",
       "989710d1-228a-43da-8584-1872bd0f598a        False  no_outliers_scaled  \n",
       "862403ec-6668-4f8a-9f5b-519636b0dbe8        False  no_outliers_scaled  \n",
       "7e6bdd21-13e6-4a2e-ae38-2b6e07ab3947        False  no_outliers_scaled  "
      ]
     },
     "execution_count": 23,
     "metadata": {},
     "output_type": "execute_result"
    }
   ],
   "source": [
    "exp_df.sort_values('min_train_val_gap', ascending = True).head(10)"
   ]
  },
  {
   "cell_type": "code",
   "execution_count": 24,
   "metadata": {},
   "outputs": [],
   "source": [
    "exp_parameters = exp_metadata['5bfa52f8-e8c6-4899-963d-3ebd80be60f9']"
   ]
  },
  {
   "cell_type": "code",
   "execution_count": 25,
   "metadata": {},
   "outputs": [
    {
     "data": {
      "text/plain": [
       "{'parameters': {'window_size': 120,\n",
       "  'step_size': 40,\n",
       "  'batch_size': 32,\n",
       "  'hidden_dim1': 50,\n",
       "  'hidden_dim2': 100,\n",
       "  'dropout': 0.2,\n",
       "  'layer_norm_flag': False,\n",
       "  'loss_function': 'L1Loss',\n",
       "  'lr': 0.001,\n",
       "  'num_epochs': 52},\n",
       " 'min_train_loss': 0.2222,\n",
       " 'min_val_loss': 0.348,\n",
       " 'min_train_val_gap': 0.1235,\n",
       " 'epochs_trained': 44,\n",
       " 'results_file': '../results/5bfa52f8-e8c6-4899-963d-3ebd80be60f9_history.pkl',\n",
       " 'timestamp': '2024-04-16 00:52:07.473140',\n",
       " 'rolling_avg': False,\n",
       " 'feature_columns': ['ul_bitrate'],\n",
       " 'dataset_used': 'no_outliers_scaled'}"
      ]
     },
     "execution_count": 25,
     "metadata": {},
     "output_type": "execute_result"
    }
   ],
   "source": [
    "exp_parameters"
   ]
  },
  {
   "cell_type": "code",
   "execution_count": 26,
   "metadata": {},
   "outputs": [],
   "source": [
    "exp_hist = load_history_with_pickle('../results/5bfa52f8-e8c6-4899-963d-3ebd80be60f9_history.pkl')"
   ]
  },
  {
   "cell_type": "markdown",
   "metadata": {},
   "source": [
    "### Plot training validation loss"
   ]
  },
  {
   "cell_type": "code",
   "execution_count": 27,
   "metadata": {},
   "outputs": [
    {
     "data": {
      "image/png": "[encoded data removed]",
      "text/plain": [
       "<Figure size 1000x500 with 1 Axes>"
      ]
     },
     "metadata": {},
     "output_type": "display_data"
    }
   ],
   "source": [
    "plot_train_val_loss(exp_hist.train_losses, exp_hist.val_losses)"
   ]
  },
  {
   "cell_type": "markdown",
   "metadata": {},
   "source": [
    "### Plot rec loss as scatterplot"
   ]
  },
  {
   "cell_type": "code",
   "execution_count": null,
   "metadata": {},
   "outputs": [],
   "source": [
    "test_batch_size = 1\n",
    "benign_test_data_loader, mal_test_data_loader = create_test_ds_loaders(\n",
    "    benign_data, \n",
    "    malicious_data, \n",
    "    120, \n",
    "    30, \n",
    "    features = ['ul_bitrate'], \n",
    "    batch_size = test_batch_size\n",
    ")"
   ]
  },
  {
   "cell_type": "code",
   "execution_count": null,
   "metadata": {},
   "outputs": [],
   "source": [
    "rae_model = LSTMAutoencoder(\n",
    "    input_dim = len(exp_parameters['feature_columns']), \n",
    "    hidden_dim1 = exp_parameters['parameters']['hidden_dim1'], \n",
    "    hidden_dim2 = exp_parameters['parameters']['hidden_dim2'], \n",
    "    output_dim = len(exp_parameters['feature_columns']), \n",
    "    dropout = exp_parameters['parameters']['dropout'], \n",
    "    layer_norm_flag = exp_parameters['parameters']['layer_norm_flag']\n",
    ")\n",
    "\n",
    "rae_model.load_state_dict(exp_hist.model_weights)\n",
    "rae_model.to(device)\n",
    "\n",
    "criterion = nn.L1Loss() if exp_parameters['parameters']['loss_function'] == 'L1Loss' else nn.MSELoss()"
   ]
  },
  {
   "cell_type": "code",
   "execution_count": null,
   "metadata": {},
   "outputs": [],
   "source": [
    "benign_test_losses, mal_test_losses = evaluate(rae_model, criterion, benign_test_data_loader, mal_test_data_loader, device)"
   ]
  },
  {
   "cell_type": "code",
   "execution_count": null,
   "metadata": {},
   "outputs": [],
   "source": [
    "plot_scatter_plot_rec_loss(benign_test_losses, mal_test_losses)"
   ]
  },
  {
   "cell_type": "markdown",
   "metadata": {},
   "source": [
    "### Plot Roc Curve"
   ]
  },
  {
   "cell_type": "code",
   "execution_count": null,
   "metadata": {},
   "outputs": [],
   "source": [
    "fpr, tpr, thresholds, roc_auc, optimal_threshold = calculate_threshold(benign_test_losses, mal_test_losses)"
   ]
  },
  {
   "cell_type": "code",
   "execution_count": null,
   "metadata": {},
   "outputs": [],
   "source": [
    "plot_roc_curve(fpr, tpr, thresholds , roc_auc)"
   ]
  },
  {
   "cell_type": "markdown",
   "metadata": {},
   "source": [
    "### Threshold selection & Inference"
   ]
  },
  {
   "cell_type": "code",
   "execution_count": null,
   "metadata": {},
   "outputs": [],
   "source": [
    "optimal_threshold"
   ]
  },
  {
   "cell_type": "code",
   "execution_count": null,
   "metadata": {},
   "outputs": [],
   "source": [
    "accuracy, precision, recall, f1, tp_rate, tn_rate, fp_rate, fn_rate = infer(benign_test_losses, mal_test_losses, optimal_threshold)"
   ]
  },
  {
   "cell_type": "markdown",
   "metadata": {},
   "source": [
    "### Reconstructed Time Series Visualization"
   ]
  },
  {
   "cell_type": "code",
   "execution_count": null,
   "metadata": {},
   "outputs": [],
   "source": [
    "ue_benign_df = benign_data[\n",
    "    benign_data['imeisv'] == 8628490433231157\n",
    "].copy()\n",
    "\n",
    "ue_malicious_df = malicious_data[\n",
    "    malicious_data['imeisv'] == 8628490433231157\n",
    "].copy()"
   ]
  },
  {
   "cell_type": "code",
   "execution_count": null,
   "metadata": {},
   "outputs": [],
   "source": [
    "ue_benign_data_loader, ue_mal_data_loader = create_test_ds_loaders(\n",
    "    ue_benign_df, \n",
    "    ue_malicious_df, \n",
    "    120, \n",
    "    120, \n",
    "    features = ['ul_bitrate'], \n",
    "    batch_size = 1\n",
    ")"
   ]
  },
  {
   "cell_type": "code",
   "execution_count": null,
   "metadata": {},
   "outputs": [],
   "source": [
    "ue_benign_rec = torch.cat([*map(lambda x: rae_model(x[0].to(device)).view(-1), ue_benign_data_loader)]).to('cpu').detach().numpy()\n",
    "ue_benign = torch.cat([batch.view(-1) for batch, _ in ue_benign_data_loader]).to('cpu').detach().numpy()\n",
    "\n",
    "ue_mal_rec = torch.cat([*map(lambda x: rae_model(x[0].to(device)).view(-1), ue_mal_data_loader)]).to('cpu').detach().numpy()\n",
    "ue_mal = torch.cat([batch.view(-1) for batch, _ in ue_mal_data_loader]).to('cpu').detach().numpy()"
   ]
  },
  {
   "cell_type": "code",
   "execution_count": null,
   "metadata": {},
   "outputs": [],
   "source": [
    "plot_ts(ue_benign, ue_benign_rec, 'True Benign', 'Benign rec', range = [-5, 5])"
   ]
  },
  {
   "cell_type": "code",
   "execution_count": null,
   "metadata": {},
   "outputs": [],
   "source": [
    "plot_ts(ue_mal, ue_mal_rec, 'True Malicious', 'Malicious rec', range = [None, None])"
   ]
  }
 ],
 "metadata": {
  "kernelspec": {
   "display_name": "privateer_venv",
   "language": "python",
   "name": "privateer_venv"
  },
  "language_info": {
   "codemirror_mode": {
    "name": "ipython",
    "version": 3
   },
   "file_extension": ".py",
   "mimetype": "text/x-python",
   "name": "python",
   "nbconvert_exporter": "python",
   "pygments_lexer": "ipython3",
   "version": "3.8.10"
  }
 },
 "nbformat": 4,
 "nbformat_minor": 4
}
