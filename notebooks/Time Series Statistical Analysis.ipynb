{
 "cells": [
  {
   "cell_type": "code",
   "execution_count": null,
   "metadata": {},
   "outputs": [],
   "source": [
    "import pandas as pd\n",
    "import numpy as np\n",
    "import plotly.express as px\n",
    "\n",
    "from tqdm import tqdm\n",
    "\n",
    "import os\n",
    "import random\n",
    "\n",
    "import sys\n",
    "sys.path.append('../')\n",
    "\n",
    "from dataloader.dataloader import *\n",
    "from training.training import *\n",
    "from models.rae import *\n",
    "from utils.utils import *\n",
    "from visualizations.visualizations import *\n",
    "from evaluation.evaluation import *"
   ]
  },
  {
   "cell_type": "code",
   "execution_count": null,
   "metadata": {},
   "outputs": [],
   "source": [
    "data_folder = \"../Data/Data v5\"\n",
    "df = pd.read_csv(os.path.join(data_folder, \"amari_ue_data_final_v5_no_outliers_scaled.csv\"))\n",
    "df = df.sort_values([\"imeisv\", \"_time\"], ascending = True)\n",
    "\n",
    "benign_data_starting_point = \"2024-03-20 14:14:50.19\"\n",
    "benign_data_ending_point = \"2024-03-23 16:26:19.00\"\n",
    "\n",
    "\n",
    "filter_1 = (df['_time'].between(benign_data_starting_point, benign_data_ending_point))\n",
    "filter_2 = (~df['imeisv'].isin(['8642840401594200', '8642840401612300','8642840401624200','3557821101183501']))\n",
    "\n",
    "df.drop(df[filter_1 & filter_2].index, inplace = True)\n",
    "benign_data = df[df['label'] == 0].copy()\n",
    "benign_data = benign_data.sort_values(['imeisv','_time'])\n",
    "print(benign_data.shape[0])\n",
    "malicious_data = df[df['label'] == 1].copy()\n",
    "malicious_data = malicious_data.sort_values(['imeisv','_time'])\n",
    "print(malicious_data.shape[0])"
   ]
  },
  {
   "cell_type": "code",
   "execution_count": null,
   "metadata": {},
   "outputs": [],
   "source": [
    "feature_columns = [\n",
    "    'dl_bitrate','ul_bitrate', \n",
    "    'cell_x_dl_retx', 'cell_x_dl_tx',\n",
    "    'cell_x_ul_retx', 'cell_x_ul_tx',\n",
    "    'ul_total_bytes_non_incr', 'dl_total_bytes_non_incr'\n",
    "    ]"
   ]
  },
  {
   "cell_type": "markdown",
   "metadata": {},
   "source": [
    "### Intra vs Inter class variability"
   ]
  },
  {
   "cell_type": "code",
   "execution_count": null,
   "metadata": {},
   "outputs": [],
   "source": [
    "def calculate_euclidean_distances(batch1, batch2, num_of_features):\n",
    "    batch1_reshaped = batch1.view(-1, num_of_features)\n",
    "    batch2_reshaped = batch2.view(-1, num_of_features)\n",
    "    \n",
    "    if batch1_reshaped.shape != batch2_reshaped.shape:\n",
    "        return np.NaN\n",
    "    \n",
    "    distances = torch.zeros(num_of_features)\n",
    "    \n",
    "    for i in range(num_of_features):\n",
    "        distances[i] = torch.norm(batch1_reshaped[:, i] - batch2_reshaped[:, i], p=2)\n",
    "        \n",
    "    return distances"
   ]
  },
  {
   "cell_type": "code",
   "execution_count": null,
   "metadata": {},
   "outputs": [],
   "source": [
    "test_batch_size = 10\n",
    "benign_data_loader, mal_data_loader = create_test_ds_loaders(\n",
    "    benign_data, \n",
    "    malicious_data, \n",
    "    120, \n",
    "    30, \n",
    "    features = feature_columns, \n",
    "    batch_size = test_batch_size\n",
    ")"
   ]
  },
  {
   "cell_type": "code",
   "execution_count": null,
   "metadata": {},
   "outputs": [],
   "source": [
    "benign_data = [*map(lambda x: x[0], benign_data_loader)]\n",
    "mal_data = [*map(lambda x: x[0], mal_data_loader)]\n",
    "benign_data_sampled = random.sample(benign_data, len(mal_data))"
   ]
  },
  {
   "cell_type": "code",
   "execution_count": null,
   "metadata": {},
   "outputs": [],
   "source": [
    "num_of_features = len(feature_columns)"
   ]
  },
  {
   "cell_type": "code",
   "execution_count": null,
   "metadata": {},
   "outputs": [],
   "source": [
    "%%time\n",
    "\n",
    "A = torch.zeros((len(benign_data), len(benign_data_sampled), num_of_features))\n",
    "\n",
    "for i, benign_i in enumerate(benign_data):\n",
    "    for j, benign_j in enumerate(benign_data_sampled):\n",
    "        if i != j:\n",
    "            A[i, j] = calculate_euclidean_distances(benign_i, benign_j, num_of_features)"
   ]
  },
  {
   "cell_type": "code",
   "execution_count": null,
   "metadata": {},
   "outputs": [],
   "source": [
    "%%time\n",
    "\n",
    "B = torch.zeros((len(benign_data), len(mal_data), num_of_features))\n",
    "\n",
    "for i, benign_tensor in enumerate(benign_data):\n",
    "    for j, mal_tensor in enumerate(mal_data):\n",
    "        B[i, j] = calculate_euclidean_distances(benign_tensor, mal_tensor, num_of_features)"
   ]
  },
  {
   "cell_type": "code",
   "execution_count": null,
   "metadata": {},
   "outputs": [],
   "source": [
    "A.shape, B.shape"
   ]
  },
  {
   "cell_type": "code",
   "execution_count": null,
   "metadata": {},
   "outputs": [],
   "source": [
    "matrices_A = [A[:,:,i].numpy().copy() for i in range(num_of_features)]\n",
    "matrices_B = [B[:,:,i].numpy().copy() for i in range(num_of_features)]"
   ]
  },
  {
   "cell_type": "code",
   "execution_count": null,
   "metadata": {},
   "outputs": [],
   "source": [
    "forb_norm_matrices_A = [*map(lambda X: np.linalg.norm(X[:-1,:-1], 'fro'), matrices_A)] \n",
    "forb_norm_matrices_B = [*map(lambda X: np.linalg.norm(X[:-1,:-1], 'fro'), matrices_B)] "
   ]
  },
  {
   "cell_type": "code",
   "execution_count": null,
   "metadata": {},
   "outputs": [],
   "source": [
    "for num, (a,b) in enumerate(zip(forb_norm_matrices_A, forb_norm_matrices_B)):\n",
    "    print(f\"feature {feature_columns[num]}, within class variability:{format(a, '.2f')}, intra class variability:{format(b, '.2f')}\")"
   ]
  },
  {
   "cell_type": "markdown",
   "metadata": {},
   "source": [
    "### Numerical Analysis of NN outputs"
   ]
  },
  {
   "cell_type": "code",
   "execution_count": null,
   "metadata": {},
   "outputs": [],
   "source": [
    "import torch.nn as nn\n",
    "import torch"
   ]
  },
  {
   "cell_type": "code",
   "execution_count": null,
   "metadata": {},
   "outputs": [],
   "source": [
    "benign_test_data_loader, mal_test_data_loader = create_test_ds_loaders(benign_data, malicious_data, 120, 120, ['ul_bitrate'], 32)"
   ]
  },
  {
   "cell_type": "code",
   "execution_count": null,
   "metadata": {},
   "outputs": [],
   "source": [
    "benign_ts_data = torch.cat([batch[0] for batch in [*benign_test_data_loader]])\n",
    "mal_ts_data = torch.cat([batch[0] for batch in [*mal_test_data_loader]], dim=0)\n",
    "\n",
    "benign_ts_data_norm1 = np.linalg.norm(benign_ts_data, ord=1, axis = 1)\n",
    "benign_ts_data_norm2 = np.linalg.norm(benign_ts_data, axis = 1)\n",
    "\n",
    "mal_ts_data_norm1 = np.linalg.norm(mal_ts_data, ord=1, axis = 1)\n",
    "mal_ts_data_norm1_sampled = np.random.choice(mal_ts_data_norm1, size=benign_ts_data_norm1.shape[0])\n",
    "\n",
    "mal_ts_data_norm2 = np.linalg.norm(mal_ts_data, axis = 1)\n",
    "mal_ts_data_norm2_sampled = np.random.choice(mal_ts_data_norm2, size=benign_ts_data_norm2.shape[0])"
   ]
  },
  {
   "cell_type": "code",
   "execution_count": null,
   "metadata": {},
   "outputs": [],
   "source": [
    "plot_dist(benign_ts_data_norm1, mal_ts_data_norm1_sampled, 'Distribution of Benign & Malicious TS Data Norm1', x_axis_range = [None, None])"
   ]
  },
  {
   "cell_type": "code",
   "execution_count": null,
   "metadata": {},
   "outputs": [],
   "source": [
    "#plot_dist(benign_ts_data_norm2, mal_ts_data_norm2_sampled, 'Distribution of Benign & Malicious TS Data Norm2', x_axis_range = [None, None])"
   ]
  },
  {
   "cell_type": "code",
   "execution_count": null,
   "metadata": {},
   "outputs": [],
   "source": [
    "if torch.cuda.is_available():\n",
    "    device = torch.device(\"cuda\")\n",
    "    print(\"CUDA is available. Training on GPU.\")\n",
    "else:\n",
    "    device = torch.device(\"cpu\")\n",
    "    print(\"CUDA is not available. Training on CPU.\")\n",
    "\n",
    "random_model = LSTMAutoencoder(\n",
    "    input_dim = 1, \n",
    "    hidden_dim1 = 50, \n",
    "    hidden_dim2 = 100, \n",
    "    output_dim = 1,\n",
    "    dropout = 0.2,\n",
    "    layer_norm_flag = False\n",
    ")"
   ]
  },
  {
   "cell_type": "code",
   "execution_count": null,
   "metadata": {},
   "outputs": [],
   "source": [
    "random_model.to(device)\n",
    "random_model.eval()\n",
    "\n",
    "with torch.no_grad(): \n",
    "    benign_random_model_outputs = []\n",
    "    for instance in benign_ts_data:\n",
    "        instance = instance.view(120,1).to(device)\n",
    "        benign_random_model_outputs.append(random_model(instance).view(-1).to('cpu').numpy())\n",
    "\n",
    "with torch.no_grad():  \n",
    "    mal_random_model_outputs = []\n",
    "    for instance in mal_ts_data:\n",
    "        instance = instance.view(120,1).to(device)\n",
    "        mal_random_model_outputs.append(random_model(instance).view(-1).to('cpu').numpy())"
   ]
  },
  {
   "cell_type": "code",
   "execution_count": null,
   "metadata": {},
   "outputs": [],
   "source": [
    "benign_ts_random_model_out_norm1 = np.linalg.norm(np.array(benign_random_model_outputs), ord=1, axis = 1)\n",
    "mal_ts_random_model_out_norm1 = np.linalg.norm(np.array(mal_random_model_outputs), ord=1, axis = 1)\n",
    "mal_ts_random_model_out_norm1_sampled = np.random.choice(mal_ts_random_model_out_norm1, size=benign_ts_random_model_out_norm1.shape[0])\n",
    "\n",
    "benign_ts_random_model_out_norm2 = np.linalg.norm(np.array(benign_random_model_outputs), axis = 1)\n",
    "mal_ts_random_model_out_norm2 = np.linalg.norm(np.array(mal_random_model_outputs), axis = 1)\n",
    "mal_ts_random_model_out_norm2_sampled = np.random.choice(mal_ts_random_model_out_norm2, size=benign_ts_random_model_out_norm2.shape[0])"
   ]
  },
  {
   "cell_type": "code",
   "execution_count": null,
   "metadata": {},
   "outputs": [],
   "source": [
    "plot_dist(\n",
    "    benign_ts_random_model_out_norm1, \n",
    "    mal_ts_random_model_out_norm1_sampled, \n",
    "    'Distribution of Benign & Malicious TS Random Model Output Norm1',\n",
    "    nbins = 50, \n",
    "    x_axis_range = [None, None]\n",
    ")"
   ]
  },
  {
   "cell_type": "code",
   "execution_count": null,
   "metadata": {},
   "outputs": [],
   "source": [
    "plot_dist(\n",
    "    benign_ts_random_model_out_norm2, \n",
    "    mal_ts_random_model_out_norm2_sampled, \n",
    "    'Distribution of Benign & Malicious TS Random Model Output Norm2',\n",
    "    nbins = 50, \n",
    "    x_axis_range = [None, None]\n",
    ")"
   ]
  },
  {
   "cell_type": "code",
   "execution_count": null,
   "metadata": {},
   "outputs": [],
   "source": [
    "exp_parameters = {'window_size': 120,\n",
    "    'batch_size': 32,\n",
    "    'hidden_dim1': 25,\n",
    "    'hidden_dim2': 50,\n",
    "    'dropout': 0.2,\n",
    "    'layer_norm_flag': False,\n",
    "    'loss_function': 'L1Loss',\n",
    "    'lr': 0.001,\n",
    "    'num_epochs': 52,\n",
    "    'epochs_trained': 37,\n",
    "    'results_file': './results/17d829f2-3999-4513-9844-462191858daa_history.pkl',\n",
    "    'timestamp': '2024-04-08 23:04:20.306661',\n",
    "    'min_train_loss': 0.085,\n",
    "    'min_val_loss': 0.1056,\n",
    "    'min_train_val_gap': -0.0079\n",
    "}\n",
    "\n",
    "exp_hist = load_history_with_pickle('../results/17d829f2-3999-4513-9844-462191858daa_history.pkl')\n",
    "\n",
    "model = LSTMAutoencoder(\n",
    "    input_dim = 1, \n",
    "    hidden_dim1 = exp_parameters['hidden_dim1'], \n",
    "    hidden_dim2 = exp_parameters['hidden_dim2'], \n",
    "    output_dim = 1,\n",
    "    dropout = exp_parameters['dropout'],\n",
    "    layer_norm_flag = exp_parameters['layer_norm_flag']\n",
    ")\n",
    "model.load_state_dict(exp_hist.model_weights)\n",
    "model.to(device)\n",
    "\n",
    "criterion = nn.L1Loss() if exp_parameters['loss_function'] == 'L1Loss' else nn.MSELoss()"
   ]
  },
  {
   "cell_type": "code",
   "execution_count": null,
   "metadata": {},
   "outputs": [],
   "source": [
    "model.to(device)\n",
    "model.eval()\n",
    "\n",
    "with torch.no_grad(): \n",
    "    benign_data_model_outputs = []\n",
    "    for instance in benign_ts_data:\n",
    "        instance = instance.view(120,1).to(device)\n",
    "        benign_data_model_outputs.append(model(instance).view(-1).to('cpu').numpy())\n",
    "        \n",
    "with torch.no_grad():  \n",
    "    mal_data_model_outputs = []\n",
    "    for instance in mal_ts_data:\n",
    "        instance = instance.view(120,1).to(device)\n",
    "        mal_data_model_outputs.append(model(instance).view(-1).to('cpu').numpy())      "
   ]
  },
  {
   "cell_type": "code",
   "execution_count": null,
   "metadata": {},
   "outputs": [],
   "source": [
    "benign_ts_model_out_norm1 = np.linalg.norm(np.array(benign_data_model_outputs), ord=1, axis = 1)\n",
    "benign_ts_model_out_norm2 = np.linalg.norm(np.array(benign_data_model_outputs), axis = 1)\n",
    "\n",
    "\n",
    "mal_ts_model_out_norm1 = np.linalg.norm(np.array(mal_data_model_outputs), ord=1, axis = 1)\n",
    "mal_ts_model_out_norm2 = np.linalg.norm(np.array(mal_data_model_outputs), axis = 1)\n",
    "\n",
    "mal_ts_model_out_norm1_sampled = np.random.choice(mal_ts_model_out_norm1, size=benign_ts_model_out_norm1.shape[0])\n",
    "mal_ts_model_out_norm2_sampled = np.random.choice(mal_ts_model_out_norm2, size=benign_ts_model_out_norm2.shape[0])"
   ]
  },
  {
   "cell_type": "code",
   "execution_count": null,
   "metadata": {},
   "outputs": [],
   "source": [
    "plot_dist(\n",
    "    benign_ts_model_out_norm1, \n",
    "    mal_ts_model_out_norm1_sampled, \n",
    "    'Distribution of Benign & Malicious TS Trained Model Output Norm1',\n",
    "    nbins = 50, \n",
    "    x_axis_range = [None, None]\n",
    ")"
   ]
  },
  {
   "cell_type": "code",
   "execution_count": null,
   "metadata": {},
   "outputs": [],
   "source": [
    "plot_dist(\n",
    "    benign_ts_model_out_norm2, \n",
    "    mal_ts_model_out_norm2_sampled, \n",
    "    'Distribution of Benign & Malicious TS Trained Model Output Norm2',\n",
    "    nbins = 50, \n",
    "    x_axis_range = [None, None]\n",
    ")"
   ]
  }
 ],
 "metadata": {
  "kernelspec": {
   "display_name": "privateer_venv",
   "language": "python",
   "name": "privateer_venv"
  },
  "language_info": {
   "codemirror_mode": {
    "name": "ipython",
    "version": 3
   },
   "file_extension": ".py",
   "mimetype": "text/x-python",
   "name": "python",
   "nbconvert_exporter": "python",
   "pygments_lexer": "ipython3",
   "version": "3.10.8"
  },
  "varInspector": {
   "cols": {
    "lenName": 16,
    "lenType": 16,
    "lenVar": 40
   },
   "kernels_config": {
    "python": {
     "delete_cmd_postfix": "",
     "delete_cmd_prefix": "del ",
     "library": "var_list.py",
     "varRefreshCmd": "print(var_dic_list())"
    },
    "r": {
     "delete_cmd_postfix": ") ",
     "delete_cmd_prefix": "rm(",
     "library": "var_list.r",
     "varRefreshCmd": "cat(var_dic_list()) "
    }
   },
   "types_to_exclude": [
    "module",
    "function",
    "builtin_function_or_method",
    "instance",
    "_Feature"
   ],
   "window_display": false
  }
 },
 "nbformat": 4,
 "nbformat_minor": 2
}
