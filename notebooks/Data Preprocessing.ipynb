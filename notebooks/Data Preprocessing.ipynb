{
 "cells": [
  {
   "cell_type": "code",
   "execution_count": null,
   "metadata": {},
   "outputs": [],
   "source": [
    "import pandas as pd\n",
    "import numpy as np\n",
    "\n",
    "from sklearn.preprocessing import StandardScaler\n",
    "\n",
    "import os\n",
    "import sys\n",
    "sys.path.append('../')\n",
    "\n",
    "from dataloader.dataloader import *\n",
    "from training.training import *\n",
    "from utils.utils import *\n",
    "from visualizations.visualizations import *\n",
    "from evaluation.evaluation import *"
   ]
  },
  {
   "cell_type": "code",
   "execution_count": null,
   "metadata": {},
   "outputs": [],
   "source": [
    "data_folder = \"../Data/Data v5\"\n",
    "\n",
    "df = pd.read_csv(os.path.join(data_folder, \"amari_ue_data_final_v5.csv\"))\n",
    "df = df.sort_values([\"imeisv\", \"_time\"], ascending = True)"
   ]
  },
  {
   "cell_type": "code",
   "execution_count": null,
   "metadata": {},
   "outputs": [],
   "source": [
    "df['imeisv'] = df['imeisv'].astype(str)"
   ]
  },
  {
   "cell_type": "code",
   "execution_count": null,
   "metadata": {},
   "outputs": [],
   "source": [
    "feature_columns = [\n",
    "    'dl_bitrate','ul_bitrate', \n",
    "    'cell_x_dl_retx', 'cell_x_dl_tx',\n",
    "    'cell_x_ul_retx', 'cell_x_ul_tx',\n",
    "    'ul_total_bytes_non_incr', 'dl_total_bytes_non_incr'\n",
    "    ]\n",
    "\n",
    "store_columns = ['_time', 'imeisv'] + feature_columns"
   ]
  },
  {
   "cell_type": "markdown",
   "metadata": {},
   "source": [
    "### Apply Smoothing"
   ]
  },
  {
   "cell_type": "code",
   "execution_count": null,
   "metadata": {},
   "outputs": [],
   "source": [
    "imeisv_df_for_ma = {}\n",
    "\n",
    "for imeisv, imeisv_df in df.groupby('imeisv'):\n",
    "    imeisv_df[feature_columns] = imeisv_df[feature_columns].rolling(window=10).mean()\n",
    "\n",
    "    imeisv_df_for_ma[str(imeisv)] = imeisv_df\n",
    "            \n",
    "imeisv_ma_df = pd.concat(list(imeisv_df_for_ma.values()))"
   ]
  },
  {
   "cell_type": "code",
   "execution_count": null,
   "metadata": {},
   "outputs": [],
   "source": [
    "imeisv_ma_df.to_csv(os.path.join(data_folder, \"amari_ue_data_final_v5_smoothed.csv\"), index = False)"
   ]
  },
  {
   "cell_type": "markdown",
   "metadata": {},
   "source": [
    "### Scaling TS"
   ]
  },
  {
   "cell_type": "code",
   "execution_count": null,
   "metadata": {},
   "outputs": [],
   "source": [
    "imeisv_dfs_scaled = {}\n",
    "\n",
    "for imeisv, imeisv_df in df.groupby('imeisv'):\n",
    "    scaler = StandardScaler()\n",
    "    \n",
    "    scaled_data = scaler.fit_transform(imeisv_df[feature_columns])\n",
    "    imeisv_df[feature_columns] = scaled_data\n",
    "        \n",
    "    imeisv_dfs_scaled[imeisv] = imeisv_df"
   ]
  },
  {
   "cell_type": "code",
   "execution_count": null,
   "metadata": {},
   "outputs": [],
   "source": [
    "final_df = pd.concat(list(imeisv_dfs_scaled.values()))"
   ]
  },
  {
   "cell_type": "code",
   "execution_count": null,
   "metadata": {},
   "outputs": [],
   "source": [
    "final_df.to_csv(os.path.join(data_folder, \"amari_ue_data_final_v5_smoothed_scaled.csv\"), index = False)"
   ]
  },
  {
   "cell_type": "markdown",
   "metadata": {},
   "source": [
    "### Scaling TS (separately)"
   ]
  },
  {
   "cell_type": "code",
   "execution_count": null,
   "metadata": {},
   "outputs": [],
   "source": [
    "imeisv_df_no_outliers_scaled_sep = {}\n",
    "\n",
    "for imeisv, df in imeisv_df_for_ma.items():\n",
    "    benign_df = df[df['label'] == 0].copy()\n",
    "    malicious_df = df[df['label'] == 1].copy()\n",
    "    \n",
    "    benign_scaler = StandardScaler()\n",
    "    malicious_scaler = StandardScaler()\n",
    "    \n",
    "    scaled_benign_data = benign_scaler.fit_transform(benign_df[feature_columns])\n",
    "    benign_df[feature_columns] = scaled_benign_data\n",
    "    \n",
    "    if malicious_df.shape[0] > 0:\n",
    "        scaled_malicious_data = malicious_scaler.fit_transform(malicious_df[feature_columns])\n",
    "        malicious_df[feature_columns] = scaled_malicious_data\n",
    "    \n",
    "    imeisv_df_no_outliers_scaled_sep[imeisv] = pd.concat(\n",
    "        [benign_df,malicious_df], axis = 0\n",
    "        ).sort_values(['imeisv','_time'], ascending= True)"
   ]
  },
  {
   "cell_type": "code",
   "execution_count": null,
   "metadata": {},
   "outputs": [],
   "source": [
    "final_df = pd.concat(list(imeisv_df_no_outliers_scaled_sep.values()))"
   ]
  },
  {
   "cell_type": "code",
   "execution_count": null,
   "metadata": {},
   "outputs": [],
   "source": [
    "final_df.to_csv(os.path.join(data_folder, \"amari_ue_data_final_v5_smoothed_scaled_sep.csv\"), index = False)"
   ]
  }
 ],
 "metadata": {
  "kernelspec": {
   "display_name": "privateer_venv",
   "language": "python",
   "name": "privateer_venv"
  },
  "language_info": {
   "codemirror_mode": {
    "name": "ipython",
    "version": 3
   },
   "file_extension": ".py",
   "mimetype": "text/x-python",
   "name": "python",
   "nbconvert_exporter": "python",
   "pygments_lexer": "ipython3",
   "version": "3.10.8"
  }
 },
 "nbformat": 4,
 "nbformat_minor": 2
}
