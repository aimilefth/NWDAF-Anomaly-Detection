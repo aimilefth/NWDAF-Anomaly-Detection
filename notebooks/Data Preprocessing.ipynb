{
 "cells": [
  {
   "cell_type": "code",
   "execution_count": null,
   "metadata": {},
   "outputs": [],
   "source": [
    "import pandas as pd\n",
    "import numpy as np\n",
    "\n",
    "from sklearn.preprocessing import StandardScaler\n",
    "\n",
    "import os\n",
    "from hampel import hampel\n",
    "import sys\n",
    "sys.path.append('../')\n",
    "\n",
    "from dataloader.dataloader import *\n",
    "from training.training import *\n",
    "from utils.utils import *\n",
    "from visualizations.visualizations import *\n",
    "from evaluation.evaluation import *"
   ]
  },
  {
   "cell_type": "code",
   "execution_count": null,
   "metadata": {},
   "outputs": [],
   "source": [
    "data_folder = \"../Data/Data v5\"\n",
    "\n",
    "df = pd.read_csv(os.path.join(data_folder, \"amari_ue_data_final_v5.csv\"))\n",
    "df = df.sort_values([\"imeisv\", \"_time\"], ascending = True)"
   ]
  },
  {
   "cell_type": "code",
   "execution_count": null,
   "metadata": {},
   "outputs": [],
   "source": [
    "feature_columns = [\n",
    "    'dl_bitrate','ul_bitrate', \n",
    "    'cell_x_dl_retx', 'cell_x_dl_tx',\n",
    "    'cell_x_ul_retx', 'cell_x_ul_tx',\n",
    "    'ul_total_bytes_non_incr', 'dl_total_bytes_non_incr'\n",
    "    ]\n",
    "\n",
    "store_columns = ['_time', 'imeisv'] + feature_columns"
   ]
  },
  {
   "cell_type": "markdown",
   "metadata": {},
   "source": [
    "### Remove Outliers using Hampel filter"
   ]
  },
  {
   "cell_type": "code",
   "execution_count": null,
   "metadata": {},
   "outputs": [],
   "source": [
    "%%time\n",
    "\n",
    "window_size = 10\n",
    "n_sigma = 3.0\n",
    "\n",
    "imeisv_df_no_outliers = {}\n",
    "\n",
    "for imeisv, imeisv_df in df.groupby('imeisv'):\n",
    "    imeisv_df = imeisv_df[['_time', 'imeisv'] + feature_columns + ['label']].copy()\n",
    "    \n",
    "    for col in feature_columns:\n",
    "        filter_result = hampel(imeisv_df[col], window_size=window_size, n_sigma=n_sigma)\n",
    "        imeisv_df[col] = filter_result.filtered_data.values\n",
    "        \n",
    "    imeisv_df_no_outliers[str(imeisv)] = imeisv_df"
   ]
  },
  {
   "cell_type": "code",
   "execution_count": null,
   "metadata": {},
   "outputs": [],
   "source": [
    "final_df = pd.concat(list(imeisv_df_no_outliers.values()))"
   ]
  },
  {
   "cell_type": "code",
   "execution_count": null,
   "metadata": {},
   "outputs": [],
   "source": [
    "final_df.to_csv(os.path.join(data_folder, \"amari_ue_data_final_v5_no_outliers.csv\"), index = False)"
   ]
  },
  {
   "cell_type": "markdown",
   "metadata": {},
   "source": [
    "### Scaling TS"
   ]
  },
  {
   "cell_type": "code",
   "execution_count": null,
   "metadata": {},
   "outputs": [],
   "source": [
    "imeisv_df_no_outliers_scaled = {}\n",
    "\n",
    "for imeisv, df in imeisv_df_no_outliers.items():\n",
    "    scaler = StandardScaler()\n",
    "    \n",
    "    scaled_data = scaler.fit_transform(df[feature_columns])\n",
    "    df[feature_columns] = scaled_data\n",
    "        \n",
    "    imeisv_df_no_outliers_scaled[imeisv] = df"
   ]
  },
  {
   "cell_type": "code",
   "execution_count": null,
   "metadata": {},
   "outputs": [],
   "source": [
    "final_df = pd.concat(list(imeisv_df_no_outliers_scaled.values()))"
   ]
  },
  {
   "cell_type": "code",
   "execution_count": null,
   "metadata": {},
   "outputs": [],
   "source": [
    "final_df.to_csv(os.path.join(data_folder, \"amari_ue_data_final_v5_no_outliers_scaled.csv\"), index = False)"
   ]
  },
  {
   "cell_type": "markdown",
   "metadata": {},
   "source": [
    "### Scaling TS (separately)"
   ]
  },
  {
   "cell_type": "code",
   "execution_count": null,
   "metadata": {},
   "outputs": [],
   "source": [
    "imeisv_df_no_outliers_scaled_sep = {}\n",
    "\n",
    "for imeisv, df in imeisv_df_no_outliers.items():\n",
    "    benign_df = df[df['label'] == 0].copy()\n",
    "    malicious_df = df[df['label'] == 1].copy()\n",
    "    \n",
    "    benign_scaler = StandardScaler()\n",
    "    malicious_scaler = StandardScaler()\n",
    "    \n",
    "    scaled_benign_data = benign_scaler.fit_transform(benign_df[feature_columns])\n",
    "    benign_df[feature_columns] = scaled_benign_data\n",
    "    \n",
    "    if malicious_df.shape[0] > 0:\n",
    "        scaled_malicious_data = malicious_scaler.fit_transform(malicious_df[feature_columns])\n",
    "        malicious_df[feature_columns] = scaled_malicious_data\n",
    "    \n",
    "    imeisv_df_no_outliers_scaled_sep[imeisv] = pd.concat(\n",
    "        [benign_df,malicious_df], axis = 0\n",
    "        ).sort_values(['imeisv','_time'], ascending= True)"
   ]
  },
  {
   "cell_type": "code",
   "execution_count": null,
   "metadata": {},
   "outputs": [],
   "source": [
    "final_df = pd.concat(list(imeisv_df_no_outliers_scaled_sep.values()))"
   ]
  },
  {
   "cell_type": "code",
   "execution_count": null,
   "metadata": {},
   "outputs": [],
   "source": [
    "final_df.to_csv(os.path.join(data_folder, \"amari_ue_data_final_v5_no_outliers_scaled_sep.csv\"), index = False)"
   ]
  }
 ],
 "metadata": {
  "kernelspec": {
   "display_name": "privateer_venv",
   "language": "python",
   "name": "privateer_venv"
  },
  "language_info": {
   "codemirror_mode": {
    "name": "ipython",
    "version": 3
   },
   "file_extension": ".py",
   "mimetype": "text/x-python",
   "name": "python",
   "nbconvert_exporter": "python",
   "pygments_lexer": "ipython3",
   "version": "3.10.8"
  },
  "varInspector": {
   "cols": {
    "lenName": 16,
    "lenType": 16,
    "lenVar": 40
   },
   "kernels_config": {
    "python": {
     "delete_cmd_postfix": "",
     "delete_cmd_prefix": "del ",
     "library": "var_list.py",
     "varRefreshCmd": "print(var_dic_list())"
    },
    "r": {
     "delete_cmd_postfix": ") ",
     "delete_cmd_prefix": "rm(",
     "library": "var_list.r",
     "varRefreshCmd": "cat(var_dic_list()) "
    }
   },
   "types_to_exclude": [
    "module",
    "function",
    "builtin_function_or_method",
    "instance",
    "_Feature"
   ],
   "window_display": false
  }
 },
 "nbformat": 4,
 "nbformat_minor": 2
}
